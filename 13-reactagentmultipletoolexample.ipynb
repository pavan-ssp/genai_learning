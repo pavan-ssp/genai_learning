{
 "cells": [
  {
   "cell_type": "code",
   "execution_count": 1,
   "id": "679bab35",
   "metadata": {},
   "outputs": [],
   "source": [
    "from langchain_groq import ChatGroq\n",
    "llm = ChatGroq(\n",
    "    model_name=\"deepseek-r1-distill-llama-70b\",\n",
    "    temperature=0\n",
    ")\n",
    "response=llm.invoke(\"what is length of wall of china?\")"
   ]
  },
  {
   "cell_type": "code",
   "execution_count": 2,
   "id": "7bb101fb",
   "metadata": {},
   "outputs": [
    {
     "data": {
      "text/plain": [
       "AIMessage(content=\"<think>\\nOkay, so I need to figure out the length of the Great Wall of China. I remember hearing that it's really long, but I'm not exactly sure how long. I think it's somewhere in the thousands of kilometers, but I'm not certain. Let me try to break this down.\\n\\nFirst, I know the Great Wall is a series of fortifications built across several Chinese dynasties. It wasn't built all at once, so maybe that's why the length can vary. I've heard different numbers before, like 13,000 miles or something like that, but I'm not sure if that's accurate.\\n\\nI should consider the different dynasties and how much each contributed to the wall. The Qin Dynasty, I think, was the first to build a long version of the wall, but it was probably not as extensive as later versions. Then the Han Dynasty might have extended it further. The most famous parts were probably built during the Ming Dynasty, which was much later.\\n\\nI also remember that the wall isn't a single continuous structure. There are sections that are broken, and some parts have been destroyed over time. So, when measuring the length, do they include all the separate sections, or just the main ones? That could affect the total length.\\n\\nI think in recent years, there was a survey done using more accurate methods like GPS and satellites. Maybe that survey gave a more precise measurement than the older estimates. I believe the number was around 13,170 miles, but I'm not 100% sure. I should check if that's the most recent figure or if there's a newer one.\\n\\nAlso, the wall's condition varies a lot. Some parts are well-preserved and touristy, while others are overgrown or in ruins. I wonder if the length includes all sections, regardless of their condition, or only the parts that are still standing.\\n\\nAnother thing to consider is that the wall was built for different purposes in different areas. In some places, it's more about defense, and in others, it might have been used for controlling trade routes. This could mean that the wall's construction and length varied based on strategic needs.\\n\\nI'm also thinking about how the wall is measured. Is it just the outer edges, or do they include all the watchtowers and beacon towers? Those structures might add to the overall length, but I'm not sure if they're included in the measurements.\\n\\nWait, I think the 13,170-mile figure includes all the branches and spurs, not just the main wall. That makes sense because the wall isn't a straight line; it has many turns and branches. So, adding all those up would give a longer total length.\\n\\nI should also consider the units. Sometimes people use kilometers instead of miles, so I need to make sure I'm consistent. 13,170 miles converts to about 21,200 kilometers. That seems really long, but considering the wall spans across mountains and valleys, it might add up.\\n\\nI'm trying to remember if there's any controversy or debate about the exact length. I think some sources might underestimate or overestimate based on how they define the wall's boundaries. For example, some might only count the parts built during a specific dynasty, while others include all historical versions.\\n\\nIn summary, I think the most commonly cited length is around 13,170 miles or 21,196 kilometers, which includes all the sections, branches, and spurs. This figure comes from a more recent survey that used advanced technology to measure the wall more accurately than older estimates.\\n</think>\\n\\nThe Great Wall of China's total length is approximately 13,170 miles (21,196 kilometers). This measurement includes all the branches, spurs, and sections of the wall, as determined by a recent survey using advanced technologies like GPS and satellites. The wall, constructed over several dynasties, is not a single continuous structure but a series of fortifications with varying conditions and purposes. The most accurate and commonly cited figure accounts for all these factors, providing a comprehensive length that reflects the wall's extensive and complex history.\", additional_kwargs={}, response_metadata={'token_usage': {'completion_tokens': 835, 'prompt_tokens': 11, 'total_tokens': 846, 'completion_time': 3.467426776, 'prompt_time': 0.000299836, 'queue_time': 0.060449274000000004, 'total_time': 3.467726612}, 'model_name': 'deepseek-r1-distill-llama-70b', 'system_fingerprint': 'fp_76307ac09b', 'service_tier': 'on_demand', 'finish_reason': 'stop', 'logprobs': None}, id='run--9a5b20ca-ae71-4467-97bc-aa4d70dd4950-0', usage_metadata={'input_tokens': 11, 'output_tokens': 835, 'total_tokens': 846})"
      ]
     },
     "execution_count": 2,
     "metadata": {},
     "output_type": "execute_result"
    }
   ],
   "source": [
    "response"
   ]
  },
  {
   "cell_type": "code",
   "execution_count": 3,
   "id": "b2fb5410",
   "metadata": {},
   "outputs": [
    {
     "data": {
      "text/plain": [
       "\"<think>\\nOkay, so I need to figure out the length of the Great Wall of China. I remember hearing that it's really long, but I'm not exactly sure how long. I think it's somewhere in the thousands of kilometers, but I'm not certain. Let me try to break this down.\\n\\nFirst, I know the Great Wall is a series of fortifications built across several Chinese dynasties. It wasn't built all at once, so maybe that's why the length can vary. I've heard different numbers before, like 13,000 miles or something like that, but I'm not sure if that's accurate.\\n\\nI should consider the different dynasties and how much each contributed to the wall. The Qin Dynasty, I think, was the first to build a long version of the wall, but it was probably not as extensive as later versions. Then the Han Dynasty might have extended it further. The most famous parts were probably built during the Ming Dynasty, which was much later.\\n\\nI also remember that the wall isn't a single continuous structure. There are sections that are broken, and some parts have been destroyed over time. So, when measuring the length, do they include all the separate sections, or just the main ones? That could affect the total length.\\n\\nI think in recent years, there was a survey done using more accurate methods like GPS and satellites. Maybe that survey gave a more precise measurement than the older estimates. I believe the number was around 13,170 miles, but I'm not 100% sure. I should check if that's the most recent figure or if there's a newer one.\\n\\nAlso, the wall's condition varies a lot. Some parts are well-preserved and touristy, while others are overgrown or in ruins. I wonder if the length includes all sections, regardless of their condition, or only the parts that are still standing.\\n\\nAnother thing to consider is that the wall was built for different purposes in different areas. In some places, it's more about defense, and in others, it might have been used for controlling trade routes. This could mean that the wall's construction and length varied based on strategic needs.\\n\\nI'm also thinking about how the wall is measured. Is it just the outer edges, or do they include all the watchtowers and beacon towers? Those structures might add to the overall length, but I'm not sure if they're included in the measurements.\\n\\nWait, I think the 13,170-mile figure includes all the branches and spurs, not just the main wall. That makes sense because the wall isn't a straight line; it has many turns and branches. So, adding all those up would give a longer total length.\\n\\nI should also consider the units. Sometimes people use kilometers instead of miles, so I need to make sure I'm consistent. 13,170 miles converts to about 21,200 kilometers. That seems really long, but considering the wall spans across mountains and valleys, it might add up.\\n\\nI'm trying to remember if there's any controversy or debate about the exact length. I think some sources might underestimate or overestimate based on how they define the wall's boundaries. For example, some might only count the parts built during a specific dynasty, while others include all historical versions.\\n\\nIn summary, I think the most commonly cited length is around 13,170 miles or 21,196 kilometers, which includes all the sections, branches, and spurs. This figure comes from a more recent survey that used advanced technology to measure the wall more accurately than older estimates.\\n</think>\\n\\nThe Great Wall of China's total length is approximately 13,170 miles (21,196 kilometers). This measurement includes all the branches, spurs, and sections of the wall, as determined by a recent survey using advanced technologies like GPS and satellites. The wall, constructed over several dynasties, is not a single continuous structure but a series of fortifications with varying conditions and purposes. The most accurate and commonly cited figure accounts for all these factors, providing a comprehensive length that reflects the wall's extensive and complex history.\""
      ]
     },
     "execution_count": 3,
     "metadata": {},
     "output_type": "execute_result"
    }
   ],
   "source": [
    "response.content"
   ]
  },
  {
   "cell_type": "code",
   "execution_count": 4,
   "id": "48003fc0",
   "metadata": {},
   "outputs": [],
   "source": [
    "from langchain.tools import tool"
   ]
  },
  {
   "cell_type": "markdown",
   "id": "f7c630b7",
   "metadata": {},
   "source": [
    "##  custom tools"
   ]
  },
  {
   "cell_type": "code",
   "execution_count": 5,
   "id": "04591555",
   "metadata": {},
   "outputs": [],
   "source": [
    "from langchain.tools import tool\n",
    "\n",
    "@tool\n",
    "def multiply(a: int, b: int) -> int:\n",
    "    \"\"\"\n",
    "    Multiply two integers.\n",
    "\n",
    "    Args:\n",
    "        a (int): The first integer.\n",
    "        b (int): The second integer.\n",
    "\n",
    "    Returns:\n",
    "        int: The product of a and b.\n",
    "    \"\"\"\n",
    "    return a * b\n",
    "\n",
    "@tool\n",
    "def add(a: int, b: int) -> int:\n",
    "    \"\"\"\n",
    "    Add two integers.\n",
    "\n",
    "    Args:\n",
    "        a (int): The first integer.\n",
    "        b (int): The second integer.\n",
    "\n",
    "    Returns:\n",
    "        int: The sum of a and b.\n",
    "    \"\"\"\n",
    "    return a + b\n",
    "\n",
    "@tool\n",
    "def divide(a: int, b: int) -> float:\n",
    "    \"\"\"\n",
    "    Divide two integers.\n",
    "\n",
    "    Args:\n",
    "        a (int): The numerator.\n",
    "        b (int): The denominator (must not be 0).\n",
    "\n",
    "    Returns:\n",
    "        float: The result of division.\n",
    "    \"\"\"\n",
    "    if b == 0:\n",
    "        raise ValueError(\"Denominator cannot be zero.\")\n",
    "    return a / b"
   ]
  },
  {
   "cell_type": "markdown",
   "id": "1cb01373",
   "metadata": {},
   "source": [
    "## importing the inbuilt tool"
   ]
  },
  {
   "cell_type": "code",
   "execution_count": 9,
   "id": "efa08c9b",
   "metadata": {},
   "outputs": [],
   "source": [
    "from langchain_community.tools import DuckDuckGoSearchRun\n",
    "search = DuckDuckGoSearchRun()"
   ]
  },
  {
   "cell_type": "code",
   "execution_count": 10,
   "id": "f023b851",
   "metadata": {},
   "outputs": [
    {
     "name": "stderr",
     "output_type": "stream",
     "text": [
      "c:\\Users\\chand\\anaconda3\\envs\\langgraph_env\\lib\\site-packages\\langchain_community\\utilities\\duckduckgo_search.py:63: RuntimeWarning: This package (`duckduckgo_search`) has been renamed to `ddgs`! Use `pip install ddgs` instead.\n",
      "  with DDGS() as ddgs:\n"
     ]
    },
    {
     "data": {
      "text/plain": [
       "\"按我个人的理解，latest 这个词强调的是时间序列上最靠近现在，而 newest 强调的是新旧的问题。 比如说，苹果的 newest 产品，毫无疑问是 Mac Pro，这是去年才出现的东西，以前是没有的。 而苹果 … Breaking news from Hong Kong, China and Asia including geopolitics, diplomacy, economy, technology, lifestyle, entertainment and sport. Latest China news, opinions and analysis, covering Xi Jinping, Beijing's relations with Taiwan and China's tensions with the US. Hong Kong’s push for stablecoins and tokenised assets aims to solve global economic challenges, positioning the city as a leading fintech hub. 13 Jul 2025 - 12:00PMvideocam Stablecoins News, opinions, infographics and videos on China issues: geopolitics, diplomacy, economy, technology and lifestyle.\""
      ]
     },
     "execution_count": 10,
     "metadata": {},
     "output_type": "execute_result"
    }
   ],
   "source": [
    "search.invoke(\"what is the latest update on iphone17 release?\")"
   ]
  },
  {
   "cell_type": "code",
   "execution_count": 11,
   "id": "ad128b65",
   "metadata": {},
   "outputs": [],
   "source": [
    "tools=[multiply, add, divide, search]"
   ]
  },
  {
   "cell_type": "code",
   "execution_count": 12,
   "id": "421035d3",
   "metadata": {},
   "outputs": [],
   "source": [
    "llm_with_tools=llm.bind_tools(tools)"
   ]
  },
  {
   "cell_type": "code",
   "execution_count": 13,
   "id": "61b011c5",
   "metadata": {},
   "outputs": [],
   "source": [
    "response=llm_with_tools.invoke(\"hi\")"
   ]
  },
  {
   "cell_type": "code",
   "execution_count": 14,
   "id": "2a593ba5",
   "metadata": {},
   "outputs": [
    {
     "data": {
      "text/plain": [
       "'Hello! How can I assist you today?'"
      ]
     },
     "execution_count": 14,
     "metadata": {},
     "output_type": "execute_result"
    }
   ],
   "source": [
    "response.content"
   ]
  },
  {
   "cell_type": "code",
   "execution_count": 15,
   "id": "f3386263",
   "metadata": {},
   "outputs": [
    {
     "data": {
      "text/plain": [
       "[]"
      ]
     },
     "execution_count": 15,
     "metadata": {},
     "output_type": "execute_result"
    }
   ],
   "source": [
    "response.tool_calls"
   ]
  },
  {
   "cell_type": "code",
   "execution_count": 16,
   "id": "cddc8481",
   "metadata": {},
   "outputs": [],
   "source": [
    "response=llm_with_tools.invoke(\"what is 2+2?\")"
   ]
  },
  {
   "cell_type": "code",
   "execution_count": 17,
   "id": "88ff081c",
   "metadata": {},
   "outputs": [
    {
     "data": {
      "text/plain": [
       "''"
      ]
     },
     "execution_count": 17,
     "metadata": {},
     "output_type": "execute_result"
    }
   ],
   "source": [
    "response.content"
   ]
  },
  {
   "cell_type": "code",
   "execution_count": 18,
   "id": "c948b7a8",
   "metadata": {},
   "outputs": [
    {
     "data": {
      "text/plain": [
       "[{'name': 'add',\n",
       "  'args': {'a': 2, 'b': 2},\n",
       "  'id': 'm99077dw9',\n",
       "  'type': 'tool_call'}]"
      ]
     },
     "execution_count": 18,
     "metadata": {},
     "output_type": "execute_result"
    }
   ],
   "source": [
    "response.tool_calls"
   ]
  },
  {
   "cell_type": "code",
   "execution_count": 19,
   "id": "94e16aa8",
   "metadata": {},
   "outputs": [],
   "source": [
    "response=llm_with_tools.invoke(\"what is 10/2?\")"
   ]
  },
  {
   "cell_type": "code",
   "execution_count": 20,
   "id": "71bf7720",
   "metadata": {},
   "outputs": [
    {
     "data": {
      "text/plain": [
       "''"
      ]
     },
     "execution_count": 20,
     "metadata": {},
     "output_type": "execute_result"
    }
   ],
   "source": [
    "response.content"
   ]
  },
  {
   "cell_type": "code",
   "execution_count": 21,
   "id": "edbf5270",
   "metadata": {},
   "outputs": [
    {
     "data": {
      "text/plain": [
       "[{'name': 'divide',\n",
       "  'args': {'a': 10, 'b': 2},\n",
       "  'id': '8fx33cm2j',\n",
       "  'type': 'tool_call'}]"
      ]
     },
     "execution_count": 21,
     "metadata": {},
     "output_type": "execute_result"
    }
   ],
   "source": [
    "response.tool_calls"
   ]
  },
  {
   "cell_type": "code",
   "execution_count": 22,
   "id": "f51dea4a",
   "metadata": {},
   "outputs": [],
   "source": [
    "response=llm_with_tools.invoke(\"what is a current age of the TATA Group?\")"
   ]
  },
  {
   "cell_type": "code",
   "execution_count": 23,
   "id": "ea327090",
   "metadata": {},
   "outputs": [
    {
     "data": {
      "text/plain": [
       "AIMessage(content='', additional_kwargs={'reasoning_content': \"Okay, so I need to figure out the current age of the TATA Group. I'm not exactly sure how old they are, but I know they're a big company, probably been around for a while. Let me think about how to approach this.\\n\\nFirst, I should probably look up when the TATA Group was founded. I remember hearing that it's an Indian company, and it's been in existence for over a century. Maybe I can find the exact year it was established. Once I have the founding year, I can subtract that from the current year to get the age.\\n\\nWait, but I'm not sure about the exact founding date. I think it was in the late 1800s or early 1900s. Let me try to recall. I believe it was founded by Jamsetji Tata. I think the group started with a textile mill, and then expanded into other industries like steel and hospitality.\\n\\nSo, if I can find the founding year, I can calculate the age. Let's say, for example, it was founded in 1868. That would make it 155 years old in 2023. But I'm not entirely certain about the exact year. Maybe I should double-check that.\\n\\nAlternatively, I could use a tool to look up the information. Since I have access to the DuckDuckGo search function, I can use that to find the exact founding date of the TATA Group. That would give me the precise year and help me calculate the current age accurately.\\n\\nOnce I have the correct founding year, subtracting it from 2023 should give me the age. For instance, if it was founded in 1868, then 2023 minus 1868 equals 155 years. That seems reasonable, but I want to make sure the founding year is accurate.\\n\\nI should also consider if the company has undergone any significant changes or restructurings that might affect its age calculation. But generally, the founding year is the key factor in determining a company's age.\\n\\nIn summary, my approach is to find the founding year of the TATA Group using the DuckDuckGo search tool, then subtract that year from the current year to determine its age.\\n\", 'tool_calls': [{'id': 'tkmaggq05', 'function': {'arguments': '{\"query\":\"founding year of TATA Group\"}', 'name': 'duckduckgo_search'}, 'type': 'function'}]}, response_metadata={'token_usage': {'completion_tokens': 518, 'prompt_tokens': 402, 'total_tokens': 920, 'completion_time': 2.183929026, 'prompt_time': 0.025932011, 'queue_time': 0.053830768, 'total_time': 2.209861037}, 'model_name': 'deepseek-r1-distill-llama-70b', 'system_fingerprint': 'fp_76307ac09b', 'service_tier': 'on_demand', 'finish_reason': 'tool_calls', 'logprobs': None}, id='run--75330524-182e-4d59-9c2b-97bc644169b7-0', tool_calls=[{'name': 'duckduckgo_search', 'args': {'query': 'founding year of TATA Group'}, 'id': 'tkmaggq05', 'type': 'tool_call'}], usage_metadata={'input_tokens': 402, 'output_tokens': 518, 'total_tokens': 920})"
      ]
     },
     "execution_count": 23,
     "metadata": {},
     "output_type": "execute_result"
    }
   ],
   "source": [
    "response"
   ]
  },
  {
   "cell_type": "code",
   "execution_count": 24,
   "id": "1c900d48",
   "metadata": {},
   "outputs": [
    {
     "data": {
      "text/plain": [
       "''"
      ]
     },
     "execution_count": 24,
     "metadata": {},
     "output_type": "execute_result"
    }
   ],
   "source": [
    "response.content"
   ]
  },
  {
   "cell_type": "code",
   "execution_count": 25,
   "id": "97fff490",
   "metadata": {},
   "outputs": [
    {
     "data": {
      "text/plain": [
       "[{'name': 'duckduckgo_search',\n",
       "  'args': {'query': 'founding year of TATA Group'},\n",
       "  'id': 'tkmaggq05',\n",
       "  'type': 'tool_call'}]"
      ]
     },
     "execution_count": 25,
     "metadata": {},
     "output_type": "execute_result"
    }
   ],
   "source": [
    "response.tool_calls"
   ]
  },
  {
   "cell_type": "code",
   "execution_count": 39,
   "id": "e5bc403c",
   "metadata": {},
   "outputs": [],
   "source": [
    "SYSTEM_PROMPT=\"You are a helpful assistant tasked with using search and performing arithmetic on a set of inputs.\""
   ]
  },
  {
   "cell_type": "code",
   "execution_count": 40,
   "id": "f2b2e6b0",
   "metadata": {},
   "outputs": [],
   "source": [
    "user_query=[\"tell me what is 2+2\"]"
   ]
  },
  {
   "cell_type": "code",
   "execution_count": 41,
   "id": "ae6ecc00",
   "metadata": {},
   "outputs": [
    {
     "data": {
      "text/plain": [
       "['You are a helpful assistant tasked with using search and performing arithmetic on a set of inputs.',\n",
       " 'tell me what is 2+2']"
      ]
     },
     "execution_count": 41,
     "metadata": {},
     "output_type": "execute_result"
    }
   ],
   "source": [
    "[SYSTEM_PROMPT]+user_query"
   ]
  },
  {
   "cell_type": "code",
   "execution_count": 42,
   "id": "b42b04fa",
   "metadata": {},
   "outputs": [],
   "source": [
    "from langchain_core.messages import HumanMessage, SystemMessage\n",
    "from langgraph.graph import MessagesState,StateGraph, END, START"
   ]
  },
  {
   "cell_type": "code",
   "execution_count": 43,
   "id": "0f615c4b",
   "metadata": {},
   "outputs": [],
   "source": [
    "def function_1(state:MessagesState):\n",
    "    \n",
    "    user_question=state[\"messages\"]\n",
    "    \n",
    "    input_question = [SYSTEM_PROMPT]+user_question\n",
    "    \n",
    "    response = llm_with_tools.invoke(input_question)\n",
    "    \n",
    "    return {\n",
    "        \"messages\":[response]\n",
    "    }\n",
    "    \n",
    "    "
   ]
  },
  {
   "cell_type": "code",
   "execution_count": 44,
   "id": "91a8034a",
   "metadata": {},
   "outputs": [],
   "source": [
    "builder=StateGraph(MessagesState)"
   ]
  },
  {
   "cell_type": "code",
   "execution_count": 45,
   "id": "77ef9546",
   "metadata": {},
   "outputs": [
    {
     "data": {
      "text/plain": [
       "<langgraph.graph.state.StateGraph at 0x242d6f82d10>"
      ]
     },
     "execution_count": 45,
     "metadata": {},
     "output_type": "execute_result"
    }
   ],
   "source": [
    "builder.add_node(\"llm_decision_step\",function_1)"
   ]
  },
  {
   "cell_type": "code",
   "execution_count": 46,
   "id": "2ab29687",
   "metadata": {},
   "outputs": [
    {
     "data": {
      "text/plain": [
       "[StructuredTool(name='multiply', description='Multiply two integers.\\n\\nArgs:\\n    a (int): The first integer.\\n    b (int): The second integer.\\n\\nReturns:\\n    int: The product of a and b.', args_schema=<class 'langchain_core.utils.pydantic.multiply'>, func=<function multiply at 0x00000242D5621900>),\n",
       " StructuredTool(name='add', description='Add two integers.\\n\\nArgs:\\n    a (int): The first integer.\\n    b (int): The second integer.\\n\\nReturns:\\n    int: The sum of a and b.', args_schema=<class 'langchain_core.utils.pydantic.add'>, func=<function add at 0x00000242D317E830>),\n",
       " StructuredTool(name='divide', description='Divide two integers.\\n\\nArgs:\\n    a (int): The numerator.\\n    b (int): The denominator (must not be 0).\\n\\nReturns:\\n    float: The result of division.', args_schema=<class 'langchain_core.utils.pydantic.divide'>, func=<function divide at 0x00000242D57029E0>),\n",
       " DuckDuckGoSearchRun(api_wrapper=DuckDuckGoSearchAPIWrapper(region='wt-wt', safesearch='moderate', time='y', max_results=5, backend='auto', source='text'))]"
      ]
     },
     "execution_count": 46,
     "metadata": {},
     "output_type": "execute_result"
    }
   ],
   "source": [
    "tools"
   ]
  },
  {
   "cell_type": "code",
   "execution_count": 47,
   "id": "7b664a94",
   "metadata": {},
   "outputs": [
    {
     "data": {
      "text/plain": [
       "<langgraph.graph.state.StateGraph at 0x242d6f82d10>"
      ]
     },
     "execution_count": 47,
     "metadata": {},
     "output_type": "execute_result"
    }
   ],
   "source": [
    "from langgraph.prebuilt import ToolNode\n",
    "builder.add_node(\"tools\",ToolNode(tools))"
   ]
  },
  {
   "cell_type": "code",
   "execution_count": 48,
   "id": "c963789f",
   "metadata": {},
   "outputs": [
    {
     "data": {
      "text/plain": [
       "<langgraph.graph.state.StateGraph at 0x242d6f82d10>"
      ]
     },
     "execution_count": 48,
     "metadata": {},
     "output_type": "execute_result"
    }
   ],
   "source": [
    "builder.add_edge(START,\"llm_decision_step\")"
   ]
  },
  {
   "cell_type": "code",
   "execution_count": 49,
   "id": "c077f64f",
   "metadata": {},
   "outputs": [
    {
     "data": {
      "text/plain": [
       "<langgraph.graph.state.StateGraph at 0x242d6f82d10>"
      ]
     },
     "execution_count": 49,
     "metadata": {},
     "output_type": "execute_result"
    }
   ],
   "source": [
    "from langgraph.prebuilt import tools_condition\n",
    "builder.add_conditional_edges(\n",
    "    \"llm_decision_step\",\n",
    "    tools_condition,\n",
    ")\n",
    "#instead of router function as earlier we can use in-built tools_condition function"
   ]
  },
  {
   "cell_type": "code",
   "execution_count": 50,
   "id": "4c9b8671",
   "metadata": {},
   "outputs": [
    {
     "data": {
      "text/plain": [
       "<langgraph.graph.state.StateGraph at 0x242d6f82d10>"
      ]
     },
     "execution_count": 50,
     "metadata": {},
     "output_type": "execute_result"
    }
   ],
   "source": [
    "builder.add_edge(\"tools\",\"llm_decision_step\")"
   ]
  },
  {
   "cell_type": "code",
   "execution_count": 51,
   "id": "38555966",
   "metadata": {},
   "outputs": [],
   "source": [
    "react_graph=builder.compile()"
   ]
  },
  {
   "cell_type": "code",
   "execution_count": 52,
   "id": "810234ed",
   "metadata": {},
   "outputs": [
    {
     "data": {
      "image/png": "[encoded data removed]",
      "text/plain": [
       "<IPython.core.display.Image object>"
      ]
     },
     "metadata": {},
     "output_type": "display_data"
    }
   ],
   "source": [
    "from IPython.display import Image, display\n",
    "display(Image(react_graph.get_graph().draw_mermaid_png()))"
   ]
  },
  {
   "cell_type": "code",
   "execution_count": 53,
   "id": "8d710e3d",
   "metadata": {},
   "outputs": [],
   "source": [
    "message=[HumanMessage(content=\"What is 2 times of narendramodi's age?\")]"
   ]
  },
  {
   "cell_type": "code",
   "execution_count": 54,
   "id": "2e42ea05",
   "metadata": {},
   "outputs": [
    {
     "name": "stderr",
     "output_type": "stream",
     "text": [
      "c:\\Users\\chand\\anaconda3\\envs\\langgraph_env\\lib\\site-packages\\langchain_community\\utilities\\duckduckgo_search.py:63: RuntimeWarning: This package (`duckduckgo_search`) has been renamed to `ddgs`! Use `pip install ddgs` instead.\n",
      "  with DDGS() as ddgs:\n"
     ]
    },
    {
     "data": {
      "text/plain": [
       "{'messages': [HumanMessage(content=\"What is 2 times of narendramodi's age?\", additional_kwargs={}, response_metadata={}, id='418d3359-f9f7-4f91-b72e-4ee768fe7c64'),\n",
       "  AIMessage(content='', additional_kwargs={'reasoning_content': 'Okay, so the user is asking, \"What is 2 times of narendramodi\\'s age?\" First, I need to figure out what exactly they\\'re asking for. It seems like they want to multiply Narendra Modi\\'s age by 2. \\n\\nTo do that, I need to find out how old Narendra Modi is. I don\\'t have that information off the top of my head, so I should use the DuckDuckGo search tool to look it up. \\n\\nI\\'ll call the duckduckgo_search function with the query \"Narendra Modi age\" to get the most accurate and up-to-date information. Once I have his age, I can then use the multiply function to calculate 2 times his age.\\n\\nI should make sure to handle any potential issues, like if the search doesn\\'t return a clear age or if there\\'s an error in the multiplication. But assuming everything goes smoothly, I\\'ll present the result clearly to the user.\\n', 'tool_calls': [{'id': 'msey1dxdr', 'function': {'arguments': '{\"query\":\"Narendra Modi age\"}', 'name': 'duckduckgo_search'}, 'type': 'function'}]}, response_metadata={'token_usage': {'completion_tokens': 329, 'prompt_tokens': 423, 'total_tokens': 752, 'completion_time': 1.202413125, 'prompt_time': 0.035324138, 'queue_time': 0.053587452, 'total_time': 1.237737263}, 'model_name': 'deepseek-r1-distill-llama-70b', 'system_fingerprint': 'fp_76307ac09b', 'service_tier': 'on_demand', 'finish_reason': 'tool_calls', 'logprobs': None}, id='run--23e477cf-ade0-40b4-8a74-6590e55202f9-0', tool_calls=[{'name': 'duckduckgo_search', 'args': {'query': 'Narendra Modi age'}, 'id': 'msey1dxdr', 'type': 'tool_call'}], usage_metadata={'input_tokens': 423, 'output_tokens': 329, 'total_tokens': 752}),\n",
       "  ToolMessage(content='Sep 17, 2024 · Learn about the life and achievements of Narendra Modi, the 14th Prime Minister of India, who was born on September 17, 1950, in Gujarat. Find out his full name, mother, father, … Sep 17, 2024 · Prime Minister Narendra Modi turns 74: Leaders and politicians extend birthday wishes to PM on his 74th birthday, with various events planned. Nov 15, 2024 · Early Life and Struggles Narendra Modi was born into a humble family of the Modh-Ghanchi-Teli caste, categorized as OBC in India. As a child, Modi helped his father sell … 5 days ago · Bookmark stories for easy access on any device or the Swarajya app. Prime Minister Narendra Modi, Home Minister Amit Shah and RSS chief Mohan Bhagwat. Rashtriya … 2 days ago · Viewed from this angle, the timing of his remarks on the retirement age for politicians is curious and intriguing. By asking the leaders to hang up their boots when they …', name='duckduckgo_search', id='51342139-c94e-4efd-a102-3f5f4ebef446', tool_call_id='msey1dxdr'),\n",
       "  AIMessage(content='', additional_kwargs={'reasoning_content': 'Alright, so the user is asking, \"What is 2 times of narendramodi\\'s age?\" First, I need to figure out Narendra Modi\\'s current age. I remember that he was born on September 17, 1950. \\n\\nTo find his age in 2024, I subtract 1950 from 2024, which gives me 74 years. Now, the user wants twice that age, so I need to multiply 74 by 2. \\n\\nI\\'ll use the multiply function for this. The function requires two integers, so I\\'ll pass 74 and 2 as arguments. \\n\\nAfter performing the multiplication, I\\'ll have the result, which is 148. I should present this clearly to the user.\\n', 'tool_calls': [{'id': '0crrrdr7j', 'function': {'arguments': '{\"a\":74,\"b\":2}', 'name': 'multiply'}, 'type': 'function'}]}, response_metadata={'token_usage': {'completion_tokens': 177, 'prompt_tokens': 698, 'total_tokens': 875, 'completion_time': 0.643636364, 'prompt_time': 0.053018471, 'queue_time': 0.053608239, 'total_time': 0.696654835}, 'model_name': 'deepseek-r1-distill-llama-70b', 'system_fingerprint': 'fp_76307ac09b', 'service_tier': 'on_demand', 'finish_reason': 'tool_calls', 'logprobs': None}, id='run--0fd9619d-6bed-41b6-86c5-32c846161215-0', tool_calls=[{'name': 'multiply', 'args': {'a': 74, 'b': 2}, 'id': '0crrrdr7j', 'type': 'tool_call'}], usage_metadata={'input_tokens': 698, 'output_tokens': 177, 'total_tokens': 875}),\n",
       "  ToolMessage(content='148', name='multiply', id='1a944e9c-b20f-4482-a969-9849e2f77591', tool_call_id='0crrrdr7j'),\n",
       "  AIMessage(content='', additional_kwargs={'reasoning_content': 'Alright, so the user is asking, \"What is 2 times of narendramodi\\'s age?\" First, I need to figure out Narendra Modi\\'s current age. I remember that he was born in 1950, but I\\'m not exactly sure of the exact date or his current age. To get accurate information, I\\'ll use the DuckDuckGo search tool to look up his age.\\n\\nAfter searching, I find that Narendra Modi was born on September 17, 1950, and as of the latest information available to me in July 2024, he is 73 years old. Now, the user wants to know 2 times his age, which means I need to multiply his age by 2.\\n\\nSo, I\\'ll use the multiply tool with the arguments a=73 and b=2. Multiplying these together gives me 146. Therefore, 2 times Narendra Modi\\'s age is 146.\\n', 'tool_calls': [{'id': 'ycrhw6bt1', 'function': {'arguments': '{\"a\":73,\"b\":2}', 'name': 'multiply'}, 'type': 'function'}]}, response_metadata={'token_usage': {'completion_tokens': 244, 'prompt_tokens': 752, 'total_tokens': 996, 'completion_time': 0.887272727, 'prompt_time': 0.056365121, 'queue_time': 0.054192709, 'total_time': 0.943637848}, 'model_name': 'deepseek-r1-distill-llama-70b', 'system_fingerprint': 'fp_76307ac09b', 'service_tier': 'on_demand', 'finish_reason': 'tool_calls', 'logprobs': None}, id='run--e02ef620-76dd-41b9-bfc6-69e20db0f5d9-0', tool_calls=[{'name': 'multiply', 'args': {'a': 73, 'b': 2}, 'id': 'ycrhw6bt1', 'type': 'tool_call'}], usage_metadata={'input_tokens': 752, 'output_tokens': 244, 'total_tokens': 996}),\n",
       "  ToolMessage(content='146', name='multiply', id='f4622c5e-8a50-4197-80a2-65fd8e5fcef9', tool_call_id='ycrhw6bt1'),\n",
       "  AIMessage(content=\"The result of multiplying Narendra Modi's age by 2 is 148. \\n\\n**Step-by-Step Explanation:**\\n\\n1. **Find Narendra Modi's Age:**\\n   - Using the DuckDuckGo search tool, we found that Narendra Modi was born on September 17, 1950.\\n   - As of September 17, 2024, he is 74 years old.\\n\\n2. **Multiply the Age by 2:**\\n   - Using the multiply tool with arguments a=74 and b=2, we get the result 148.\\n\\n**Answer:** 148\", additional_kwargs={'reasoning_content': 'Alright, so I need to figure out what 2 times Narendra Modi\\'s age is. First, I should find out how old Narendra Modi is. I remember that he\\'s the Prime Minister of India, and I think he\\'s in his 70s. To get the exact age, I\\'ll use the DuckDuckGo search tool to look up his current age.\\n\\nOkay, I called the DuckDuckGo tool with the query \"Narendra Modi age.\" The results say he was born on September 17, 1950, and as of recent dates like September 17, 2024, he turned 74. So, his age is 74 years old.\\n\\nNow, I need to multiply his age by 2. That means I\\'ll use the multiply tool with the arguments a=74 and b=2. Let me call the multiply function with these values.\\n\\nThe multiply tool returned 148. So, 2 times Narendra Modi\\'s age is 148.\\n\\nWait, I just realized that in the initial response, there was a mention of 73 and 2 giving 146. That might have been a mistake because the correct age is 74. So, the accurate result should be 148, not 146.\\n\\nI should make sure to use the correct age in the multiplication to get the right answer. Therefore, the final answer is 148.\\n'}, response_metadata={'token_usage': {'completion_tokens': 403, 'prompt_tokens': 805, 'total_tokens': 1208, 'completion_time': 1.48657667, 'prompt_time': 0.060906004, 'queue_time': 0.053629393, 'total_time': 1.5474826739999998}, 'model_name': 'deepseek-r1-distill-llama-70b', 'system_fingerprint': 'fp_76307ac09b', 'service_tier': 'on_demand', 'finish_reason': 'stop', 'logprobs': None}, id='run--4bb42ae5-dcc6-4db7-8de9-02bb0833face-0', usage_metadata={'input_tokens': 805, 'output_tokens': 403, 'total_tokens': 1208})]}"
      ]
     },
     "execution_count": 54,
     "metadata": {},
     "output_type": "execute_result"
    }
   ],
   "source": [
    "react_graph.invoke({\"messages\":message})"
   ]
  },
  {
   "cell_type": "code",
   "execution_count": 55,
   "id": "d12d50bc",
   "metadata": {},
   "outputs": [],
   "source": [
    "message = [HumanMessage(content=\"How much is the net worth of Elon Musk, and divide it by 2?\")]"
   ]
  },
  {
   "cell_type": "code",
   "execution_count": 56,
   "id": "b7dc41e6",
   "metadata": {},
   "outputs": [
    {
     "name": "stderr",
     "output_type": "stream",
     "text": [
      "c:\\Users\\chand\\anaconda3\\envs\\langgraph_env\\lib\\site-packages\\langchain_community\\utilities\\duckduckgo_search.py:63: RuntimeWarning: This package (`duckduckgo_search`) has been renamed to `ddgs`! Use `pip install ddgs` instead.\n",
      "  with DDGS() as ddgs:\n",
      "c:\\Users\\chand\\anaconda3\\envs\\langgraph_env\\lib\\site-packages\\langchain_community\\utilities\\duckduckgo_search.py:63: RuntimeWarning: This package (`duckduckgo_search`) has been renamed to `ddgs`! Use `pip install ddgs` instead.\n",
      "  with DDGS() as ddgs:\n"
     ]
    },
    {
     "data": {
      "text/plain": [
       "{'messages': [HumanMessage(content='How much is the net worth of Elon Musk, and divide it by 2?', additional_kwargs={}, response_metadata={}, id='ba569204-ebee-435f-97e9-bf24bdff11c8'),\n",
       "  AIMessage(content='', additional_kwargs={'reasoning_content': \"Alright, so I need to figure out how much Elon Musk's net worth is and then divide that number by 2. First, I don't have the exact figure off the top of my head, so I should probably look it up. I remember that his net worth fluctuates a lot because it's tied to the stock prices of the companies he's involved with, like Tesla and SpaceX.\\n\\nI'll start by using the DuckDuckGo search tool to find the most recent estimate of Elon Musk's net worth. Once I have that number, I'll need to divide it by 2. Since dividing by 2 is the same as finding half of the number, I can use the divide function for this. I should make sure that the number I get from the search is accurate and up-to-date because net worth can change rapidly.\\n\\nAfter obtaining the net worth, I'll input it into the divide function with 2 as the denominator. This will give me the result I need. I should also consider the format of the number—whether it's in millions, billions, etc.—to ensure the division is accurate. Once I have the final result, I'll present it clearly.\\n\", 'tool_calls': [{'id': '3s6c5vjeb', 'function': {'arguments': '{\"query\":\"Elon Musk net worth 2023\"}', 'name': 'duckduckgo_search'}, 'type': 'function'}]}, response_metadata={'token_usage': {'completion_tokens': 376, 'prompt_tokens': 427, 'total_tokens': 803, 'completion_time': 1.367272727, 'prompt_time': 0.034260831, 'queue_time': 0.05339699800000001, 'total_time': 1.4015335580000001}, 'model_name': 'deepseek-r1-distill-llama-70b', 'system_fingerprint': 'fp_76307ac09b', 'service_tier': 'on_demand', 'finish_reason': 'tool_calls', 'logprobs': None}, id='run--4f26d777-a68b-4ccc-99db-c2a15d2704bf-0', tool_calls=[{'name': 'duckduckgo_search', 'args': {'query': 'Elon Musk net worth 2023'}, 'id': '3s6c5vjeb', 'type': 'tool_call'}], usage_metadata={'input_tokens': 427, 'output_tokens': 376, 'total_tokens': 803}),\n",
       "  ToolMessage(content=\"Elon Musk 是 Paypal 最大股东兼CEO。 但是牛人和牛人们的合作很多时候是不顺利的，2000年底，在Elon外出休假度蜜月之时，“反动派”们在公司内推选 Peter Thiel 当CEO，替换掉了Elon。 Elon 很反感他们的 … Apr 29, 2021 · 马斯克全名是Elon Musk，我翻译成“伊隆·马斯克”，而出版后变成了“埃隆·马斯克”。 “埃隆”我也见过，但我还是坚持翻成“伊隆”，道理很简单，因为发音更接近啊！ Elon的音标是 [ɪ'lɒn]，不认识音标的 … 你们认为 elon musk 埃隆马斯克是哪种MBTI 人格？ 请说出你们的看法，最好能用事例/引用他的话来说明。 显示全部 关注者 444 混蛋论：《埃隆·马斯克传》里有这样一段评价我觉得非常合适： 迈克尔当时已经功成名就，他无法忍受马斯克的行为。“他把我当小孩，可我不是小孩，”他说，“我比他大呢。我也经营过一家250亿美元的公司。”所以 … Mar 2, 2025 · 如何看待Elon马斯克表示，美国是时候退出北约和联合国了 ？ 据法国国际广播电台网站报道，马斯克1日晚在社交媒体平台X上表达了对美国退出北约和联合国的支持，他在转发一个写着“是时候退出北约 …\", name='duckduckgo_search', id='b0e7c3e7-71e7-4ddc-b052-1ee6417b0339', tool_call_id='3s6c5vjeb'),\n",
       "  AIMessage(content='', additional_kwargs={'reasoning_content': \"Alright, so the user is asking about Elon Musk's net worth and then dividing it by 2. First, I need to find the current net worth of Elon Musk. I remember that his net worth fluctuates a lot, especially with the stock prices of his companies like Tesla and SpaceX. \\n\\nI'll start by using the DuckDuckGo tool to search for the latest information on his net worth. The search results might give me a figure, but I should make sure it's up-to-date since net worth can change daily. \\n\\nOnce I have the net worth, the next step is to divide it by 2. That seems straightforward, but I need to ensure that the number is accurate. If the net worth is in billions, dividing by 2 will give me half of that amount. \\n\\nI should also consider the format of the response. The user might expect the answer in a specific currency or numerical format. Since the example response used billions, I'll follow that format for consistency.\\n\\nI need to make sure that I'm using the correct function for division. The available tools include a divide function that takes two integers and returns a float. However, if the net worth is a large number, I might need to handle it as an integer to avoid any precision issues.\\n\\nWait, actually, looking back at the tools, the divide function expects two integers. But if the net worth is in the hundreds of billions, it might exceed the integer limit in some programming languages. However, since the tool is designed to handle it as per the given functions, I'll proceed with the divide function.\\n\\nSo, the plan is:\\n1. Use DuckDuckGo to find Elon Musk's current net worth.\\n2. Extract the numerical value from the search result.\\n3. Use the divide function with the extracted value and 2 as arguments.\\n4. Present the result in a clear format, mentioning the units (like billion).\\n\\nI should also be cautious about the sources of the net worth information to ensure accuracy. Reliable sources like Forbes or Bloomberg would be preferable. If the search result doesn't provide a clear number, I might need to estimate based on the most recent data available.\\n\\nAdditionally, I should consider any recent events that might have affected his net worth, such as stock market changes or business deals, to provide the most accurate figure possible.\\n\\nFinally, I'll format the response to clearly show the net worth and the result after dividing by 2, making it easy for the user to understand.\\n\", 'tool_calls': [{'id': 'mjqhh3s9s', 'function': {'arguments': '{\"query\":\"Elon Musk net worth 2023\"}', 'name': 'duckduckgo_search'}, 'type': 'function'}]}, response_metadata={'token_usage': {'completion_tokens': 758, 'prompt_tokens': 867, 'total_tokens': 1625, 'completion_time': 2.981103419, 'prompt_time': 0.063925628, 'queue_time': 0.053685542, 'total_time': 3.045029047}, 'model_name': 'deepseek-r1-distill-llama-70b', 'system_fingerprint': 'fp_76307ac09b', 'service_tier': 'on_demand', 'finish_reason': 'tool_calls', 'logprobs': None}, id='run--f17eb652-a2ce-4fd6-b229-9ba7cbfd174f-0', tool_calls=[{'name': 'duckduckgo_search', 'args': {'query': 'Elon Musk net worth 2023'}, 'id': 'mjqhh3s9s', 'type': 'tool_call'}], usage_metadata={'input_tokens': 867, 'output_tokens': 758, 'total_tokens': 1625}),\n",
       "  ToolMessage(content=\"3 days ago · It was valued at nearly $85 billion by investors Fidelity and Barron in April and March 2025 filings, according to Bloomberg calculations. A 15% liquidity discount is applied. Oct 22, 2024 · As of October 2023, Elon Musk's net worth is a staggering $230 billion, making him one of the richest individuals on the planet. This financial titan's wealth is heavily influenced by … Jun 30, 2025 · Tech mogul Elon Musk has an estimated net worth of $367 billion. His estimated fortune peaked at around $439 billion in December 2024 as Tesla shares soared. Musk often … Nov 16, 2024 · Elon Musk’s net worth is over $242 billion, according to the Forbes real-time billionaires index, making him one of the wealthiest people and the second-richest in the world. May 31, 2025 · As of October 2023, Elon Musk’s net worth is estimated at approximately $230 billion, fluctuating primarily due to changes in Tesla’s stock price and his holdings in …\", name='duckduckgo_search', id='429cc76e-7498-4c30-b366-194f00436925', tool_call_id='mjqhh3s9s'),\n",
       "  AIMessage(content=\"Elon Musk's net worth is approximately $230 billion. Dividing this by 2 gives:\\n\\n$230,000,000,000 ÷ 2 = $115,000,000,000\\n\\nSo, half of Elon Musk's net worth is **$115 billion**.\", additional_kwargs={'reasoning_content': \"Alright, so I need to figure out Elon Musk's net worth and then divide it by 2. First, I'll look up the most recent information on his net worth. From the search results, it seems like his net worth is around $230 billion as of October 2023. \\n\\nNow, I need to divide this number by 2. Dividing by 2 is the same as finding half of the number. So, half of $230 billion is $115 billion. \\n\\nI should make sure that the division is accurate. Since $230 billion divided by 2 equals $115 billion, that seems correct. \\n\\nI don't see any complications here, but I should double-check the net worth figure to ensure it's up-to-date. However, based on the information provided, $115 billion is the correct result after dividing Elon Musk's net worth by 2.\\n\"}, response_metadata={'token_usage': {'completion_tokens': 242, 'prompt_tokens': 1149, 'total_tokens': 1391, 'completion_time': 0.886244818, 'prompt_time': 0.083510228, 'queue_time': 0.06771811599999998, 'total_time': 0.969755046}, 'model_name': 'deepseek-r1-distill-llama-70b', 'system_fingerprint': 'fp_76307ac09b', 'service_tier': 'on_demand', 'finish_reason': 'stop', 'logprobs': None}, id='run--1f68df6c-3806-4218-bf89-09c85a9dd3c5-0', usage_metadata={'input_tokens': 1149, 'output_tokens': 242, 'total_tokens': 1391})]}"
      ]
     },
     "execution_count": 56,
     "metadata": {},
     "output_type": "execute_result"
    }
   ],
   "source": [
    "react_graph.invoke({\"messages\":message})"
   ]
  },
  {
   "cell_type": "code",
   "execution_count": 57,
   "id": "e5e9cb7a",
   "metadata": {},
   "outputs": [],
   "source": [
    "message = [HumanMessage(content=\"What is the speed of light in m/s and multiply it by 10?\")]"
   ]
  },
  {
   "cell_type": "code",
   "execution_count": 58,
   "id": "375ce377",
   "metadata": {},
   "outputs": [],
   "source": [
    "response=react_graph.invoke({\"messages\":message})"
   ]
  },
  {
   "cell_type": "code",
   "execution_count": 59,
   "id": "f3a6a998",
   "metadata": {},
   "outputs": [
    {
     "data": {
      "text/plain": [
       "'The speed of light in meters per second is approximately 299,792,458 m/s. When multiplied by 10, the result is 2,997,924,580 m/s.\\n\\n**Step-by-Step Explanation:**\\n\\n1. **Identify the Speed of Light:** The speed of light in a vacuum is a well-known physical constant, approximately \\\\( 299,792,458 \\\\) meters per second (m/s).\\n\\n2. **Multiply by 10:** To find ten times the speed of light, you multiply the speed by 10.\\n   \\\\[\\n   299,792,458 \\\\, \\\\text{m/s} \\\\times 10 = 2,997,924,580 \\\\, \\\\text{m/s}\\n   \\\\]\\n\\n3. **Present the Result:** The result of multiplying the speed of light by 10 is \\\\( 2,997,924,580 \\\\) m/s.\\n\\nThis calculation is straightforward as it involves a simple multiplication by 10, which merely adds a zero to the end of the number.'"
      ]
     },
     "execution_count": 59,
     "metadata": {},
     "output_type": "execute_result"
    }
   ],
   "source": [
    "response[\"messages\"][-1].content"
   ]
  },
  {
   "cell_type": "code",
   "execution_count": 60,
   "id": "f0f8f663",
   "metadata": {},
   "outputs": [
    {
     "name": "stdout",
     "output_type": "stream",
     "text": [
      "================================\u001b[1m Human Message \u001b[0m=================================\n",
      "\n",
      "What is the speed of light in m/s and multiply it by 10?\n",
      "==================================\u001b[1m Ai Message \u001b[0m==================================\n",
      "Tool Calls:\n",
      "  multiply (dwyph2s5a)\n",
      " Call ID: dwyph2s5a\n",
      "  Args:\n",
      "    a: 299792458\n",
      "    b: 10\n",
      "=================================\u001b[1m Tool Message \u001b[0m=================================\n",
      "Name: multiply\n",
      "\n",
      "2997924580\n",
      "==================================\u001b[1m Ai Message \u001b[0m==================================\n",
      "\n",
      "The speed of light in meters per second is approximately 299,792,458 m/s. When multiplied by 10, the result is 2,997,924,580 m/s.\n",
      "\n",
      "**Step-by-Step Explanation:**\n",
      "\n",
      "1. **Identify the Speed of Light:** The speed of light in a vacuum is a well-known physical constant, approximately \\( 299,792,458 \\) meters per second (m/s).\n",
      "\n",
      "2. **Multiply by 10:** To find ten times the speed of light, you multiply the speed by 10.\n",
      "   \\[\n",
      "   299,792,458 \\, \\text{m/s} \\times 10 = 2,997,924,580 \\, \\text{m/s}\n",
      "   \\]\n",
      "\n",
      "3. **Present the Result:** The result of multiplying the speed of light by 10 is \\( 2,997,924,580 \\) m/s.\n",
      "\n",
      "This calculation is straightforward as it involves a simple multiplication by 10, which merely adds a zero to the end of the number.\n"
     ]
    }
   ],
   "source": [
    "for m in response[\"messages\"]:\n",
    "    m.pretty_print()"
   ]
  },
  {
   "cell_type": "code",
   "execution_count": 61,
   "id": "86a3ce45",
   "metadata": {},
   "outputs": [],
   "source": [
    "import yfinance as yf"
   ]
  },
  {
   "cell_type": "code",
   "execution_count": 62,
   "id": "b94db786",
   "metadata": {},
   "outputs": [],
   "source": [
    "@tool\n",
    "def get_stock_price(ticker:str)->str:\n",
    "    \"\"\"\n",
    "    Fetches the previous closing price of a given stock ticker from Yahoo Finance.\n",
    "\n",
    "    Args:\n",
    "        ticker (str): The stock ticker symbol (e.g., 'AAPL', 'TSLA', 'NIFTY.BO').\n",
    "\n",
    "    Returns:\n",
    "        str: A message with the stock's previous closing price.\n",
    "    \"\"\"\n",
    "    try:\n",
    "        stock = yf.Ticker(ticker)\n",
    "        price = stock.info.get('previousClose')\n",
    "        if price is None:\n",
    "            return f\"Could not fetch price for ticker '{ticker}'.\"\n",
    "        return f\"The last closing price of {ticker.upper()} was ${price:.2f}.\"\n",
    "    except Exception as e:\n",
    "        return f\"An error occurred while fetching stock data: {str(e)}\"\n",
    "     \n",
    "    "
   ]
  },
  {
   "cell_type": "code",
   "execution_count": 63,
   "id": "dbf46a0d",
   "metadata": {},
   "outputs": [
    {
     "data": {
      "text/plain": [
       "'The last closing price of AAPL was $209.11.'"
      ]
     },
     "execution_count": 63,
     "metadata": {},
     "output_type": "execute_result"
    }
   ],
   "source": [
    "get_stock_price.invoke(\"AAPL\")"
   ]
  },
  {
   "cell_type": "code",
   "execution_count": 64,
   "id": "cd3f26ee",
   "metadata": {},
   "outputs": [
    {
     "data": {
      "text/plain": [
       "'The last closing price of TSLA was $310.78.'"
      ]
     },
     "execution_count": 64,
     "metadata": {},
     "output_type": "execute_result"
    }
   ],
   "source": [
    "get_stock_price.invoke(\"TSLA\")"
   ]
  },
  {
   "cell_type": "code",
   "execution_count": 65,
   "id": "f982e69c",
   "metadata": {},
   "outputs": [
    {
     "data": {
      "text/plain": [
       "[StructuredTool(name='multiply', description='Multiply two integers.\\n\\nArgs:\\n    a (int): The first integer.\\n    b (int): The second integer.\\n\\nReturns:\\n    int: The product of a and b.', args_schema=<class 'langchain_core.utils.pydantic.multiply'>, func=<function multiply at 0x00000242D5621900>),\n",
       " StructuredTool(name='add', description='Add two integers.\\n\\nArgs:\\n    a (int): The first integer.\\n    b (int): The second integer.\\n\\nReturns:\\n    int: The sum of a and b.', args_schema=<class 'langchain_core.utils.pydantic.add'>, func=<function add at 0x00000242D317E830>),\n",
       " StructuredTool(name='divide', description='Divide two integers.\\n\\nArgs:\\n    a (int): The numerator.\\n    b (int): The denominator (must not be 0).\\n\\nReturns:\\n    float: The result of division.', args_schema=<class 'langchain_core.utils.pydantic.divide'>, func=<function divide at 0x00000242D57029E0>),\n",
       " DuckDuckGoSearchRun(api_wrapper=DuckDuckGoSearchAPIWrapper(region='wt-wt', safesearch='moderate', time='y', max_results=5, backend='auto', source='text'))]"
      ]
     },
     "execution_count": 65,
     "metadata": {},
     "output_type": "execute_result"
    }
   ],
   "source": [
    "tools"
   ]
  },
  {
   "cell_type": "code",
   "execution_count": 66,
   "id": "984d8a41",
   "metadata": {},
   "outputs": [],
   "source": [
    "tools = [add, multiply, divide, search,get_stock_price]"
   ]
  },
  {
   "cell_type": "code",
   "execution_count": 67,
   "id": "062f439e",
   "metadata": {},
   "outputs": [],
   "source": [
    "llm_with_tools=llm.bind_tools(tools)"
   ]
  },
  {
   "cell_type": "code",
   "execution_count": 68,
   "id": "a436c483",
   "metadata": {},
   "outputs": [],
   "source": [
    "response=llm_with_tools.invoke(\"can you give me a latest stock price of adani greens?\")"
   ]
  },
  {
   "cell_type": "code",
   "execution_count": 69,
   "id": "80bf3bf4",
   "metadata": {},
   "outputs": [
    {
     "data": {
      "text/plain": [
       "''"
      ]
     },
     "execution_count": 69,
     "metadata": {},
     "output_type": "execute_result"
    }
   ],
   "source": [
    "response.content"
   ]
  },
  {
   "cell_type": "code",
   "execution_count": 70,
   "id": "634cd794",
   "metadata": {},
   "outputs": [
    {
     "data": {
      "text/plain": [
       "[{'name': 'get_stock_price',\n",
       "  'args': {'ticker': 'ADANIGREEN.NS'},\n",
       "  'id': '4jhamzbq8',\n",
       "  'type': 'tool_call'}]"
      ]
     },
     "execution_count": 70,
     "metadata": {},
     "output_type": "execute_result"
    }
   ],
   "source": [
    "response.tool_calls"
   ]
  },
  {
   "cell_type": "code",
   "execution_count": 71,
   "id": "b006c22e",
   "metadata": {},
   "outputs": [],
   "source": [
    "SYSTEM_PROMPT = SystemMessage(\n",
    "    content=\"You are a helpful assistant tasked with using search, the yahoo finance tool and performing arithmetic on a set of inputs.\"\n",
    ")\n",
    "def function_1(state:MessagesState):\n",
    "    \n",
    "    user_question=state[\"messages\"]\n",
    "    \n",
    "    input_question = [SYSTEM_PROMPT]+user_question\n",
    "    \n",
    "    response = llm_with_tools.invoke(input_question)\n",
    "    \n",
    "    return {\n",
    "        \"messages\":[response]\n",
    "    }"
   ]
  },
  {
   "cell_type": "code",
   "execution_count": 72,
   "id": "84b99b6c",
   "metadata": {},
   "outputs": [],
   "source": [
    "workflow = StateGraph(MessagesState)\n",
    "workflow.add_node(\"llm_decision_step\", function_1)\n",
    "workflow.add_node(\"tools\", ToolNode(tools))\n",
    "workflow.add_edge(START, \"llm_decision_step\")\n",
    "workflow.add_conditional_edges(\n",
    "    \"llm_decision_step\",\n",
    "    tools_condition,\n",
    ")\n",
    "workflow.add_edge(\"tools\", \"llm_decision_step\")\n",
    "react_graph2 = workflow.compile()"
   ]
  },
  {
   "cell_type": "code",
   "execution_count": 73,
   "id": "dd8f3cd7",
   "metadata": {},
   "outputs": [
    {
     "data": {
      "image/png": "[encoded data removed]",
      "text/plain": [
       "<IPython.core.display.Image object>"
      ]
     },
     "metadata": {},
     "output_type": "display_data"
    }
   ],
   "source": [
    "display(Image(react_graph2.get_graph(xray=True).draw_mermaid_png()))"
   ]
  },
  {
   "cell_type": "code",
   "execution_count": 74,
   "id": "a5eb5cc2",
   "metadata": {},
   "outputs": [],
   "source": [
    "messages = [HumanMessage(content=\"add 1000 in the current stock price of Apple.\")]\n",
    "messages = react_graph2.invoke({\"messages\": messages})"
   ]
  },
  {
   "cell_type": "code",
   "execution_count": 75,
   "id": "fd79ae35",
   "metadata": {},
   "outputs": [
    {
     "name": "stdout",
     "output_type": "stream",
     "text": [
      "================================\u001b[1m Human Message \u001b[0m=================================\n",
      "\n",
      "add 1000 in the current stock price of Apple.\n",
      "==================================\u001b[1m Ai Message \u001b[0m==================================\n",
      "Tool Calls:\n",
      "  get_stock_price (03zp5zjgw)\n",
      " Call ID: 03zp5zjgw\n",
      "  Args:\n",
      "    ticker: AAPL\n",
      "=================================\u001b[1m Tool Message \u001b[0m=================================\n",
      "Name: get_stock_price\n",
      "\n",
      "The last closing price of AAPL was $209.11.\n",
      "==================================\u001b[1m Ai Message \u001b[0m==================================\n",
      "\n",
      "The result of adding 1000 to the current stock price of Apple (AAPL) is **1209.11**.\n"
     ]
    }
   ],
   "source": [
    "for m in messages['messages']:\n",
    "    m.pretty_print()"
   ]
  },
  {
   "cell_type": "code",
   "execution_count": 80,
   "id": "56b6a100",
   "metadata": {},
   "outputs": [],
   "source": [
    "# messages = [HumanMessage(content=\"can you give me 2 times of current stock price of Apple with the latest news of the Apple.\")]\n",
    "# messages = react_graph2.invoke({\"messages\": messages})"
   ]
  },
  {
   "cell_type": "code",
   "execution_count": 81,
   "id": "09c6553f",
   "metadata": {},
   "outputs": [],
   "source": [
    "# for m in messages['messages']:\n",
    "#     m.pretty_print()"
   ]
  },
  {
   "cell_type": "code",
   "execution_count": null,
   "id": "a8531e2b",
   "metadata": {},
   "outputs": [],
   "source": []
  }
 ],
 "metadata": {
  "kernelspec": {
   "display_name": "langgraph_env",
   "language": "python",
   "name": "python3"
  },
  "language_info": {
   "codemirror_mode": {
    "name": "ipython",
    "version": 3
   },
   "file_extension": ".py",
   "mimetype": "text/x-python",
   "name": "python",
   "nbconvert_exporter": "python",
   "pygments_lexer": "ipython3",
   "version": "3.10.18"
  }
 },
 "nbformat": 4,
 "nbformat_minor": 5
}
