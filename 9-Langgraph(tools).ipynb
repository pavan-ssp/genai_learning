{
 "cells": [
  {
   "cell_type": "code",
   "execution_count": 1,
   "id": "cee65ade",
   "metadata": {},
   "outputs": [],
   "source": [
    "from langchain_community.tools import WikipediaQueryRun"
   ]
  },
  {
   "cell_type": "code",
   "execution_count": 2,
   "id": "3c85bc27",
   "metadata": {},
   "outputs": [],
   "source": [
    "from langchain_community.utilities import WikipediaAPIWrapper"
   ]
  },
  {
   "cell_type": "code",
   "execution_count": 3,
   "id": "cf4ec64b",
   "metadata": {},
   "outputs": [],
   "source": [
    "api_wrapper=WikipediaAPIWrapper(top_k_results=5,doc_content_chars_max= 500)"
   ]
  },
  {
   "cell_type": "code",
   "execution_count": 4,
   "id": "c5abc793",
   "metadata": {},
   "outputs": [],
   "source": [
    "wiki_tool=WikipediaQueryRun(api_wrapper=api_wrapper)"
   ]
  },
  {
   "cell_type": "code",
   "execution_count": 5,
   "id": "376b1e11",
   "metadata": {},
   "outputs": [
    {
     "data": {
      "text/plain": [
       "'wikipedia'"
      ]
     },
     "execution_count": 5,
     "metadata": {},
     "output_type": "execute_result"
    }
   ],
   "source": [
    "wiki_tool.name"
   ]
  },
  {
   "cell_type": "code",
   "execution_count": 6,
   "id": "df493233",
   "metadata": {},
   "outputs": [
    {
     "data": {
      "text/plain": [
       "'A wrapper around Wikipedia. Useful for when you need to answer general questions about people, places, companies, facts, historical events, or other subjects. Input should be a search query.'"
      ]
     },
     "execution_count": 6,
     "metadata": {},
     "output_type": "execute_result"
    }
   ],
   "source": [
    "wiki_tool.description"
   ]
  },
  {
   "cell_type": "code",
   "execution_count": 7,
   "id": "ee94b312",
   "metadata": {},
   "outputs": [
    {
     "data": {
      "text/plain": [
       "{'query': {'description': 'query to look up on wikipedia',\n",
       "  'title': 'Query',\n",
       "  'type': 'string'}}"
      ]
     },
     "execution_count": 7,
     "metadata": {},
     "output_type": "execute_result"
    }
   ],
   "source": [
    "wiki_tool.args"
   ]
  },
  {
   "cell_type": "code",
   "execution_count": 8,
   "id": "04aca07f",
   "metadata": {},
   "outputs": [
    {
     "data": {
      "text/plain": [
       "\"Page: Elon Musk\\nSummary: Elon Reeve Musk  ( EE-lon; born June 28, 1971) is a businessman. He is known for his leadership of Tesla, SpaceX, X (formerly Twitter), and the Department of Government Efficiency (DOGE). Musk has been considered the wealthiest person in the world since 2021; as of May 2025, Forbes estimates his net worth to be US$424.7 billion. \\nBorn to a wealthy family in Pretoria, South Africa, Musk emigrated in 1989 to Canada. He received bachelor's degrees from the University of Pen\""
      ]
     },
     "execution_count": 8,
     "metadata": {},
     "output_type": "execute_result"
    }
   ],
   "source": [
    "wiki_tool.run({\"query\":\"elon musk\"})"
   ]
  },
  {
   "cell_type": "code",
   "execution_count": 9,
   "id": "5b30b915",
   "metadata": {},
   "outputs": [
    {
     "name": "stderr",
     "output_type": "stream",
     "text": [
      "c:\\Users\\chand\\anaconda3\\envs\\july14env\\Lib\\site-packages\\wikipedia\\wikipedia.py:389: GuessedAtParserWarning: No parser was explicitly specified, so I'm using the best available HTML parser for this system (\"html.parser\"). This usually isn't a problem, but if you run this code on another system, or in a different virtual environment, it may use a different parser and behave differently.\n",
      "\n",
      "The code that caused this warning is on line 389 of the file c:\\Users\\chand\\anaconda3\\envs\\july14env\\Lib\\site-packages\\wikipedia\\wikipedia.py. To get rid of this warning, pass the additional argument 'features=\"html.parser\"' to the BeautifulSoup constructor.\n",
      "\n",
      "  lis = BeautifulSoup(html).find_all('li')\n"
     ]
    },
    {
     "data": {
      "text/plain": [
       "\"Page: Royal Challengers Bengaluru\\nSummary: Royal Challengers Bengaluru, formerly Royal Challengers Bangalore, also known as RCB, are a professional Twenty20 cricket team based in Bengaluru, Karnataka, that competes in the Indian Premier League (IPL). Founded in 2008 by United Spirits, the team's home ground is M. Chinnaswamy Stadium. They won their first title in 2025. The team finished as the runners-up on three occasions: in 2009, 2011, and 2016. They have also qualified for the playoffs in te\""
      ]
     },
     "execution_count": 9,
     "metadata": {},
     "output_type": "execute_result"
    }
   ],
   "source": [
    "wiki_tool.run(\"RCB\")"
   ]
  },
  {
   "cell_type": "code",
   "execution_count": 10,
   "id": "500739ec",
   "metadata": {},
   "outputs": [],
   "source": [
    "from langchain_community.tools import YouTubeSearchTool"
   ]
  },
  {
   "cell_type": "code",
   "execution_count": 11,
   "id": "4e4f5a40",
   "metadata": {},
   "outputs": [],
   "source": [
    "tool=YouTubeSearchTool()"
   ]
  },
  {
   "cell_type": "code",
   "execution_count": 12,
   "id": "eff08151",
   "metadata": {},
   "outputs": [
    {
     "data": {
      "text/plain": [
       "'youtube_search'"
      ]
     },
     "execution_count": 12,
     "metadata": {},
     "output_type": "execute_result"
    }
   ],
   "source": [
    "tool.name"
   ]
  },
  {
   "cell_type": "code",
   "execution_count": 13,
   "id": "048c5c11",
   "metadata": {},
   "outputs": [
    {
     "data": {
      "text/plain": [
       "'search for youtube videos associated with a person. the input to this tool should be a comma separated list, the first part contains a person name and the second a number that is the maximum number of video results to return aka num_results. the second part is optional'"
      ]
     },
     "execution_count": 13,
     "metadata": {},
     "output_type": "execute_result"
    }
   ],
   "source": [
    "tool.description"
   ]
  },
  {
   "cell_type": "code",
   "execution_count": 15,
   "id": "012f9030",
   "metadata": {},
   "outputs": [
    {
     "data": {
      "text/plain": [
       "\"['https://www.youtube.com/watch?v=0pGUZOylZfY&pp=ygUKdGhpbmsgZGVlcA%3D%3D', 'https://www.youtube.com/watch?v=EjhlqWdF8qI&pp=ygUKdGhpbmsgZGVlcA%3D%3D']\""
      ]
     },
     "execution_count": 15,
     "metadata": {},
     "output_type": "execute_result"
    }
   ],
   "source": [
    "tool.run(\"think deep\")"
   ]
  },
  {
   "cell_type": "code",
   "execution_count": 16,
   "id": "a7536925",
   "metadata": {},
   "outputs": [
    {
     "data": {
      "text/plain": [
       "\"['https://www.youtube.com/watch?v=TYEqenKrbaM&pp=ygUKa3Jpc2ggbmFpaw%3D%3D', 'https://www.youtube.com/watch?v=JxgmHe2NyeY&pp=ygUKa3Jpc2ggbmFpaw%3D%3D']\""
      ]
     },
     "execution_count": 16,
     "metadata": {},
     "output_type": "execute_result"
    }
   ],
   "source": [
    "tool.run(\"krish naik\")"
   ]
  },
  {
   "cell_type": "code",
   "execution_count": 17,
   "id": "d54c8bb0",
   "metadata": {},
   "outputs": [
    {
     "data": {
      "text/plain": [
       "\"['https://www.youtube.com/watch?v=_kpxLkH5vY0&pp=ygUMc3Vubnkgc2F2aXRh', 'https://www.youtube.com/watch?v=SPNaP4ik9a4&pp=ygUMc3Vubnkgc2F2aXRh']\""
      ]
     },
     "execution_count": 17,
     "metadata": {},
     "output_type": "execute_result"
    }
   ],
   "source": [
    "tool.run(\"sunny savita\")"
   ]
  },
  {
   "cell_type": "code",
   "execution_count": 18,
   "id": "41d037d5",
   "metadata": {},
   "outputs": [],
   "source": [
    "from langchain_community.tools.tavily_search import TavilySearchResults"
   ]
  },
  {
   "cell_type": "code",
   "execution_count": 19,
   "id": "8b0bbe82",
   "metadata": {},
   "outputs": [],
   "source": [
    "import os\n",
    "TAVILY_API_KEY=os.getenv(\"TAVILY_API_KEY\")"
   ]
  },
  {
   "cell_type": "code",
   "execution_count": 20,
   "id": "7897c392",
   "metadata": {},
   "outputs": [
    {
     "name": "stderr",
     "output_type": "stream",
     "text": [
      "C:\\Users\\chand\\AppData\\Local\\Temp\\ipykernel_14536\\270065534.py:4: LangChainDeprecationWarning: The class `TavilySearchResults` was deprecated in LangChain 0.3.25 and will be removed in 1.0. An updated version of the class exists in the :class:`~langchain-tavily package and should be used instead. To use it run `pip install -U :class:`~langchain-tavily` and import as `from :class:`~langchain_tavily import TavilySearch``.\n",
      "  tool=TavilySearchResults(tavily_api_key=TAVILY_API_KEY)\n"
     ]
    }
   ],
   "source": [
    "import os\n",
    "from langchain_community.tools.tavily_search import TavilySearchResults\n",
    "TAVILY_API_KEY=os.getenv(\"TAVILY_API_KEY\")\n",
    "tool=TavilySearchResults(tavily_api_key=TAVILY_API_KEY)"
   ]
  },
  {
   "cell_type": "code",
   "execution_count": 21,
   "id": "22ebfabd",
   "metadata": {},
   "outputs": [
    {
     "data": {
      "text/plain": [
       "[{'title': \"Bengaluru stampede: 11 die as RCB's victory celebrations turn tragic\",\n",
       "  'url': 'https://www.youtube.com/watch?v=1W8MgyoI4Ck&pp=0gcJCfwAo7VqN5tD',\n",
       "  'content': \"### Description\\n16693 views\\nPosted: 4 Jun 2025\\nWhat began as a day of rapturous celebration over the IPL victory of Royal Challengers Bengaluru (RCB) turned into one of crushing tragedy in Bengaluru on Wednesday evening when 11 people -- all aged below 40 -- died and 33 were injured when a massive build up of fans at the M. Chinnaswamy Stadium led to chaos and stampede. #royalchallengersbangalore #bengaluru #rcb #ipl2025 [...] what was supposed to be a joyous celebration turned into a tragedy in [Music] Bengaluru on June 4th at least 11 people died while several more were injured after a stampede-like situation broke out during RCB's victory parade sounds of sirens constantly echoed through the roads as ambulances struggled to carry the injured to hospitals the injured persons were taken to Bowing Hospital in Shivajinagar and Vayhi Hospital on Mallaya road the death toll is expected to go [Music] up several people [...] were injured at the gates of the stadium where the cricket team was expected to turn up to [Music] celebrate people who gathered in front of Vidhan Saodha to see the government's felicitation ceremony were also crushed by the uncontrollable crowd while it was said that the victory parade would not happen due to security concerns a post from the RCB social media handle later said that the parade would happen as planned this confusion led to chaos among fans we are die hard RCB fans mumbai more\",\n",
       "  'score': 0.8312667},\n",
       " {'title': \"How did celebration of RCB's historic win in IPL spiral into chaos ...\",\n",
       "  'url': 'https://www.thehindu.com/news/national/karnataka/how-did-celebration-of-rcbs-historic-win-in-ipl-spiral-into-chaos-and-crisis-explained/article69668074.ece',\n",
       "  'content': 'A stampede during RCB’s victory celebrations in Bengaluru on June 4 claimed 11 lives and left several others with injuries, turning a moment of triumph into tragedy. Facing a backlash for mismanagement and hurried planning, the Congress government in Karnataka suspended top police officials [...] Published - June 07, 2025 04:45 pm IST\\n\\nImage 11: Darshan Devaiah B P \\n\\nDarshan Devaiah B.P.\\n\\n    Copy link \\n   Email\\n    Facebook \\n    Twitter \\n    Telegram \\n    LinkedIn \\n    WhatsApp \\n    Reddit \\n\\n0\\n\\nREAD LATER\\n\\n Remove SEE ALL\\n\\nPRINT\\n\\nImage 12: Footwear left behind by fans of Royal Challenge Bengaluru (RCB) after a stampede at the victory celebrations, in Bengaluru on June 5, 2025. [...] A senior officer told _The Hindu_ that police resources were thinly spread across four major events on the same day: RCB’s arrival at HAL airport, their transfer to the team hotel on Race Course Road, the government’s felicitation at Vidhana Soudha, and finally, the celebration at Chinnaswamy stadium.',\n",
       "  'score': 0.818055},\n",
       " {'title': 'RCB Victory Parade: Kohli Wins His Maiden IPL Title ... - YouTube',\n",
       "  'url': 'https://www.youtube.com/watch?v=M2JWZVPWGfY',\n",
       "  'content': 'As the champions parade through Bengaluru, the message is loud: India wins not just on the battlefield, but in the arena of sport — with pride, power, and passion. RCB’s victory is a reflection of India’s rise — strategic, smart, and unstoppable. And to the naysayers across the border: watch and weep — this is Indian cricket at its peak. Tune in LIVE for the grand celebration, the emotion, and the fire. This is not just a game. This is Indian domination. [...] History has been made. Bengaluru roars. And Virat Kohli leads from the front — not just with the bat, but as a symbol of Indian dominance. RCB has finally clinched the IPL 2025 Trophy, and the champions return to their fortress with unmatched glory. This isn’t just a victory — this is a statement. A decade of doubters silenced, a legacy sealed in fire and triumph. [...] From trolls to critics to Pakistan’s cricket propaganda — everything collapses in the face of this win. While Pakistan fails to qualify and sulks in excuses, India’s own Royal Challengers Bangalore have shown the world what real cricket supremacy looks like. No fixing. No fakery. Just raw Indian grit, brilliance, and boldness. Kohli, Dinesh Karthik, and the RCB squad have set the gold standard. While Pak celebrates memes, India celebrates trophies.',\n",
       "  'score': 0.6768127},\n",
       " {'title': 'Celebrations on the Streets of Bengaluru as the Home Team RCB ...',\n",
       "  'url': 'https://www.youtube.com/watch?v=TC71RUxvtHc',\n",
       "  'content': '### Description\\n121221 views\\nPosted: 3 Jun 2025\\nJoy and celebration were the mood on the streets of Bengaluru as the home team Royal Challengers Bengaluru lifted the IPL trophy for the first time ever. Watch as people join their starts in celebrating the success.\\r\\n\\r\\n#RCBvsPBKS #IPL2025Final #ViratKohli #ShreyasIyer #Hazlewood #IPLFinal2025 #CricketLive #IPLHighlights #PBKSvsRCB #OneindiaEnglish  #OneindiaHindi #RCBWins [...] # Celebrations on the Streets of Bengaluru as the Home Team RCB Wins its 1st IPL Title\\n## Oneindia News\\n2009999 subscribers\\n1038 likes',\n",
       "  'score': 0.6018984},\n",
       " {'title': 'RCB Title Madness! Unbelievable Moments | Bengaluru | IPL 2025',\n",
       "  'url': 'https://www.youtube.com/watch?v=vg7D51cRh3E',\n",
       "  'content': '# RCB Title Madness! Unbelievable Moments | Bengaluru | IPL 2025 | News9\\n## NEWS9 Live\\n2000000 subscribers\\n505 likes\\n\\n### Description\\n38834 views\\nPosted: 4 Jun 2025\\nExperience the wildest moments from Royal Challengers Bengaluru’s historic IPL 2025 title win! From electrifying celebrations to crazy fan reactions and behind-the-scenes madness — this video captures it all live and unfiltered. Don’t miss these unbelievable scenes that show why RCB’s victory is unforgettable!',\n",
       "  'score': 0.57035583}]"
      ]
     },
     "execution_count": 21,
     "metadata": {},
     "output_type": "execute_result"
    }
   ],
   "source": [
    "tool.invoke({\"query\":\"what happend in RCB victory celebration?\"})"
   ]
  },
  {
   "cell_type": "markdown",
   "id": "3dac25c6",
   "metadata": {},
   "source": [
    "## Custom_tool"
   ]
  },
  {
   "cell_type": "code",
   "execution_count": 28,
   "id": "5de56a92",
   "metadata": {},
   "outputs": [],
   "source": [
    "def multiply(a:int,b:int)->int:\n",
    "    return a*b"
   ]
  },
  {
   "cell_type": "code",
   "execution_count": 29,
   "id": "e0f4e1c2",
   "metadata": {},
   "outputs": [
    {
     "data": {
      "text/plain": [
       "200"
      ]
     },
     "execution_count": 29,
     "metadata": {},
     "output_type": "execute_result"
    }
   ],
   "source": [
    "multiply(10,20)"
   ]
  },
  {
   "cell_type": "code",
   "execution_count": null,
   "id": "f5633ae9",
   "metadata": {},
   "outputs": [],
   "source": [
    "#multiply.run(10,20) #we cant use run "
   ]
  },
  {
   "cell_type": "code",
   "execution_count": 32,
   "id": "e3ab58a9",
   "metadata": {},
   "outputs": [],
   "source": [
    "#multiply.invoke(10,20) #we cant use invoke instead we need to convert into tool then use invoke"
   ]
  },
  {
   "cell_type": "code",
   "execution_count": 33,
   "id": "69cae146",
   "metadata": {},
   "outputs": [],
   "source": [
    "from langchain.agents import tool\n",
    "@tool\n",
    "def multiply(a:int,b:int)->int:\n",
    "    '''this tool is for the multiplication'''\n",
    "    return a*b"
   ]
  },
  {
   "cell_type": "code",
   "execution_count": 34,
   "id": "9415f542",
   "metadata": {},
   "outputs": [
    {
     "data": {
      "text/plain": [
       "200"
      ]
     },
     "execution_count": 34,
     "metadata": {},
     "output_type": "execute_result"
    }
   ],
   "source": [
    "multiply.invoke({\"a\":10,\"b\":20})"
   ]
  },
  {
   "cell_type": "code",
   "execution_count": 35,
   "id": "cc1640dd",
   "metadata": {},
   "outputs": [
    {
     "data": {
      "text/plain": [
       "'multiply'"
      ]
     },
     "execution_count": 35,
     "metadata": {},
     "output_type": "execute_result"
    }
   ],
   "source": [
    "multiply.name"
   ]
  },
  {
   "cell_type": "code",
   "execution_count": 36,
   "id": "a818dc26",
   "metadata": {},
   "outputs": [
    {
     "data": {
      "text/plain": [
       "'this tool is for the multiplication'"
      ]
     },
     "execution_count": 36,
     "metadata": {},
     "output_type": "execute_result"
    }
   ],
   "source": [
    "multiply.description"
   ]
  },
  {
   "cell_type": "code",
   "execution_count": 37,
   "id": "4e014cff",
   "metadata": {},
   "outputs": [
    {
     "data": {
      "text/plain": [
       "{'a': {'title': 'A', 'type': 'integer'},\n",
       " 'b': {'title': 'B', 'type': 'integer'}}"
      ]
     },
     "execution_count": 37,
     "metadata": {},
     "output_type": "execute_result"
    }
   ],
   "source": [
    "multiply.args"
   ]
  },
  {
   "cell_type": "code",
   "execution_count": 38,
   "id": "824a9e54",
   "metadata": {},
   "outputs": [],
   "source": [
    "def get_word_length(word:str)->int:\n",
    "    return len(word)"
   ]
  },
  {
   "cell_type": "code",
   "execution_count": 39,
   "id": "55da9e75",
   "metadata": {},
   "outputs": [
    {
     "data": {
      "text/plain": [
       "12"
      ]
     },
     "execution_count": 39,
     "metadata": {},
     "output_type": "execute_result"
    }
   ],
   "source": [
    "get_word_length(\"sunny savita\")"
   ]
  },
  {
   "cell_type": "code",
   "execution_count": 40,
   "id": "130708bf",
   "metadata": {},
   "outputs": [],
   "source": [
    "@tool\n",
    "def get_word_length(word:str)->int:\n",
    "    \"\"\"this funtion is calculating a length of the word\"\"\"\n",
    "    return len(word)"
   ]
  },
  {
   "cell_type": "code",
   "execution_count": 41,
   "id": "abd3f078",
   "metadata": {},
   "outputs": [
    {
     "data": {
      "text/plain": [
       "'get_word_length'"
      ]
     },
     "execution_count": 41,
     "metadata": {},
     "output_type": "execute_result"
    }
   ],
   "source": [
    "get_word_length.name"
   ]
  },
  {
   "cell_type": "code",
   "execution_count": 42,
   "id": "96c5d796",
   "metadata": {},
   "outputs": [
    {
     "data": {
      "text/plain": [
       "'this funtion is calculating a length of the word'"
      ]
     },
     "execution_count": 42,
     "metadata": {},
     "output_type": "execute_result"
    }
   ],
   "source": [
    "get_word_length.description"
   ]
  },
  {
   "cell_type": "code",
   "execution_count": 43,
   "id": "9d8f61e4",
   "metadata": {},
   "outputs": [
    {
     "data": {
      "text/plain": [
       "{'word': {'title': 'Word', 'type': 'string'}}"
      ]
     },
     "execution_count": 43,
     "metadata": {},
     "output_type": "execute_result"
    }
   ],
   "source": [
    "get_word_length.args"
   ]
  },
  {
   "cell_type": "code",
   "execution_count": 44,
   "id": "f9bb4af8",
   "metadata": {},
   "outputs": [
    {
     "name": "stderr",
     "output_type": "stream",
     "text": [
      "C:\\Users\\chand\\AppData\\Local\\Temp\\ipykernel_14536\\4215584293.py:1: LangChainDeprecationWarning: The method `BaseTool.__call__` was deprecated in langchain-core 0.1.47 and will be removed in 1.0. Use :meth:`~invoke` instead.\n",
      "  get_word_length(\"sunny\")\n"
     ]
    },
    {
     "data": {
      "text/plain": [
       "5"
      ]
     },
     "execution_count": 44,
     "metadata": {},
     "output_type": "execute_result"
    }
   ],
   "source": [
    "get_word_length(\"sunny\")"
   ]
  },
  {
   "cell_type": "code",
   "execution_count": 45,
   "id": "33181879",
   "metadata": {},
   "outputs": [
    {
     "data": {
      "text/plain": [
       "5"
      ]
     },
     "execution_count": 45,
     "metadata": {},
     "output_type": "execute_result"
    }
   ],
   "source": [
    "get_word_length.invoke(\"sunny\")"
   ]
  },
  {
   "cell_type": "code",
   "execution_count": 46,
   "id": "8082d22e",
   "metadata": {},
   "outputs": [],
   "source": [
    "@tool\n",
    "def call_gamil_api(args):\n",
    "    \"\"\"this is my gamil api calling funtion\"\"\"\n",
    "    pass"
   ]
  },
  {
   "cell_type": "code",
   "execution_count": null,
   "id": "dd9b0ecc",
   "metadata": {},
   "outputs": [],
   "source": []
  }
 ],
 "metadata": {
  "kernelspec": {
   "display_name": "july14env",
   "language": "python",
   "name": "python3"
  },
  "language_info": {
   "codemirror_mode": {
    "name": "ipython",
    "version": 3
   },
   "file_extension": ".py",
   "mimetype": "text/x-python",
   "name": "python",
   "nbconvert_exporter": "python",
   "pygments_lexer": "ipython3",
   "version": "3.11.11"
  }
 },
 "nbformat": 4,
 "nbformat_minor": 5
}
