{
 "cells": [
  {
   "cell_type": "code",
   "execution_count": 1,
   "id": "87d3654b",
   "metadata": {},
   "outputs": [
    {
     "name": "stdout",
     "output_type": "stream",
     "text": [
      "all ok\n"
     ]
    }
   ],
   "source": [
    "print(\"all ok\")"
   ]
  },
  {
   "cell_type": "code",
   "execution_count": 2,
   "id": "b1129d37",
   "metadata": {},
   "outputs": [],
   "source": [
    "from dataclasses import dataclass\n",
    "@dataclass\n",
    "class people():\n",
    "    id:int\n",
    "    name:str\n",
    "    gender:str\n",
    "    occupation:str\n",
    "    is_alive:bool"
   ]
  },
  {
   "cell_type": "code",
   "execution_count": 3,
   "id": "8785aa19",
   "metadata": {},
   "outputs": [
    {
     "name": "stdout",
     "output_type": "stream",
     "text": [
      "people(id=1, name='A', gender='m/f', occupation='farmer', is_alive=1)\n"
     ]
    }
   ],
   "source": [
    "People=people(id=1,name=\"A\",gender=\"m/f\",occupation=\"farmer\",is_alive=1)\n",
    "print(People)"
   ]
  },
  {
   "cell_type": "code",
   "execution_count": 4,
   "id": "93334625",
   "metadata": {},
   "outputs": [
    {
     "name": "stdout",
     "output_type": "stream",
     "text": [
      "people(id=1, name='A', gender=0, occupation='farmer', is_alive=1)\n"
     ]
    }
   ],
   "source": [
    "People=people(id=1,name=\"A\",gender=0,occupation=\"farmer\",is_alive=1)\n",
    "print(People)"
   ]
  },
  {
   "cell_type": "code",
   "execution_count": 6,
   "id": "da9244bb",
   "metadata": {},
   "outputs": [
    {
     "name": "stdout",
     "output_type": "stream",
     "text": [
      "Collecting pydantic\n",
      "  Using cached pydantic-2.11.7-py3-none-any.whl.metadata (67 kB)\n",
      "Collecting annotated-types>=0.6.0 (from pydantic)\n",
      "  Using cached annotated_types-0.7.0-py3-none-any.whl.metadata (15 kB)\n",
      "Collecting pydantic-core==2.33.2 (from pydantic)\n",
      "  Using cached pydantic_core-2.33.2-cp311-cp311-win_amd64.whl.metadata (6.9 kB)\n",
      "Requirement already satisfied: typing-extensions>=4.12.2 in c:\\users\\chand\\anaconda3\\envs\\july14env\\lib\\site-packages (from pydantic) (4.14.1)\n",
      "Collecting typing-inspection>=0.4.0 (from pydantic)\n",
      "  Using cached typing_inspection-0.4.1-py3-none-any.whl.metadata (2.6 kB)\n",
      "Using cached pydantic-2.11.7-py3-none-any.whl (444 kB)\n",
      "Using cached pydantic_core-2.33.2-cp311-cp311-win_amd64.whl (2.0 MB)\n",
      "Using cached annotated_types-0.7.0-py3-none-any.whl (13 kB)\n",
      "Using cached typing_inspection-0.4.1-py3-none-any.whl (14 kB)\n",
      "Installing collected packages: typing-inspection, pydantic-core, annotated-types, pydantic\n",
      "\n",
      "   ------------------------------ --------- 3/4 [pydantic]\n",
      "   ------------------------------ --------- 3/4 [pydantic]\n",
      "   ---------------------------------------- 4/4 [pydantic]\n",
      "\n",
      "Successfully installed annotated-types-0.7.0 pydantic-2.11.7 pydantic-core-2.33.2 typing-inspection-0.4.1\n",
      "Note: you may need to restart the kernel to use updated packages.\n"
     ]
    }
   ],
   "source": [
    "%pip install pydantic"
   ]
  },
  {
   "cell_type": "code",
   "execution_count": 7,
   "id": "1c7e3cdd",
   "metadata": {},
   "outputs": [],
   "source": [
    "from pydantic import BaseModel"
   ]
  },
  {
   "cell_type": "code",
   "execution_count": 8,
   "id": "04bda51f",
   "metadata": {},
   "outputs": [],
   "source": [
    "class people(BaseModel):\n",
    "    id:int\n",
    "    name:str\n",
    "    gender:str\n",
    "    occupation:str\n",
    "    is_alive:bool"
   ]
  },
  {
   "cell_type": "code",
   "execution_count": 9,
   "id": "4528d678",
   "metadata": {},
   "outputs": [
    {
     "name": "stdout",
     "output_type": "stream",
     "text": [
      "id=1 name='A' gender='m/f' occupation='farmer' is_alive=True\n"
     ]
    }
   ],
   "source": [
    "People=people(id=1,name=\"A\",gender=\"m/f\",occupation=\"farmer\",is_alive=1)\n",
    "print(People)"
   ]
  },
  {
   "cell_type": "code",
   "execution_count": 10,
   "id": "fbee2bb2",
   "metadata": {},
   "outputs": [
    {
     "ename": "ValidationError",
     "evalue": "1 validation error for people\ngender\n  Input should be a valid string [type=string_type, input_value=0, input_type=int]\n    For further information visit https://errors.pydantic.dev/2.11/v/string_type",
     "output_type": "error",
     "traceback": [
      "\u001b[31m---------------------------------------------------------------------------\u001b[39m",
      "\u001b[31mValidationError\u001b[39m                           Traceback (most recent call last)",
      "\u001b[36mCell\u001b[39m\u001b[36m \u001b[39m\u001b[32mIn[10]\u001b[39m\u001b[32m, line 1\u001b[39m\n\u001b[32m----> \u001b[39m\u001b[32m1\u001b[39m People1=\u001b[43mpeople\u001b[49m\u001b[43m(\u001b[49m\u001b[38;5;28;43mid\u001b[39;49m\u001b[43m=\u001b[49m\u001b[32;43m1\u001b[39;49m\u001b[43m,\u001b[49m\u001b[43mname\u001b[49m\u001b[43m=\u001b[49m\u001b[33;43m\"\u001b[39;49m\u001b[33;43mA\u001b[39;49m\u001b[33;43m\"\u001b[39;49m\u001b[43m,\u001b[49m\u001b[43mgender\u001b[49m\u001b[43m=\u001b[49m\u001b[32;43m0\u001b[39;49m\u001b[43m,\u001b[49m\u001b[43moccupation\u001b[49m\u001b[43m=\u001b[49m\u001b[33;43m\"\u001b[39;49m\u001b[33;43mfarmer\u001b[39;49m\u001b[33;43m\"\u001b[39;49m\u001b[43m,\u001b[49m\u001b[43mis_alive\u001b[49m\u001b[43m=\u001b[49m\u001b[32;43m1\u001b[39;49m\u001b[43m)\u001b[49m\n\u001b[32m      2\u001b[39m \u001b[38;5;28mprint\u001b[39m(People1)\n",
      "\u001b[36mFile \u001b[39m\u001b[32mc:\\Users\\chand\\anaconda3\\envs\\july14env\\Lib\\site-packages\\pydantic\\main.py:253\u001b[39m, in \u001b[36mBaseModel.__init__\u001b[39m\u001b[34m(self, **data)\u001b[39m\n\u001b[32m    251\u001b[39m \u001b[38;5;66;03m# `__tracebackhide__` tells pytest and some other tools to omit this function from tracebacks\u001b[39;00m\n\u001b[32m    252\u001b[39m __tracebackhide__ = \u001b[38;5;28;01mTrue\u001b[39;00m\n\u001b[32m--> \u001b[39m\u001b[32m253\u001b[39m validated_self = \u001b[38;5;28;43mself\u001b[39;49m\u001b[43m.\u001b[49m\u001b[43m__pydantic_validator__\u001b[49m\u001b[43m.\u001b[49m\u001b[43mvalidate_python\u001b[49m\u001b[43m(\u001b[49m\u001b[43mdata\u001b[49m\u001b[43m,\u001b[49m\u001b[43m \u001b[49m\u001b[43mself_instance\u001b[49m\u001b[43m=\u001b[49m\u001b[38;5;28;43mself\u001b[39;49m\u001b[43m)\u001b[49m\n\u001b[32m    254\u001b[39m \u001b[38;5;28;01mif\u001b[39;00m \u001b[38;5;28mself\u001b[39m \u001b[38;5;129;01mis\u001b[39;00m \u001b[38;5;129;01mnot\u001b[39;00m validated_self:\n\u001b[32m    255\u001b[39m     warnings.warn(\n\u001b[32m    256\u001b[39m         \u001b[33m'\u001b[39m\u001b[33mA custom validator is returning a value other than `self`.\u001b[39m\u001b[38;5;130;01m\\n\u001b[39;00m\u001b[33m'\u001b[39m\n\u001b[32m    257\u001b[39m         \u001b[33m\"\u001b[39m\u001b[33mReturning anything other than `self` from a top level model validator isn\u001b[39m\u001b[33m'\u001b[39m\u001b[33mt supported when validating via `__init__`.\u001b[39m\u001b[38;5;130;01m\\n\u001b[39;00m\u001b[33m\"\u001b[39m\n\u001b[32m    258\u001b[39m         \u001b[33m'\u001b[39m\u001b[33mSee the `model_validator` docs (https://docs.pydantic.dev/latest/concepts/validators/#model-validators) for more details.\u001b[39m\u001b[33m'\u001b[39m,\n\u001b[32m    259\u001b[39m         stacklevel=\u001b[32m2\u001b[39m,\n\u001b[32m    260\u001b[39m     )\n",
      "\u001b[31mValidationError\u001b[39m: 1 validation error for people\ngender\n  Input should be a valid string [type=string_type, input_value=0, input_type=int]\n    For further information visit https://errors.pydantic.dev/2.11/v/string_type"
     ]
    }
   ],
   "source": [
    "People1=people(id=1,name=\"A\",gender=0,occupation=\"farmer\",is_alive=1)\n",
    "print(People1)"
   ]
  },
  {
   "cell_type": "code",
   "execution_count": 13,
   "id": "cf7d9adf",
   "metadata": {},
   "outputs": [],
   "source": [
    "from typing import Optional\n",
    "from  typing import List"
   ]
  },
  {
   "cell_type": "code",
   "execution_count": 15,
   "id": "928441a0",
   "metadata": {},
   "outputs": [],
   "source": [
    "class people(BaseModel):\n",
    "    id:int\n",
    "    name:List[str]\n",
    "    gender:str\n",
    "    occupation:str\n",
    "    is_alive:Optional[bool]=1"
   ]
  },
  {
   "cell_type": "code",
   "execution_count": 17,
   "id": "69725e1f",
   "metadata": {},
   "outputs": [
    {
     "name": "stdout",
     "output_type": "stream",
     "text": [
      "id=1 name=['a', 'b'] gender='m/f' occupation='farmer' is_alive=1\n"
     ]
    }
   ],
   "source": [
    "People=people(id=1,name=[\"a\",\"b\"],gender=\"m/f\",occupation=\"farmer\")\n",
    "print(People)"
   ]
  },
  {
   "cell_type": "code",
   "execution_count": 18,
   "id": "d3976583",
   "metadata": {},
   "outputs": [],
   "source": [
    "from pydantic import BaseModel"
   ]
  },
  {
   "cell_type": "code",
   "execution_count": 25,
   "id": "08487ac9",
   "metadata": {},
   "outputs": [],
   "source": [
    "class Address(BaseModel):\n",
    "    city:str\n",
    "    zip:int\n",
    "    street:str\n",
    "\n",
    "class person(BaseModel):\n",
    "    id:int\n",
    "    name:str\n",
    "    gender:str\n",
    "    occupation:str\n",
    "    is_alive:Optional[bool]=1\n",
    "    address:Address   "
   ]
  },
  {
   "cell_type": "code",
   "execution_count": 27,
   "id": "db6aba6a",
   "metadata": {},
   "outputs": [
    {
     "name": "stdout",
     "output_type": "stream",
     "text": [
      "id=1 name='a' gender='m/f' occupation='farmer' is_alive=1 address=Address(city='m', zip=1234, street='pb')\n"
     ]
    }
   ],
   "source": [
    "address = Address(city=\"m\", zip=1234, street=\"pb\")\n",
    "\n",
    "People = person(\n",
    "    id=1,\n",
    "    name=\"a\",\n",
    "    gender=\"m/f\",\n",
    "    occupation=\"farmer\",\n",
    "    address=address\n",
    ")\n",
    "\n",
    "print(People)\n"
   ]
  },
  {
   "cell_type": "code",
   "execution_count": 29,
   "id": "829f4504",
   "metadata": {},
   "outputs": [],
   "source": [
    "from pydantic import Field"
   ]
  },
  {
   "cell_type": "code",
   "execution_count": 31,
   "id": "d9fb7908",
   "metadata": {},
   "outputs": [],
   "source": [
    "class person(BaseModel):\n",
    "    id:int=Field(description=\" id of the person\",min_length=35, max_length=999)\n",
    "    name:List[str]=Field(description=\" Name of the person\")\n",
    "    gender:str\n",
    "    occupation:str\n",
    "    is_alive:Optional[bool]=1"
   ]
  },
  {
   "cell_type": "code",
   "execution_count": 32,
   "id": "34ce717a",
   "metadata": {},
   "outputs": [
    {
     "name": "stdout",
     "output_type": "stream",
     "text": [
      "id=1 name=['a', 'b'] gender='m/f' occupation='farmer' is_alive=1\n"
     ]
    }
   ],
   "source": [
    "People=people(id=1,name=[\"a\",\"b\"],gender=\"m/f\",occupation=\"farmer\")\n",
    "print(People)"
   ]
  }
 ],
 "metadata": {
  "kernelspec": {
   "display_name": "july14env",
   "language": "python",
   "name": "python3"
  },
  "language_info": {
   "codemirror_mode": {
    "name": "ipython",
    "version": 3
   },
   "file_extension": ".py",
   "mimetype": "text/x-python",
   "name": "python",
   "nbconvert_exporter": "python",
   "pygments_lexer": "ipython3",
   "version": "3.11.11"
  }
 },
 "nbformat": 4,
 "nbformat_minor": 5
}
