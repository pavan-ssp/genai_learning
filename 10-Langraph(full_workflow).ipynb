{
 "cells": [
  {
   "cell_type": "code",
   "execution_count": 1,
   "id": "eef2e465",
   "metadata": {},
   "outputs": [],
   "source": [
    "def function1(input1):\n",
    "    return input1+ \" from first function\""
   ]
  },
  {
   "cell_type": "code",
   "execution_count": 2,
   "id": "07eb321e",
   "metadata": {},
   "outputs": [],
   "source": [
    "def function2(input2):\n",
    "    return input2+ \" savita from second function\""
   ]
  },
  {
   "cell_type": "code",
   "execution_count": 3,
   "id": "60dd3eb4",
   "metadata": {},
   "outputs": [],
   "source": [
    "def function3(input3):\n",
    "    pass"
   ]
  },
  {
   "cell_type": "code",
   "execution_count": 4,
   "id": "30e1574c",
   "metadata": {},
   "outputs": [
    {
     "data": {
      "text/plain": [
       "'satya from first function'"
      ]
     },
     "execution_count": 4,
     "metadata": {},
     "output_type": "execute_result"
    }
   ],
   "source": [
    "function1(\"satya\")"
   ]
  },
  {
   "cell_type": "code",
   "execution_count": 5,
   "id": "acef1284",
   "metadata": {},
   "outputs": [
    {
     "data": {
      "text/plain": [
       "'surya from first function'"
      ]
     },
     "execution_count": 5,
     "metadata": {},
     "output_type": "execute_result"
    }
   ],
   "source": [
    "function1(\"surya\")"
   ]
  },
  {
   "cell_type": "code",
   "execution_count": 6,
   "id": "54a8c43b",
   "metadata": {},
   "outputs": [],
   "source": [
    "# %pip uninstall langgraph\n",
    "# %pip install langgraph\n"
   ]
  },
  {
   "cell_type": "code",
   "execution_count": 35,
   "id": "a4938460",
   "metadata": {},
   "outputs": [],
   "source": [
    "from langgraph.graph import StateGraph\n"
   ]
  },
  {
   "cell_type": "code",
   "execution_count": 36,
   "id": "921b49d2",
   "metadata": {},
   "outputs": [
    {
     "ename": "ImportError",
     "evalue": "cannot import name 'Graph' from 'langgraph.graph' (c:\\Users\\chand\\anaconda3\\envs\\july14env\\Lib\\site-packages\\langgraph\\graph\\__init__.py)",
     "output_type": "error",
     "traceback": [
      "\u001b[31m---------------------------------------------------------------------------\u001b[39m",
      "\u001b[31mImportError\u001b[39m                               Traceback (most recent call last)",
      "\u001b[36mCell\u001b[39m\u001b[36m \u001b[39m\u001b[32mIn[36]\u001b[39m\u001b[32m, line 1\u001b[39m\n\u001b[32m----> \u001b[39m\u001b[32m1\u001b[39m \u001b[38;5;28;01mfrom\u001b[39;00m\u001b[38;5;250m \u001b[39m\u001b[34;01mlanggraph\u001b[39;00m\u001b[34;01m.\u001b[39;00m\u001b[34;01mgraph\u001b[39;00m\u001b[38;5;250m \u001b[39m\u001b[38;5;28;01mimport\u001b[39;00m Graph\n",
      "\u001b[31mImportError\u001b[39m: cannot import name 'Graph' from 'langgraph.graph' (c:\\Users\\chand\\anaconda3\\envs\\july14env\\Lib\\site-packages\\langgraph\\graph\\__init__.py)"
     ]
    }
   ],
   "source": [
    "from langgraph.graph import Graph"
   ]
  },
  {
   "cell_type": "code",
   "execution_count": 37,
   "id": "755f358b",
   "metadata": {},
   "outputs": [
    {
     "ename": "NameError",
     "evalue": "name 'Graph' is not defined",
     "output_type": "error",
     "traceback": [
      "\u001b[31m---------------------------------------------------------------------------\u001b[39m",
      "\u001b[31mNameError\u001b[39m                                 Traceback (most recent call last)",
      "\u001b[36mCell\u001b[39m\u001b[36m \u001b[39m\u001b[32mIn[37]\u001b[39m\u001b[32m, line 1\u001b[39m\n\u001b[32m----> \u001b[39m\u001b[32m1\u001b[39m workflow1=\u001b[43mGraph\u001b[49m()\n",
      "\u001b[31mNameError\u001b[39m: name 'Graph' is not defined"
     ]
    }
   ],
   "source": [
    "workflow1=Graph()"
   ]
  },
  {
   "cell_type": "code",
   "execution_count": 38,
   "id": "31ec6f48",
   "metadata": {},
   "outputs": [
    {
     "ename": "NameError",
     "evalue": "name 'workflow1' is not defined",
     "output_type": "error",
     "traceback": [
      "\u001b[31m---------------------------------------------------------------------------\u001b[39m",
      "\u001b[31mNameError\u001b[39m                                 Traceback (most recent call last)",
      "\u001b[36mCell\u001b[39m\u001b[36m \u001b[39m\u001b[32mIn[38]\u001b[39m\u001b[32m, line 1\u001b[39m\n\u001b[32m----> \u001b[39m\u001b[32m1\u001b[39m \u001b[43mworkflow1\u001b[49m.add_node(\u001b[33m\"\u001b[39m\u001b[33mfun1\u001b[39m\u001b[33m\"\u001b[39m,function1)\n",
      "\u001b[31mNameError\u001b[39m: name 'workflow1' is not defined"
     ]
    }
   ],
   "source": [
    "workflow1.add_node(\"fun1\",function1)"
   ]
  },
  {
   "cell_type": "code",
   "execution_count": 39,
   "id": "8198a9a3",
   "metadata": {},
   "outputs": [
    {
     "ename": "NameError",
     "evalue": "name 'workflow1' is not defined",
     "output_type": "error",
     "traceback": [
      "\u001b[31m---------------------------------------------------------------------------\u001b[39m",
      "\u001b[31mNameError\u001b[39m                                 Traceback (most recent call last)",
      "\u001b[36mCell\u001b[39m\u001b[36m \u001b[39m\u001b[32mIn[39]\u001b[39m\u001b[32m, line 1\u001b[39m\n\u001b[32m----> \u001b[39m\u001b[32m1\u001b[39m \u001b[43mworkflow1\u001b[49m.add_node(\u001b[33m\"\u001b[39m\u001b[33mfun2\u001b[39m\u001b[33m\"\u001b[39m,function2)\n",
      "\u001b[31mNameError\u001b[39m: name 'workflow1' is not defined"
     ]
    }
   ],
   "source": [
    "workflow1.add_node(\"fun2\",function2)"
   ]
  },
  {
   "cell_type": "code",
   "execution_count": 40,
   "id": "789daefd",
   "metadata": {},
   "outputs": [
    {
     "ename": "NameError",
     "evalue": "name 'workflow1' is not defined",
     "output_type": "error",
     "traceback": [
      "\u001b[31m---------------------------------------------------------------------------\u001b[39m",
      "\u001b[31mNameError\u001b[39m                                 Traceback (most recent call last)",
      "\u001b[36mCell\u001b[39m\u001b[36m \u001b[39m\u001b[32mIn[40]\u001b[39m\u001b[32m, line 1\u001b[39m\n\u001b[32m----> \u001b[39m\u001b[32m1\u001b[39m \u001b[43mworkflow1\u001b[49m.add_edge(\u001b[33m\"\u001b[39m\u001b[33mfun1\u001b[39m\u001b[33m\"\u001b[39m,\u001b[33m\"\u001b[39m\u001b[33mfun2\u001b[39m\u001b[33m\"\u001b[39m)\n",
      "\u001b[31mNameError\u001b[39m: name 'workflow1' is not defined"
     ]
    }
   ],
   "source": [
    "workflow1.add_edge(\"fun1\",\"fun2\")"
   ]
  },
  {
   "cell_type": "code",
   "execution_count": 41,
   "id": "753b458e",
   "metadata": {},
   "outputs": [
    {
     "ename": "NameError",
     "evalue": "name 'workflow1' is not defined",
     "output_type": "error",
     "traceback": [
      "\u001b[31m---------------------------------------------------------------------------\u001b[39m",
      "\u001b[31mNameError\u001b[39m                                 Traceback (most recent call last)",
      "\u001b[36mCell\u001b[39m\u001b[36m \u001b[39m\u001b[32mIn[41]\u001b[39m\u001b[32m, line 1\u001b[39m\n\u001b[32m----> \u001b[39m\u001b[32m1\u001b[39m \u001b[43mworkflow1\u001b[49m.set_entry_point(\u001b[33m\"\u001b[39m\u001b[33mfun1\u001b[39m\u001b[33m\"\u001b[39m)\n",
      "\u001b[31mNameError\u001b[39m: name 'workflow1' is not defined"
     ]
    }
   ],
   "source": [
    "workflow1.set_entry_point(\"fun1\")"
   ]
  },
  {
   "cell_type": "code",
   "execution_count": 42,
   "id": "80470a44",
   "metadata": {},
   "outputs": [
    {
     "ename": "NameError",
     "evalue": "name 'workflow1' is not defined",
     "output_type": "error",
     "traceback": [
      "\u001b[31m---------------------------------------------------------------------------\u001b[39m",
      "\u001b[31mNameError\u001b[39m                                 Traceback (most recent call last)",
      "\u001b[36mCell\u001b[39m\u001b[36m \u001b[39m\u001b[32mIn[42]\u001b[39m\u001b[32m, line 1\u001b[39m\n\u001b[32m----> \u001b[39m\u001b[32m1\u001b[39m \u001b[43mworkflow1\u001b[49m.set_finish_point(\u001b[33m\"\u001b[39m\u001b[33mfun2\u001b[39m\u001b[33m\"\u001b[39m)\n",
      "\u001b[31mNameError\u001b[39m: name 'workflow1' is not defined"
     ]
    }
   ],
   "source": [
    "workflow1.set_finish_point(\"fun2\")"
   ]
  },
  {
   "cell_type": "code",
   "execution_count": 43,
   "id": "4d535393",
   "metadata": {},
   "outputs": [
    {
     "ename": "NameError",
     "evalue": "name 'workflow1' is not defined",
     "output_type": "error",
     "traceback": [
      "\u001b[31m---------------------------------------------------------------------------\u001b[39m",
      "\u001b[31mNameError\u001b[39m                                 Traceback (most recent call last)",
      "\u001b[36mCell\u001b[39m\u001b[36m \u001b[39m\u001b[32mIn[43]\u001b[39m\u001b[32m, line 1\u001b[39m\n\u001b[32m----> \u001b[39m\u001b[32m1\u001b[39m app=\u001b[43mworkflow1\u001b[49m.compile()\n",
      "\u001b[31mNameError\u001b[39m: name 'workflow1' is not defined"
     ]
    }
   ],
   "source": [
    "app=workflow1.compile()"
   ]
  },
  {
   "cell_type": "code",
   "execution_count": 23,
   "id": "843a3401",
   "metadata": {},
   "outputs": [
    {
     "ename": "NameError",
     "evalue": "name 'app' is not defined",
     "output_type": "error",
     "traceback": [
      "\u001b[31m---------------------------------------------------------------------------\u001b[39m",
      "\u001b[31mNameError\u001b[39m                                 Traceback (most recent call last)",
      "\u001b[36mCell\u001b[39m\u001b[36m \u001b[39m\u001b[32mIn[23]\u001b[39m\u001b[32m, line 1\u001b[39m\n\u001b[32m----> \u001b[39m\u001b[32m1\u001b[39m \u001b[43mapp\u001b[49m.get_graph()\n",
      "\u001b[31mNameError\u001b[39m: name 'app' is not defined"
     ]
    }
   ],
   "source": [
    "app.get_graph()"
   ]
  },
  {
   "cell_type": "code",
   "execution_count": 24,
   "id": "7cb03c48",
   "metadata": {},
   "outputs": [],
   "source": [
    "from IPython.display import Image, display"
   ]
  },
  {
   "cell_type": "code",
   "execution_count": 25,
   "id": "bff85a32",
   "metadata": {},
   "outputs": [
    {
     "ename": "NameError",
     "evalue": "name 'app' is not defined",
     "output_type": "error",
     "traceback": [
      "\u001b[31m---------------------------------------------------------------------------\u001b[39m",
      "\u001b[31mNameError\u001b[39m                                 Traceback (most recent call last)",
      "\u001b[36mCell\u001b[39m\u001b[36m \u001b[39m\u001b[32mIn[25]\u001b[39m\u001b[32m, line 1\u001b[39m\n\u001b[32m----> \u001b[39m\u001b[32m1\u001b[39m display(Image(\u001b[43mapp\u001b[49m.get_graph().draw_mermaid_png()))\n",
      "\u001b[31mNameError\u001b[39m: name 'app' is not defined"
     ]
    }
   ],
   "source": [
    "display(Image(app.get_graph().draw_mermaid_png()))"
   ]
  },
  {
   "cell_type": "code",
   "execution_count": 26,
   "id": "74dc1707",
   "metadata": {},
   "outputs": [
    {
     "ename": "NameError",
     "evalue": "name 'app' is not defined",
     "output_type": "error",
     "traceback": [
      "\u001b[31m---------------------------------------------------------------------------\u001b[39m",
      "\u001b[31mNameError\u001b[39m                                 Traceback (most recent call last)",
      "\u001b[36mCell\u001b[39m\u001b[36m \u001b[39m\u001b[32mIn[26]\u001b[39m\u001b[32m, line 1\u001b[39m\n\u001b[32m----> \u001b[39m\u001b[32m1\u001b[39m \u001b[43mapp\u001b[49m.invoke(\u001b[33m\"\u001b[39m\u001b[33mhi this is satya\u001b[39m\u001b[33m\"\u001b[39m)\n",
      "\u001b[31mNameError\u001b[39m: name 'app' is not defined"
     ]
    }
   ],
   "source": [
    "app.invoke(\"hi this is satya\")"
   ]
  },
  {
   "cell_type": "code",
   "execution_count": null,
   "id": "cc787880",
   "metadata": {},
   "outputs": [],
   "source": [
    "for output in app.stream(\"hi this is rohit\"):\n",
    "    for key,value in output.items():\n",
    "        print(f\"here is output from {key}\")\n",
    "        print(\"_______\")\n",
    "        print(value)\n",
    "        print(\"\\n\")\n",
    "    "
   ]
  },
  {
   "cell_type": "code",
   "execution_count": null,
   "id": "23f12599",
   "metadata": {},
   "outputs": [],
   "source": [
    " from langchain_google_genai import ChatGoogleGenerativeAI\n",
    "model=ChatGoogleGenerativeAI(model='gemini-1.5-flash')"
   ]
  },
  {
   "cell_type": "code",
   "execution_count": null,
   "id": "649a2bc6",
   "metadata": {},
   "outputs": [],
   "source": [
    "model.invoke(\"hi\").content"
   ]
  },
  {
   "cell_type": "code",
   "execution_count": 27,
   "id": "1533d829",
   "metadata": {},
   "outputs": [],
   "source": [
    "def llm(input):\n",
    "    from langchain_google_genai import ChatGoogleGenerativeAI\n",
    "    model=ChatGoogleGenerativeAI(model='gemini-1.5-flash')\n",
    "    output=model.invoke(input)\n",
    "    return output.content"
   ]
  },
  {
   "cell_type": "code",
   "execution_count": 28,
   "id": "02108ab2",
   "metadata": {},
   "outputs": [],
   "source": [
    "def token_counter(input):\n",
    "    token=input.split()\n",
    "    token_number=len(token)\n",
    "    return f\"total token number in the generated answer is {token_number}\""
   ]
  },
  {
   "cell_type": "code",
   "execution_count": 29,
   "id": "cfead029",
   "metadata": {},
   "outputs": [
    {
     "ename": "NameError",
     "evalue": "name 'Graph' is not defined",
     "output_type": "error",
     "traceback": [
      "\u001b[31m---------------------------------------------------------------------------\u001b[39m",
      "\u001b[31mNameError\u001b[39m                                 Traceback (most recent call last)",
      "\u001b[36mCell\u001b[39m\u001b[36m \u001b[39m\u001b[32mIn[29]\u001b[39m\u001b[32m, line 1\u001b[39m\n\u001b[32m----> \u001b[39m\u001b[32m1\u001b[39m workflow2=\u001b[43mGraph\u001b[49m()\n",
      "\u001b[31mNameError\u001b[39m: name 'Graph' is not defined"
     ]
    }
   ],
   "source": [
    "workflow2=Graph()"
   ]
  },
  {
   "cell_type": "code",
   "execution_count": null,
   "id": "5ae85508",
   "metadata": {},
   "outputs": [],
   "source": [
    "workflow2.add_node(\"My_LLM\",llm)"
   ]
  },
  {
   "cell_type": "code",
   "execution_count": 30,
   "id": "56526169",
   "metadata": {},
   "outputs": [
    {
     "ename": "NameError",
     "evalue": "name 'workflow2' is not defined",
     "output_type": "error",
     "traceback": [
      "\u001b[31m---------------------------------------------------------------------------\u001b[39m",
      "\u001b[31mNameError\u001b[39m                                 Traceback (most recent call last)",
      "\u001b[36mCell\u001b[39m\u001b[36m \u001b[39m\u001b[32mIn[30]\u001b[39m\u001b[32m, line 1\u001b[39m\n\u001b[32m----> \u001b[39m\u001b[32m1\u001b[39m \u001b[43mworkflow2\u001b[49m.add_node(\u001b[33m\"\u001b[39m\u001b[33mLLM_Output_Token_Counter\u001b[39m\u001b[33m\"\u001b[39m,token_counter)\n",
      "\u001b[31mNameError\u001b[39m: name 'workflow2' is not defined"
     ]
    }
   ],
   "source": [
    "workflow2.add_node(\"LLM_Output_Token_Counter\",token_counter)"
   ]
  },
  {
   "cell_type": "code",
   "execution_count": null,
   "id": "e35232e4",
   "metadata": {},
   "outputs": [],
   "source": [
    "workflow2.add_edge(\"My_LLM\",\"LLM_Output_Token_Counter\")"
   ]
  },
  {
   "cell_type": "code",
   "execution_count": 31,
   "id": "0811be02",
   "metadata": {},
   "outputs": [
    {
     "ename": "NameError",
     "evalue": "name 'workflow2' is not defined",
     "output_type": "error",
     "traceback": [
      "\u001b[31m---------------------------------------------------------------------------\u001b[39m",
      "\u001b[31mNameError\u001b[39m                                 Traceback (most recent call last)",
      "\u001b[36mCell\u001b[39m\u001b[36m \u001b[39m\u001b[32mIn[31]\u001b[39m\u001b[32m, line 1\u001b[39m\n\u001b[32m----> \u001b[39m\u001b[32m1\u001b[39m \u001b[43mworkflow2\u001b[49m.set_entry_point(\u001b[33m\"\u001b[39m\u001b[33mMy_LLM\u001b[39m\u001b[33m\"\u001b[39m)\n",
      "\u001b[31mNameError\u001b[39m: name 'workflow2' is not defined"
     ]
    }
   ],
   "source": [
    "workflow2.set_entry_point(\"My_LLM\")"
   ]
  },
  {
   "cell_type": "code",
   "execution_count": null,
   "id": "8e9e24ba",
   "metadata": {},
   "outputs": [],
   "source": [
    "workflow2.set_finish_point(\"LLM_Output_Token_Counter\")"
   ]
  },
  {
   "cell_type": "code",
   "execution_count": 32,
   "id": "35839a22",
   "metadata": {},
   "outputs": [
    {
     "ename": "NameError",
     "evalue": "name 'workflow2' is not defined",
     "output_type": "error",
     "traceback": [
      "\u001b[31m---------------------------------------------------------------------------\u001b[39m",
      "\u001b[31mNameError\u001b[39m                                 Traceback (most recent call last)",
      "\u001b[36mCell\u001b[39m\u001b[36m \u001b[39m\u001b[32mIn[32]\u001b[39m\u001b[32m, line 1\u001b[39m\n\u001b[32m----> \u001b[39m\u001b[32m1\u001b[39m app=\u001b[43mworkflow2\u001b[49m.compile()\n",
      "\u001b[31mNameError\u001b[39m: name 'workflow2' is not defined"
     ]
    }
   ],
   "source": [
    "app=workflow2.compile()"
   ]
  },
  {
   "cell_type": "code",
   "execution_count": null,
   "id": "689d819d",
   "metadata": {},
   "outputs": [],
   "source": [
    "display(Image(app.get_graph().draw_mermaid_png()))"
   ]
  },
  {
   "cell_type": "code",
   "execution_count": 33,
   "id": "137fd061",
   "metadata": {},
   "outputs": [
    {
     "ename": "NameError",
     "evalue": "name 'app' is not defined",
     "output_type": "error",
     "traceback": [
      "\u001b[31m---------------------------------------------------------------------------\u001b[39m",
      "\u001b[31mNameError\u001b[39m                                 Traceback (most recent call last)",
      "\u001b[36mCell\u001b[39m\u001b[36m \u001b[39m\u001b[32mIn[33]\u001b[39m\u001b[32m, line 1\u001b[39m\n\u001b[32m----> \u001b[39m\u001b[32m1\u001b[39m \u001b[43mapp\u001b[49m.invoke(\u001b[33m\"\u001b[39m\u001b[33mcan you tell me about the india\u001b[39m\u001b[33m'\u001b[39m\u001b[33ms capital?\u001b[39m\u001b[33m\"\u001b[39m)\n",
      "\u001b[31mNameError\u001b[39m: name 'app' is not defined"
     ]
    }
   ],
   "source": [
    "app.invoke(\"can you tell me about the india's capital?\")"
   ]
  },
  {
   "cell_type": "code",
   "execution_count": 34,
   "id": "26e04894",
   "metadata": {},
   "outputs": [
    {
     "ename": "NameError",
     "evalue": "name 'app' is not defined",
     "output_type": "error",
     "traceback": [
      "\u001b[31m---------------------------------------------------------------------------\u001b[39m",
      "\u001b[31mNameError\u001b[39m                                 Traceback (most recent call last)",
      "\u001b[36mCell\u001b[39m\u001b[36m \u001b[39m\u001b[32mIn[34]\u001b[39m\u001b[32m, line 1\u001b[39m\n\u001b[32m----> \u001b[39m\u001b[32m1\u001b[39m \u001b[43mapp\u001b[49m.invoke(\u001b[33m\"\u001b[39m\u001b[33mtell me about the tata enterpirse in very detail.\u001b[39m\u001b[33m\"\u001b[39m)\n",
      "\u001b[31mNameError\u001b[39m: name 'app' is not defined"
     ]
    }
   ],
   "source": [
    "app.invoke(\"tell me about the tata enterpirse in very detail.\")"
   ]
  },
  {
   "cell_type": "code",
   "execution_count": null,
   "id": "92d3d351",
   "metadata": {},
   "outputs": [],
   "source": [
    "for output in app.stream(\"tell me about the tata enterpirse in very detail.\"):\n",
    "    for key,value in output.items():\n",
    "        print(f\"here is output from {key}\")\n",
    "        print(\"_______\")\n",
    "        print(value)\n",
    "        print(\"\\n\")"
   ]
  }
 ],
 "metadata": {
  "kernelspec": {
   "display_name": "july14env",
   "language": "python",
   "name": "python3"
  },
  "language_info": {
   "codemirror_mode": {
    "name": "ipython",
    "version": 3
   },
   "file_extension": ".py",
   "mimetype": "text/x-python",
   "name": "python",
   "nbconvert_exporter": "python",
   "pygments_lexer": "ipython3",
   "version": "3.11.11"
  }
 },
 "nbformat": 4,
 "nbformat_minor": 5
}
