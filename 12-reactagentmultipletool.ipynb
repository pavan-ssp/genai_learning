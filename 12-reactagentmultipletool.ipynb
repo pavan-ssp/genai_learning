{
 "cells": [
  {
   "cell_type": "code",
   "execution_count": 1,
   "id": "0ca631d9",
   "metadata": {},
   "outputs": [],
   "source": [
    "from dotenv import load_dotenv\n",
    "load_dotenv()\n",
    "import os\n",
    "os.environ['GROQ_API_KEY'] = os.getenv(\"GROQ_API_KEY\")"
   ]
  },
  {
   "cell_type": "code",
   "execution_count": 2,
   "id": "66173ff6",
   "metadata": {},
   "outputs": [],
   "source": [
    "model=\"deepseek-r1-distill-llama-70b\""
   ]
  },
  {
   "cell_type": "markdown",
   "id": "e74bdf92",
   "metadata": {},
   "source": [
    "### Load the model"
   ]
  },
  {
   "cell_type": "code",
   "execution_count": 3,
   "id": "8944a3ec",
   "metadata": {},
   "outputs": [],
   "source": [
    "from langchain_groq import ChatGroq\n"
   ]
  },
  {
   "cell_type": "code",
   "execution_count": 4,
   "id": "81ad4cab",
   "metadata": {},
   "outputs": [],
   "source": [
    "llm=ChatGroq(model_name=model)"
   ]
  },
  {
   "cell_type": "code",
   "execution_count": 5,
   "id": "03d077ab",
   "metadata": {},
   "outputs": [
    {
     "data": {
      "text/plain": [
       "AIMessage(content='<think>\\n\\n</think>\\n\\nHello! How can I assist you today? 😊', additional_kwargs={}, response_metadata={'token_usage': {'completion_tokens': 16, 'prompt_tokens': 4, 'total_tokens': 20, 'completion_time': 0.081087389, 'prompt_time': 6.8369e-05, 'queue_time': 0.054155451, 'total_time': 0.081155758}, 'model_name': 'deepseek-r1-distill-llama-70b', 'system_fingerprint': 'fp_76307ac09b', 'service_tier': 'on_demand', 'finish_reason': 'stop', 'logprobs': None}, id='run--2acb1230-01ab-4627-8635-a7098b008a3b-0', usage_metadata={'input_tokens': 4, 'output_tokens': 16, 'total_tokens': 20})"
      ]
     },
     "execution_count": 5,
     "metadata": {},
     "output_type": "execute_result"
    }
   ],
   "source": [
    "llm.invoke(\"hi\")"
   ]
  },
  {
   "cell_type": "code",
   "execution_count": 6,
   "id": "9f743567",
   "metadata": {},
   "outputs": [
    {
     "name": "stdout",
     "output_type": "stream",
     "text": [
      "<think>\n",
      "\n",
      "</think>\n",
      "\n",
      "Hello! How can I assist you today? 😊\n"
     ]
    }
   ],
   "source": [
    "print(llm.invoke(\"hi\").content)"
   ]
  },
  {
   "cell_type": "code",
   "execution_count": 7,
   "id": "6ed30233",
   "metadata": {},
   "outputs": [
    {
     "name": "stdout",
     "output_type": "stream",
     "text": [
      "Requirement already satisfied: langgraph in c:\\users\\chand\\anaconda3\\envs\\langgraph_env\\lib\\site-packages (0.5.3)Note: you may need to restart the kernel to use updated packages.\n",
      "\n",
      "Requirement already satisfied: langchain-core>=0.1 in c:\\users\\chand\\anaconda3\\envs\\langgraph_env\\lib\\site-packages (from langgraph) (0.3.69)\n",
      "Requirement already satisfied: langgraph-checkpoint<3.0.0,>=2.1.0 in c:\\users\\chand\\anaconda3\\envs\\langgraph_env\\lib\\site-packages (from langgraph) (2.1.0)\n",
      "Requirement already satisfied: langgraph-prebuilt<0.6.0,>=0.5.0 in c:\\users\\chand\\anaconda3\\envs\\langgraph_env\\lib\\site-packages (from langgraph) (0.5.2)\n",
      "Requirement already satisfied: langgraph-sdk<0.2.0,>=0.1.42 in c:\\users\\chand\\anaconda3\\envs\\langgraph_env\\lib\\site-packages (from langgraph) (0.1.73)\n",
      "Requirement already satisfied: pydantic>=2.7.4 in c:\\users\\chand\\anaconda3\\envs\\langgraph_env\\lib\\site-packages (from langgraph) (2.11.7)\n",
      "Requirement already satisfied: xxhash>=3.5.0 in c:\\users\\chand\\anaconda3\\envs\\langgraph_env\\lib\\site-packages (from langgraph) (3.5.0)\n",
      "Requirement already satisfied: ormsgpack>=1.10.0 in c:\\users\\chand\\anaconda3\\envs\\langgraph_env\\lib\\site-packages (from langgraph-checkpoint<3.0.0,>=2.1.0->langgraph) (1.10.0)\n",
      "Requirement already satisfied: httpx>=0.25.2 in c:\\users\\chand\\anaconda3\\envs\\langgraph_env\\lib\\site-packages (from langgraph-sdk<0.2.0,>=0.1.42->langgraph) (0.28.1)\n",
      "Requirement already satisfied: orjson>=3.10.1 in c:\\users\\chand\\anaconda3\\envs\\langgraph_env\\lib\\site-packages (from langgraph-sdk<0.2.0,>=0.1.42->langgraph) (3.11.0)\n",
      "Requirement already satisfied: anyio in c:\\users\\chand\\anaconda3\\envs\\langgraph_env\\lib\\site-packages (from httpx>=0.25.2->langgraph-sdk<0.2.0,>=0.1.42->langgraph) (4.9.0)\n",
      "Requirement already satisfied: certifi in c:\\users\\chand\\anaconda3\\envs\\langgraph_env\\lib\\site-packages (from httpx>=0.25.2->langgraph-sdk<0.2.0,>=0.1.42->langgraph) (2025.7.14)\n",
      "Requirement already satisfied: httpcore==1.* in c:\\users\\chand\\anaconda3\\envs\\langgraph_env\\lib\\site-packages (from httpx>=0.25.2->langgraph-sdk<0.2.0,>=0.1.42->langgraph) (1.0.9)\n",
      "Requirement already satisfied: idna in c:\\users\\chand\\anaconda3\\envs\\langgraph_env\\lib\\site-packages (from httpx>=0.25.2->langgraph-sdk<0.2.0,>=0.1.42->langgraph) (3.10)\n",
      "Requirement already satisfied: h11>=0.16 in c:\\users\\chand\\anaconda3\\envs\\langgraph_env\\lib\\site-packages (from httpcore==1.*->httpx>=0.25.2->langgraph-sdk<0.2.0,>=0.1.42->langgraph) (0.16.0)\n",
      "Requirement already satisfied: langsmith>=0.3.45 in c:\\users\\chand\\anaconda3\\envs\\langgraph_env\\lib\\site-packages (from langchain-core>=0.1->langgraph) (0.4.6)\n",
      "Requirement already satisfied: tenacity!=8.4.0,<10.0.0,>=8.1.0 in c:\\users\\chand\\anaconda3\\envs\\langgraph_env\\lib\\site-packages (from langchain-core>=0.1->langgraph) (9.1.2)\n",
      "Requirement already satisfied: jsonpatch<2.0,>=1.33 in c:\\users\\chand\\anaconda3\\envs\\langgraph_env\\lib\\site-packages (from langchain-core>=0.1->langgraph) (1.33)\n",
      "Requirement already satisfied: PyYAML>=5.3 in c:\\users\\chand\\anaconda3\\envs\\langgraph_env\\lib\\site-packages (from langchain-core>=0.1->langgraph) (6.0.2)\n",
      "Requirement already satisfied: typing-extensions>=4.7 in c:\\users\\chand\\anaconda3\\envs\\langgraph_env\\lib\\site-packages (from langchain-core>=0.1->langgraph) (4.14.1)\n",
      "Requirement already satisfied: packaging>=23.2 in c:\\users\\chand\\anaconda3\\envs\\langgraph_env\\lib\\site-packages (from langchain-core>=0.1->langgraph) (24.2)\n",
      "Requirement already satisfied: jsonpointer>=1.9 in c:\\users\\chand\\anaconda3\\envs\\langgraph_env\\lib\\site-packages (from jsonpatch<2.0,>=1.33->langchain-core>=0.1->langgraph) (3.0.0)\n",
      "Requirement already satisfied: requests<3,>=2 in c:\\users\\chand\\anaconda3\\envs\\langgraph_env\\lib\\site-packages (from langsmith>=0.3.45->langchain-core>=0.1->langgraph) (2.32.4)\n",
      "Requirement already satisfied: requests-toolbelt<2.0.0,>=1.0.0 in c:\\users\\chand\\anaconda3\\envs\\langgraph_env\\lib\\site-packages (from langsmith>=0.3.45->langchain-core>=0.1->langgraph) (1.0.0)\n",
      "Requirement already satisfied: zstandard<0.24.0,>=0.23.0 in c:\\users\\chand\\anaconda3\\envs\\langgraph_env\\lib\\site-packages (from langsmith>=0.3.45->langchain-core>=0.1->langgraph) (0.23.0)\n",
      "Requirement already satisfied: annotated-types>=0.6.0 in c:\\users\\chand\\anaconda3\\envs\\langgraph_env\\lib\\site-packages (from pydantic>=2.7.4->langgraph) (0.7.0)\n",
      "Requirement already satisfied: pydantic-core==2.33.2 in c:\\users\\chand\\anaconda3\\envs\\langgraph_env\\lib\\site-packages (from pydantic>=2.7.4->langgraph) (2.33.2)\n",
      "Requirement already satisfied: typing-inspection>=0.4.0 in c:\\users\\chand\\anaconda3\\envs\\langgraph_env\\lib\\site-packages (from pydantic>=2.7.4->langgraph) (0.4.1)\n",
      "Requirement already satisfied: charset_normalizer<4,>=2 in c:\\users\\chand\\anaconda3\\envs\\langgraph_env\\lib\\site-packages (from requests<3,>=2->langsmith>=0.3.45->langchain-core>=0.1->langgraph) (3.4.2)\n",
      "Requirement already satisfied: urllib3<3,>=1.21.1 in c:\\users\\chand\\anaconda3\\envs\\langgraph_env\\lib\\site-packages (from requests<3,>=2->langsmith>=0.3.45->langchain-core>=0.1->langgraph) (2.5.0)\n",
      "Requirement already satisfied: exceptiongroup>=1.0.2 in c:\\users\\chand\\anaconda3\\envs\\langgraph_env\\lib\\site-packages (from anyio->httpx>=0.25.2->langgraph-sdk<0.2.0,>=0.1.42->langgraph) (1.3.0)\n",
      "Requirement already satisfied: sniffio>=1.1 in c:\\users\\chand\\anaconda3\\envs\\langgraph_env\\lib\\site-packages (from anyio->httpx>=0.25.2->langgraph-sdk<0.2.0,>=0.1.42->langgraph) (1.3.1)\n"
     ]
    }
   ],
   "source": [
    "%pip install --upgrade langgraph\n"
   ]
  },
  {
   "cell_type": "code",
   "execution_count": 8,
   "id": "c573b1a5",
   "metadata": {},
   "outputs": [],
   "source": [
    "# import operator\n",
    "# from typing import List\n",
    "# from langgraph.graph.message import add_messages\n",
    "# from pydantic import BaseModel , Field\n",
    "# from typing import TypedDict, Annotated, Sequence\n",
    "# from langchain_core.messages import BaseMessage\n",
    "# from langchain_core.output_parsers import StrOutputParser\n",
    "# from langchain_core.prompts import ChatPromptTemplate, PromptTemplate\n",
    "\n",
    "from langchain_core.tools import tool\n",
    "from langchain_core.messages import HumanMessage, AIMessage\n",
    "from langgraph.graph import StateGraph,MessagesState,START,END\n",
    "from langgraph.prebuilt import ToolNode"
   ]
  },
  {
   "cell_type": "code",
   "execution_count": 9,
   "id": "2a2e89b5",
   "metadata": {},
   "outputs": [
    {
     "name": "stdout",
     "output_type": "stream",
     "text": [
      "['InjectedState', 'InjectedStore', 'ToolNode', 'ValidationNode', '__all__', '__builtins__', '__cached__', '__doc__', '__file__', '__loader__', '__name__', '__package__', '__path__', '__spec__', 'chat_agent_executor', 'create_react_agent', 'tool_node', 'tool_validator', 'tools_condition']\n"
     ]
    }
   ],
   "source": [
    "import langgraph.prebuilt as prebuilt\n",
    "print(dir(prebuilt))\n"
   ]
  },
  {
   "cell_type": "code",
   "execution_count": 10,
   "id": "3a941eff",
   "metadata": {},
   "outputs": [],
   "source": [
    "def call_model(state: MessagesState):\n",
    "    messages = state['messages']\n",
    "    response = llm.invoke(messages)\n",
    "    return {\"messages\": [response]}"
   ]
  },
  {
   "cell_type": "markdown",
   "id": "c418070d",
   "metadata": {},
   "source": [
    "### this code is only for the testing/"
   ]
  },
  {
   "cell_type": "code",
   "execution_count": 11,
   "id": "e45c99e9",
   "metadata": {},
   "outputs": [
    {
     "data": {
      "text/plain": [
       "{'messages': [AIMessage(content=\"<think>\\n\\n</think>\\n\\nHello! I'm just a virtual assistant, so I don't have feelings, but I'm here and ready to help you with whatever you need. How are you doing? 😊\", additional_kwargs={}, response_metadata={'token_usage': {'completion_tokens': 42, 'prompt_tokens': 9, 'total_tokens': 51, 'completion_time': 0.223744594, 'prompt_time': 0.00021768, 'queue_time': 0.05965148, 'total_time': 0.223962274}, 'model_name': 'deepseek-r1-distill-llama-70b', 'system_fingerprint': 'fp_78afca88a5', 'service_tier': 'on_demand', 'finish_reason': 'stop', 'logprobs': None}, id='run--d3d444b8-f1fb-4264-80d2-574641b183ef-0', usage_metadata={'input_tokens': 9, 'output_tokens': 42, 'total_tokens': 51})]}"
      ]
     },
     "execution_count": 11,
     "metadata": {},
     "output_type": "execute_result"
    }
   ],
   "source": [
    "\n",
    "state={\"messages\":[\"hi hello how are you?\"]}\n",
    "call_model(state)"
   ]
  },
  {
   "cell_type": "markdown",
   "id": "e4555d5d",
   "metadata": {},
   "source": [
    "## Design a simple workflow without tool calling/"
   ]
  },
  {
   "cell_type": "code",
   "execution_count": 12,
   "id": "819b2fc1",
   "metadata": {},
   "outputs": [],
   "source": [
    "workflow=StateGraph(MessagesState)"
   ]
  },
  {
   "cell_type": "code",
   "execution_count": 13,
   "id": "09e1579b",
   "metadata": {},
   "outputs": [
    {
     "data": {
      "text/plain": [
       "<langgraph.graph.state.StateGraph at 0x1d3406d6950>"
      ]
     },
     "execution_count": 13,
     "metadata": {},
     "output_type": "execute_result"
    }
   ],
   "source": [
    "workflow.add_node(\"mybot\",call_model)"
   ]
  },
  {
   "cell_type": "code",
   "execution_count": 14,
   "id": "78c4687c",
   "metadata": {},
   "outputs": [
    {
     "data": {
      "text/plain": [
       "<langgraph.graph.state.StateGraph at 0x1d3406d6950>"
      ]
     },
     "execution_count": 14,
     "metadata": {},
     "output_type": "execute_result"
    }
   ],
   "source": [
    "workflow.add_edge(START,\"mybot\")"
   ]
  },
  {
   "cell_type": "code",
   "execution_count": 15,
   "id": "6a002b5e",
   "metadata": {},
   "outputs": [
    {
     "data": {
      "text/plain": [
       "<langgraph.graph.state.StateGraph at 0x1d3406d6950>"
      ]
     },
     "execution_count": 15,
     "metadata": {},
     "output_type": "execute_result"
    }
   ],
   "source": [
    "workflow.add_edge(\"mybot\",END)"
   ]
  },
  {
   "cell_type": "code",
   "execution_count": 16,
   "id": "b6d0389f",
   "metadata": {},
   "outputs": [],
   "source": [
    "app=workflow.compile()"
   ]
  },
  {
   "cell_type": "code",
   "execution_count": 17,
   "id": "132c1997",
   "metadata": {},
   "outputs": [
    {
     "data": {
      "image/png": "[encoded data removed]",
      "text/plain": [
       "<IPython.core.display.Image object>"
      ]
     },
     "metadata": {},
     "output_type": "display_data"
    }
   ],
   "source": [
    "from IPython.display import Image, display\n",
    "display(Image(app.get_graph().draw_mermaid_png()))"
   ]
  },
  {
   "cell_type": "code",
   "execution_count": 18,
   "id": "029c86a6",
   "metadata": {},
   "outputs": [],
   "source": [
    "input={\"messages\":[\"hi hello how are you?\"]}"
   ]
  },
  {
   "cell_type": "code",
   "execution_count": 19,
   "id": "2b8aa52b",
   "metadata": {},
   "outputs": [
    {
     "data": {
      "text/plain": [
       "{'messages': [HumanMessage(content='hi hello how are you?', additional_kwargs={}, response_metadata={}, id='84727cda-7f62-45ec-9aa1-9d8af34f16c8'),\n",
       "  AIMessage(content=\"<think>\\n\\n</think>\\n\\nHello! I'm just a virtual assistant, so I don't have feelings, but I'm here and ready to help you with whatever you need. How are *you* doing? 😊\", additional_kwargs={}, response_metadata={'token_usage': {'completion_tokens': 44, 'prompt_tokens': 9, 'total_tokens': 53, 'completion_time': 0.191921172, 'prompt_time': 0.00020345, 'queue_time': 0.059586719999999996, 'total_time': 0.192124622}, 'model_name': 'deepseek-r1-distill-llama-70b', 'system_fingerprint': 'fp_78afca88a5', 'service_tier': 'on_demand', 'finish_reason': 'stop', 'logprobs': None}, id='run--6b4a47c4-5043-4dc5-9502-04c0fce51a02-0', usage_metadata={'input_tokens': 9, 'output_tokens': 44, 'total_tokens': 53})]}"
      ]
     },
     "execution_count": 19,
     "metadata": {},
     "output_type": "execute_result"
    }
   ],
   "source": [
    "app.invoke(input)"
   ]
  },
  {
   "cell_type": "code",
   "execution_count": 20,
   "id": "6d954427",
   "metadata": {},
   "outputs": [
    {
     "name": "stdout",
     "output_type": "stream",
     "text": [
      "Output from mybot Node\n",
      "_______\n",
      "{'messages': [AIMessage(content=\"<think>\\n\\n</think>\\n\\nHello! I'm just a virtual assistant, so I don't have feelings, but I'm here and ready to help you with whatever you need. How are *you* doing? 😊\", additional_kwargs={}, response_metadata={'token_usage': {'completion_tokens': 44, 'prompt_tokens': 9, 'total_tokens': 53, 'completion_time': 0.184242378, 'prompt_time': 0.002527948, 'queue_time': 0.059609181, 'total_time': 0.186770326}, 'model_name': 'deepseek-r1-distill-llama-70b', 'system_fingerprint': 'fp_78afca88a5', 'service_tier': 'on_demand', 'finish_reason': 'stop', 'logprobs': None}, id='run--d78e73ed-10cb-43d7-92f1-e571e4e04ef2-0', usage_metadata={'input_tokens': 9, 'output_tokens': 44, 'total_tokens': 53})]}\n",
      "\n",
      "\n"
     ]
    }
   ],
   "source": [
    "for output in app.stream(input):\n",
    "    for key,value in output.items():\n",
    "        print(f\"Output from {key} Node\")\n",
    "        print(\"_______\")\n",
    "        print(value)\n",
    "        print(\"\\n\")"
   ]
  },
  {
   "cell_type": "markdown",
   "id": "eecb42b1",
   "metadata": {},
   "source": [
    "### this is a workflow with tool calling"
   ]
  },
  {
   "cell_type": "code",
   "execution_count": 21,
   "id": "79feb7bc",
   "metadata": {},
   "outputs": [],
   "source": [
    "@tool\n",
    "def search(query:str):\n",
    "    \"\"\"this is my custom tool for searching a weather\"\"\"\n",
    "    if \"delhi\" in query.lower():\n",
    "        return \"the temp is 45 degree and sunny\"\n",
    "    return \"the temp is 25 degree and cloudy\""
   ]
  },
  {
   "cell_type": "markdown",
   "id": "602d23b7",
   "metadata": {},
   "source": [
    "## testing a tool"
   ]
  },
  {
   "cell_type": "code",
   "execution_count": 22,
   "id": "04350391",
   "metadata": {},
   "outputs": [
    {
     "data": {
      "text/plain": [
       "'the temp is 25 degree and cloudy'"
      ]
     },
     "execution_count": 22,
     "metadata": {},
     "output_type": "execute_result"
    }
   ],
   "source": [
    "search.invoke(\"what is a tempurature in kashmir?\")"
   ]
  },
  {
   "cell_type": "code",
   "execution_count": 23,
   "id": "1fc8a521",
   "metadata": {},
   "outputs": [
    {
     "data": {
      "text/plain": [
       "'the temp is 45 degree and sunny'"
      ]
     },
     "execution_count": 23,
     "metadata": {},
     "output_type": "execute_result"
    }
   ],
   "source": [
    "search.invoke(\"what is a tempurature in delhi?\")"
   ]
  },
  {
   "cell_type": "code",
   "execution_count": 24,
   "id": "ab98510f",
   "metadata": {},
   "outputs": [
    {
     "data": {
      "text/plain": [
       "StructuredTool(name='search', description='this is my custom tool for searching a weather', args_schema=<class 'langchain_core.utils.pydantic.search'>, func=<function search at 0x000001D3405076D0>)"
      ]
     },
     "execution_count": 24,
     "metadata": {},
     "output_type": "execute_result"
    }
   ],
   "source": [
    "search"
   ]
  },
  {
   "cell_type": "code",
   "execution_count": 25,
   "id": "6c2f20d8",
   "metadata": {},
   "outputs": [
    {
     "data": {
      "text/plain": [
       "AIMessage(content=\"<think>\\n\\n</think>\\n\\nAs of my last update in July 2024, I cannot provide real-time weather information. However, Delhi generally experiences a humid subtropical climate with extreme variations in temperature throughout the year. Here's a breakdown of Delhi's typical weather:\\n\\n- **Summer (March to June):** Extremely hot with temperatures often reaching 45°C (113°F) or higher.\\n- **Monsoon (July to September):** Hot and humid with frequent rains. The temperature ranges from 25°C to 35°C (77°F to 95°F).\\n- **Winter (December to February):** Cool to cold with temperatures ranging from 2°C to 15°C (36°F to 59°F). Fog is common during this season.\\n- **Autumn (October to November) and Spring (February to March):** Mild and pleasant with temperatures between 10°C to 25°C (50°F to 77°F).\\n\\nFor the most current weather conditions, enable live updates or check a reliable weather service.\", additional_kwargs={}, response_metadata={'token_usage': {'completion_tokens': 207, 'prompt_tokens': 11, 'total_tokens': 218, 'completion_time': 0.752727273, 'prompt_time': 0.00063849, 'queue_time': 0.053147519000000004, 'total_time': 0.753365763}, 'model_name': 'deepseek-r1-distill-llama-70b', 'system_fingerprint': 'fp_78afca88a5', 'service_tier': 'on_demand', 'finish_reason': 'stop', 'logprobs': None}, id='run--c2de4fac-c958-4ae3-b622-5ee5a34e8689-0', usage_metadata={'input_tokens': 11, 'output_tokens': 207, 'total_tokens': 218})"
      ]
     },
     "execution_count": 25,
     "metadata": {},
     "output_type": "execute_result"
    }
   ],
   "source": [
    "llm.invoke(\"what is a weather in delhi?\")"
   ]
  },
  {
   "cell_type": "markdown",
   "id": "fff89f7f",
   "metadata": {},
   "source": [
    "### Binding a tool to the LLM\n",
    "\n",
    "### Special Note: use some good for agentic workflow since opensource model might not give you the correct output"
   ]
  },
  {
   "cell_type": "code",
   "execution_count": 26,
   "id": "8dc4819a",
   "metadata": {},
   "outputs": [],
   "source": [
    "tools=[search]"
   ]
  },
  {
   "cell_type": "code",
   "execution_count": 27,
   "id": "52b71adb",
   "metadata": {},
   "outputs": [],
   "source": [
    "llm_with_tool=llm.bind_tools(tools)"
   ]
  },
  {
   "cell_type": "markdown",
   "id": "4a5201bb",
   "metadata": {},
   "source": [
    "### testig my llm_with_tool"
   ]
  },
  {
   "cell_type": "code",
   "execution_count": 28,
   "id": "326d5498",
   "metadata": {},
   "outputs": [
    {
     "data": {
      "text/plain": [
       "AIMessage(content='', additional_kwargs={'reasoning_content': 'Alright, the user is asking about the weather in Delhi. They probably need real-time or current weather information. I should use the search tool I have to look up the weather data. Let me structure the function call with \"Delhi weather\" as the query.\\n', 'tool_calls': [{'id': 'zmr3p9hgy', 'function': {'arguments': '{\"query\":\"Delhi weather\"}', 'name': 'search'}, 'type': 'function'}]}, response_metadata={'token_usage': {'completion_tokens': 78, 'prompt_tokens': 133, 'total_tokens': 211, 'completion_time': 0.347550255, 'prompt_time': 0.008559059, 'queue_time': 0.066725061, 'total_time': 0.356109314}, 'model_name': 'deepseek-r1-distill-llama-70b', 'system_fingerprint': 'fp_1bbe7845ec', 'service_tier': 'on_demand', 'finish_reason': 'tool_calls', 'logprobs': None}, id='run--990c282e-6b3e-4aaf-b00b-562597f1f985-0', tool_calls=[{'name': 'search', 'args': {'query': 'Delhi weather'}, 'id': 'zmr3p9hgy', 'type': 'tool_call'}], usage_metadata={'input_tokens': 133, 'output_tokens': 78, 'total_tokens': 211})"
      ]
     },
     "execution_count": 28,
     "metadata": {},
     "output_type": "execute_result"
    }
   ],
   "source": [
    "response=llm_with_tool.invoke(\"what is a weather is delhi?\")\n",
    "response"
   ]
  },
  {
   "cell_type": "code",
   "execution_count": 29,
   "id": "73fdf6b5",
   "metadata": {},
   "outputs": [
    {
     "data": {
      "text/plain": [
       "''"
      ]
     },
     "execution_count": 29,
     "metadata": {},
     "output_type": "execute_result"
    }
   ],
   "source": [
    "response.content"
   ]
  },
  {
   "cell_type": "code",
   "execution_count": 30,
   "id": "ba646465",
   "metadata": {},
   "outputs": [
    {
     "data": {
      "text/plain": [
       "[{'name': 'search',\n",
       "  'args': {'query': 'Delhi weather'},\n",
       "  'id': 'zmr3p9hgy',\n",
       "  'type': 'tool_call'}]"
      ]
     },
     "execution_count": 30,
     "metadata": {},
     "output_type": "execute_result"
    }
   ],
   "source": [
    "response.tool_calls"
   ]
  },
  {
   "cell_type": "code",
   "execution_count": 31,
   "id": "f5c7f465",
   "metadata": {},
   "outputs": [],
   "source": [
    "def call_model(state:MessagesState):\n",
    "    question=state[\"messages\"]\n",
    "    response=llm_with_tool.invoke(question)\n",
    "    return {\"messages\":[response]}"
   ]
  },
  {
   "cell_type": "markdown",
   "id": "1361c41b",
   "metadata": {},
   "source": [
    "### Testing code/"
   ]
  },
  {
   "cell_type": "code",
   "execution_count": 32,
   "id": "f8991b87",
   "metadata": {},
   "outputs": [],
   "source": [
    "input={\"messages\":[\"what is a weather in delhi?\"]}"
   ]
  },
  {
   "cell_type": "code",
   "execution_count": 33,
   "id": "7e848a33",
   "metadata": {},
   "outputs": [],
   "source": [
    "response=call_model(input)"
   ]
  },
  {
   "cell_type": "code",
   "execution_count": 34,
   "id": "8f229a3b",
   "metadata": {},
   "outputs": [
    {
     "data": {
      "text/plain": [
       "''"
      ]
     },
     "execution_count": 34,
     "metadata": {},
     "output_type": "execute_result"
    }
   ],
   "source": [
    "response[\"messages\"][-1].content"
   ]
  },
  {
   "cell_type": "code",
   "execution_count": 35,
   "id": "2b0c266a",
   "metadata": {},
   "outputs": [
    {
     "data": {
      "text/plain": [
       "[{'name': 'search',\n",
       "  'args': {'query': 'weather in Delhi'},\n",
       "  'id': 'v3023v781',\n",
       "  'type': 'tool_call'}]"
      ]
     },
     "execution_count": 35,
     "metadata": {},
     "output_type": "execute_result"
    }
   ],
   "source": [
    "response[\"messages\"][-1].tool_calls"
   ]
  },
  {
   "cell_type": "markdown",
   "id": "16949c8c",
   "metadata": {},
   "source": [
    "### here my router function\n",
    "\n",
    "#### now whatever will come from call_model router funtion will redirect this to the appropriate tool"
   ]
  },
  {
   "cell_type": "code",
   "execution_count": 36,
   "id": "37dace49",
   "metadata": {},
   "outputs": [],
   "source": [
    "def router_function(state:MessagesState):\n",
    "    message=state[\"messages\"]\n",
    "    last_message=message[-1]\n",
    "    if last_message.tool_calls:\n",
    "        return \"tools\"\n",
    "    return END\n",
    "    "
   ]
  },
  {
   "cell_type": "code",
   "execution_count": 37,
   "id": "23469265",
   "metadata": {},
   "outputs": [
    {
     "data": {
      "text/plain": [
       "[StructuredTool(name='search', description='this is my custom tool for searching a weather', args_schema=<class 'langchain_core.utils.pydantic.search'>, func=<function search at 0x000001D3405076D0>)]"
      ]
     },
     "execution_count": 37,
     "metadata": {},
     "output_type": "execute_result"
    }
   ],
   "source": [
    "tools"
   ]
  },
  {
   "cell_type": "code",
   "execution_count": 38,
   "id": "e8e850d4",
   "metadata": {},
   "outputs": [],
   "source": [
    "tool_node = prebuilt.ToolNode(tools)"
   ]
  },
  {
   "cell_type": "code",
   "execution_count": 39,
   "id": "2da35323",
   "metadata": {},
   "outputs": [],
   "source": [
    "from langgraph.graph import StateGraph"
   ]
  },
  {
   "cell_type": "code",
   "execution_count": 40,
   "id": "cc822a52",
   "metadata": {},
   "outputs": [
    {
     "data": {
      "text/plain": [
       "tools(tags=None, recurse=True, explode_args=False, func_accepts_config=True, func_accepts={'store': ('__pregel_store', None)}, tools_by_name={'search': StructuredTool(name='search', description='this is my custom tool for searching a weather', args_schema=<class 'langchain_core.utils.pydantic.search'>, func=<function search at 0x000001D3405076D0>)}, tool_to_state_args={'search': {}}, tool_to_store_arg={'search': None}, handle_tool_errors=True, messages_key='messages')"
      ]
     },
     "execution_count": 40,
     "metadata": {},
     "output_type": "execute_result"
    }
   ],
   "source": [
    "tool_node"
   ]
  },
  {
   "cell_type": "code",
   "execution_count": 41,
   "id": "1104022b",
   "metadata": {},
   "outputs": [],
   "source": [
    "workflow2=StateGraph(MessagesState)"
   ]
  },
  {
   "cell_type": "code",
   "execution_count": 42,
   "id": "468d9f1f",
   "metadata": {},
   "outputs": [
    {
     "data": {
      "text/plain": [
       "<langgraph.graph.state.StateGraph at 0x1d340781510>"
      ]
     },
     "execution_count": 42,
     "metadata": {},
     "output_type": "execute_result"
    }
   ],
   "source": [
    "workflow2.add_node(\"llmwithtool\",call_model)\n",
    "\n",
    "workflow2.add_node(\"mytools\",tool_node)\n",
    "\n",
    "workflow2.add_edge(START,\"llmwithtool\")\n",
    "\n",
    "workflow2.add_conditional_edges(\"llmwithtool\",\n",
    "                                router_function,\n",
    "                                {\"tools\":\"mytools\",\n",
    "                                 END:END})"
   ]
  },
  {
   "cell_type": "code",
   "execution_count": 43,
   "id": "db4a7781",
   "metadata": {},
   "outputs": [],
   "source": [
    "app2=workflow2.compile()"
   ]
  },
  {
   "cell_type": "code",
   "execution_count": 44,
   "id": "7dd0e205",
   "metadata": {},
   "outputs": [
    {
     "data": {
      "image/png": "[encoded data removed]",
      "text/plain": [
       "<IPython.core.display.Image object>"
      ]
     },
     "metadata": {},
     "output_type": "display_data"
    }
   ],
   "source": [
    "from IPython.display import Image, display\n",
    "display(Image(app2.get_graph().draw_mermaid_png()))"
   ]
  },
  {
   "cell_type": "code",
   "execution_count": 45,
   "id": "b164c07f",
   "metadata": {},
   "outputs": [],
   "source": [
    "response=app2.invoke({\"messages\":[\"what is a weather in bengraluru?\"]})"
   ]
  },
  {
   "cell_type": "code",
   "execution_count": 46,
   "id": "65a095fd",
   "metadata": {},
   "outputs": [
    {
     "data": {
      "text/plain": [
       "'the temp is 25 degree and cloudy'"
      ]
     },
     "execution_count": 46,
     "metadata": {},
     "output_type": "execute_result"
    }
   ],
   "source": [
    "response[\"messages\"][-1].content"
   ]
  },
  {
   "cell_type": "code",
   "execution_count": 47,
   "id": "9fe0a743",
   "metadata": {},
   "outputs": [
    {
     "data": {
      "text/plain": [
       "{'messages': [HumanMessage(content='what is a weather in delhi?', additional_kwargs={}, response_metadata={}, id='32e24e44-d9e0-461e-af3a-5d51b0f2b077'),\n",
       "  AIMessage(content='', additional_kwargs={'reasoning_content': 'Okay, the user is asking about the weather in Delhi. I need to provide them with the current weather information. Since I don\\'t have real-time data, I should use the tool I have available. \\n\\nI remember the tool is called \"search\" and it\\'s for weather searching. It requires a query parameter. So, I should structure the function call with the name \"search\" and the arguments as \"query\" with the value \"weather in Delhi\".\\n\\nI need to make sure the JSON is correctly formatted. Let me check the parameters again: the tool expects a query string, so the arguments should be {\"query\": \"weather in Delhi\"}. \\n\\nPutting it all together, the function call should be wrapped in the <tool_call> tags with the name and arguments properly set.\\n', 'tool_calls': [{'id': '1q7hegman', 'function': {'arguments': '{\"query\":\"weather in Delhi\"}', 'name': 'search'}, 'type': 'function'}]}, response_metadata={'token_usage': {'completion_tokens': 184, 'prompt_tokens': 133, 'total_tokens': 317, 'completion_time': 0.820909041, 'prompt_time': 0.008566063, 'queue_time': 0.054311987000000006, 'total_time': 0.829475104}, 'model_name': 'deepseek-r1-distill-llama-70b', 'system_fingerprint': 'fp_76307ac09b', 'service_tier': 'on_demand', 'finish_reason': 'tool_calls', 'logprobs': None}, id='run--b9414ded-1780-4549-b806-42600d9fae24-0', tool_calls=[{'name': 'search', 'args': {'query': 'weather in Delhi'}, 'id': '1q7hegman', 'type': 'tool_call'}], usage_metadata={'input_tokens': 133, 'output_tokens': 184, 'total_tokens': 317}),\n",
       "  ToolMessage(content='the temp is 45 degree and sunny', name='search', id='a5d1d378-f70e-42f8-9797-b2de01722413', tool_call_id='1q7hegman')]}"
      ]
     },
     "execution_count": 47,
     "metadata": {},
     "output_type": "execute_result"
    }
   ],
   "source": [
    "app2.invoke({\"messages\":[\"what is a weather in delhi?\"]})"
   ]
  },
  {
   "cell_type": "code",
   "execution_count": 48,
   "id": "3c881fcf",
   "metadata": {},
   "outputs": [
    {
     "data": {
      "text/plain": [
       "{'messages': [HumanMessage(content='hi how are you?', additional_kwargs={}, response_metadata={}, id='3d851283-010d-4dea-ba17-05f3a6c79eff'),\n",
       "  AIMessage(content='Thank you for your greeting! How can I assist you today?', additional_kwargs={'reasoning_content': 'Okay, the user greeted me with \"hi how are you?\" which is a friendly opener. I need to respond in a way that\\'s both polite and helpful. Since I\\'m an AI, I don\\'t have feelings, but I can acknowledge their greeting.\\n\\nI should thank them for their greeting and offer my assistance. It\\'s important to keep the tone warm and approachable. I\\'ll let them know I\\'m here to help with whatever they need.\\n\\nI don\\'t see any specific request in their message, so I\\'ll invite them to ask anything they want assistance with. This encourages them to engage further.\\n\\nI should avoid using any markdown and keep the response natural. Also, since the user included an emoji, I\\'ll mirror that friendliness without overdoing it.\\n\\nSo, I\\'ll craft a response that\\'s appreciative, offers help, and is easy to read.\\n'}, response_metadata={'token_usage': {'completion_tokens': 193, 'prompt_tokens': 130, 'total_tokens': 323, 'completion_time': 0.94286381, 'prompt_time': 0.01576257, 'queue_time': 0.05348712, 'total_time': 0.95862638}, 'model_name': 'deepseek-r1-distill-llama-70b', 'system_fingerprint': 'fp_76307ac09b', 'service_tier': 'on_demand', 'finish_reason': 'stop', 'logprobs': None}, id='run--c5cb6bcd-10fd-4ea8-a3c6-c948d93af429-0', usage_metadata={'input_tokens': 130, 'output_tokens': 193, 'total_tokens': 323})]}"
      ]
     },
     "execution_count": 48,
     "metadata": {},
     "output_type": "execute_result"
    }
   ],
   "source": [
    "app2.invoke({\"messages\":[\"hi how are you?\"]})"
   ]
  },
  {
   "cell_type": "code",
   "execution_count": 49,
   "id": "ce3b4b5b",
   "metadata": {},
   "outputs": [
    {
     "name": "stderr",
     "output_type": "stream",
     "text": [
      "Adding an edge to a graph that has already been compiled. This will not be reflected in the compiled graph.\n"
     ]
    },
    {
     "data": {
      "text/plain": [
       "<langgraph.graph.state.StateGraph at 0x1d340781510>"
      ]
     },
     "execution_count": 49,
     "metadata": {},
     "output_type": "execute_result"
    }
   ],
   "source": [
    "workflow2.add_edge(\"mytools\",\"llmwithtool\")"
   ]
  },
  {
   "cell_type": "code",
   "execution_count": 50,
   "id": "0f06bd33",
   "metadata": {},
   "outputs": [],
   "source": [
    "app3=workflow2.compile()"
   ]
  },
  {
   "cell_type": "code",
   "execution_count": 51,
   "id": "aecf1e96",
   "metadata": {},
   "outputs": [
    {
     "data": {
      "image/png": "[encoded data removed]",
      "text/plain": [
       "<IPython.core.display.Image object>"
      ]
     },
     "metadata": {},
     "output_type": "display_data"
    }
   ],
   "source": [
    "from IPython.display import Image, display\n",
    "display(Image(app3.get_graph().draw_mermaid_png()))"
   ]
  },
  {
   "cell_type": "code",
   "execution_count": 52,
   "id": "5c577f2a",
   "metadata": {},
   "outputs": [
    {
     "name": "stdout",
     "output_type": "stream",
     "text": [
      "here is output from llmwithtool\n",
      "_______\n",
      "{'messages': [AIMessage(content='', additional_kwargs={'reasoning_content': 'Alright, so the user is asking about the weather in New Delhi. I need to figure out the best way to help them with the tools I have. I remember that I have a function called \"search\" which is specifically for looking up weather information. The function requires a query parameter, which is a string.\\n\\nFirst, I should structure the query properly. Since the user is asking about New Delhi, I should format it as \"weather in New Delhi\". That makes sense because it\\'s clear and specific. I don\\'t think I need to add anything else because the function is designed to handle such queries.\\n\\nNext, I need to format the tool call correctly. The function name is \"search\", and the arguments should be a JSON object with the query parameter. So, I\\'ll set the arguments to {\"query\": \"weather in New Delhi\"}. I have to make sure the syntax is correct, with proper braces and quotation marks.\\n\\nI also need to wrap everything within the <tool_call> tags as specified. That way, the system knows how to process the request. I should double-check that the JSON is valid to avoid any errors. Once everything looks good, I can send the response.\\n', 'tool_calls': [{'id': 'sry2xmddx', 'function': {'arguments': '{\"query\":\"weather in New Delhi\"}', 'name': 'search'}, 'type': 'function'}]}, response_metadata={'token_usage': {'completion_tokens': 271, 'prompt_tokens': 134, 'total_tokens': 405, 'completion_time': 1.196224558, 'prompt_time': 0.008548184, 'queue_time': 0.054263027000000005, 'total_time': 1.204772742}, 'model_name': 'deepseek-r1-distill-llama-70b', 'system_fingerprint': 'fp_1bbe7845ec', 'service_tier': 'on_demand', 'finish_reason': 'tool_calls', 'logprobs': None}, id='run--1d1e0246-bfe9-4434-acb6-4563c9c8dfd4-0', tool_calls=[{'name': 'search', 'args': {'query': 'weather in New Delhi'}, 'id': 'sry2xmddx', 'type': 'tool_call'}], usage_metadata={'input_tokens': 134, 'output_tokens': 271, 'total_tokens': 405})]}\n",
      "\n",
      "\n",
      "here is output from mytools\n",
      "_______\n",
      "{'messages': [ToolMessage(content='the temp is 45 degree and sunny', name='search', id='2fde6406-2b03-44aa-bc1a-524290029704', tool_call_id='sry2xmddx')]}\n",
      "\n",
      "\n",
      "here is output from llmwithtool\n",
      "_______\n",
      "{'messages': [AIMessage(content='', additional_kwargs={'reasoning_content': 'Okay, so the user asked, \"what is a weather in new delhi?\" I need to help them with that. Looking at the tools provided, there\\'s a function called \"search\" which is used for searching the weather. Perfect.\\n\\nI\\'ll call the search function with the query \"weather in New Delhi\". That should give me the current weather information.\\n\\nOnce I get the response, which says the temperature is 45 degrees and sunny, I should present that back to the user. Since they might not be familiar with technical jargon, I\\'ll keep it simple and clear.\\n\\nI should probably mention both Celsius and Fahrenheit to cover all bases. So, 45 degrees Celsius is 113 degrees Fahrenheit. That way, the user understands no matter which scale they\\'re using.\\n\\nAlso, I should advise them to stay hydrated and take precautions because 45°C is really hot. It\\'s a considerate touch and shows I\\'m looking out for their well-being.\\n\\nAlright, time to put it all together in a friendly and helpful response.\\n', 'tool_calls': [{'id': '4r7cve6pm', 'function': {'arguments': '{\"query\":\"weather in New Delhi\"}', 'name': 'search'}, 'type': 'function'}]}, response_metadata={'token_usage': {'completion_tokens': 235, 'prompt_tokens': 193, 'total_tokens': 428, 'completion_time': 1.046103281, 'prompt_time': 0.012034177, 'queue_time': 0.058741887, 'total_time': 1.058137458}, 'model_name': 'deepseek-r1-distill-llama-70b', 'system_fingerprint': 'fp_78afca88a5', 'service_tier': 'on_demand', 'finish_reason': 'tool_calls', 'logprobs': None}, id='run--bce5ce6a-2127-4b6a-bde1-374e9f52a370-0', tool_calls=[{'name': 'search', 'args': {'query': 'weather in New Delhi'}, 'id': '4r7cve6pm', 'type': 'tool_call'}], usage_metadata={'input_tokens': 193, 'output_tokens': 235, 'total_tokens': 428})]}\n",
      "\n",
      "\n",
      "here is output from mytools\n",
      "_______\n",
      "{'messages': [ToolMessage(content='the temp is 45 degree and sunny', name='search', id='ff36da50-c846-487e-bca1-5a75cbbda9ea', tool_call_id='4r7cve6pm')]}\n",
      "\n",
      "\n",
      "here is output from llmwithtool\n",
      "_______\n",
      "{'messages': [AIMessage(content='', additional_kwargs={'reasoning_content': 'Alright, let me try to figure out what\\'s going on here. So, the user asked, \"what is a weather in new delhi?\" and I used the search tool to look that up. The tool returned that the temperature is 45 degrees and sunny. Then the user sent another query without any text, and I called the tool again with the same parameters. The tool gave the same response.\\n\\nHmm, maybe the user is checking if the information changes or if I can provide more details. But since they didn\\'t specify a different query, I just repeated the same search. I wonder if they\\'re testing my ability to handle repeated queries or if they actually need more information about the weather in New Delhi.\\n\\nI should consider that perhaps the user wants more detailed weather information, like humidity, wind speed, or the forecast for different times of the day. But since the tool only provides the temperature and a brief description, I might not have access to more detailed data. Alternatively, the user might be satisfied with the current information and is just confirming it.\\n\\nI also need to make sure that I\\'m using the tool correctly. Each time the user asks, I\\'m calling the search function with the same query. If the user\\'s intent is to get updated information, maybe I should inform them that the tool provides the same result each time, and perhaps suggest that real-time data might require a different approach.\\n\\nAlternatively, maybe the user is testing my functionality by repeating the same query to see if I handle it consistently. In that case, my consistent response is appropriate. But I should be ready to assist further if they have more specific needs or if they ask different questions in the future.\\n', 'tool_calls': [{'id': '4r7cve6pm', 'function': {'arguments': '{\"query\":\"weather in New Delhi\"}', 'name': 'search'}, 'type': 'function'}]}, response_metadata={'token_usage': {'completion_tokens': 371, 'prompt_tokens': 253, 'total_tokens': 624, 'completion_time': 1.68692508, 'prompt_time': 0.016408297, 'queue_time': 0.05455223299999999, 'total_time': 1.7033333769999999}, 'model_name': 'deepseek-r1-distill-llama-70b', 'system_fingerprint': 'fp_1bbe7845ec', 'service_tier': 'on_demand', 'finish_reason': 'tool_calls', 'logprobs': None}, id='run--ea566fa4-bb01-42cb-8e97-aae8ad521200-0', tool_calls=[{'name': 'search', 'args': {'query': 'weather in New Delhi'}, 'id': '4r7cve6pm', 'type': 'tool_call'}], usage_metadata={'input_tokens': 253, 'output_tokens': 371, 'total_tokens': 624})]}\n",
      "\n",
      "\n",
      "here is output from mytools\n",
      "_______\n",
      "{'messages': [ToolMessage(content='the temp is 45 degree and sunny', name='search', id='e53aa7fb-0d6a-4330-8998-3b38fb0e4778', tool_call_id='4r7cve6pm')]}\n",
      "\n",
      "\n",
      "here is output from llmwithtool\n",
      "_______\n",
      "{'messages': [AIMessage(content='', additional_kwargs={'reasoning_content': 'Alright, the user asked about the weather in New Delhi again. I remember they\\'ve asked this before, and I provided the same information each time. I need to make sure I\\'m using the correct tool for this. The function is called \"search\" and it requires a query parameter.\\n\\nI should structure the tool call properly, ensuring the JSON format is correct. The user seems to be testing or maybe checking for consistency. I\\'ll keep the response consistent as before to avoid confusion.\\n\\nSo, I\\'ll format the tool call with the name \"search\" and the query as \"weather in New Delhi\". That should give the user the information they need.\\n', 'tool_calls': [{'id': 'w637ggbnb', 'function': {'arguments': '{\"query\":\"weather in New Delhi\"}', 'name': 'search'}, 'type': 'function'}]}, response_metadata={'token_usage': {'completion_tokens': 157, 'prompt_tokens': 313, 'total_tokens': 470, 'completion_time': 0.709558087, 'prompt_time': 0.019922861, 'queue_time': 0.062510379, 'total_time': 0.729480948}, 'model_name': 'deepseek-r1-distill-llama-70b', 'system_fingerprint': 'fp_76307ac09b', 'service_tier': 'on_demand', 'finish_reason': 'tool_calls', 'logprobs': None}, id='run--38155f1a-9126-4ce7-8140-e2b38e6e5ac8-0', tool_calls=[{'name': 'search', 'args': {'query': 'weather in New Delhi'}, 'id': 'w637ggbnb', 'type': 'tool_call'}], usage_metadata={'input_tokens': 313, 'output_tokens': 157, 'total_tokens': 470})]}\n",
      "\n",
      "\n",
      "here is output from mytools\n",
      "_______\n",
      "{'messages': [ToolMessage(content='the temp is 45 degree and sunny', name='search', id='e825f036-c9e9-4662-ab06-e191ebd243a1', tool_call_id='w637ggbnb')]}\n",
      "\n",
      "\n",
      "here is output from llmwithtool\n",
      "_______\n",
      "{'messages': [AIMessage(content='', additional_kwargs={'tool_calls': [{'id': 'w637ggbnb', 'function': {'arguments': '{\"query\":\"weather in New Delhi\"}', 'name': 'search'}, 'type': 'function'}]}, response_metadata={'token_usage': {'completion_tokens': 31, 'prompt_tokens': 371, 'total_tokens': 402, 'completion_time': 0.112727273, 'prompt_time': 0.024155762, 'queue_time': 0.058148379, 'total_time': 0.136883035}, 'model_name': 'deepseek-r1-distill-llama-70b', 'system_fingerprint': 'fp_1bbe7845ec', 'service_tier': 'on_demand', 'finish_reason': 'tool_calls', 'logprobs': None}, id='run--ca08c455-1501-468e-a524-4bf013ceb273-0', tool_calls=[{'name': 'search', 'args': {'query': 'weather in New Delhi'}, 'id': 'w637ggbnb', 'type': 'tool_call'}], usage_metadata={'input_tokens': 371, 'output_tokens': 31, 'total_tokens': 402})]}\n",
      "\n",
      "\n",
      "here is output from mytools\n",
      "_______\n",
      "{'messages': [ToolMessage(content='the temp is 45 degree and sunny', name='search', id='8878b1f8-b404-4168-ac0e-a1e72b1dd49a', tool_call_id='w637ggbnb')]}\n",
      "\n",
      "\n",
      "here is output from llmwithtool\n",
      "_______\n",
      "{'messages': [AIMessage(content='', additional_kwargs={'tool_calls': [{'id': 'w637ggbnb', 'function': {'arguments': '{\"query\":\"weather in New Delhi\"}', 'name': 'search'}, 'type': 'function'}]}, response_metadata={'token_usage': {'completion_tokens': 31, 'prompt_tokens': 429, 'total_tokens': 460, 'completion_time': 0.112727273, 'prompt_time': 0.02751054, 'queue_time': 0.058123151, 'total_time': 0.140237813}, 'model_name': 'deepseek-r1-distill-llama-70b', 'system_fingerprint': 'fp_78afca88a5', 'service_tier': 'on_demand', 'finish_reason': 'tool_calls', 'logprobs': None}, id='run--2b891609-a834-445e-851c-fc88a27f536e-0', tool_calls=[{'name': 'search', 'args': {'query': 'weather in New Delhi'}, 'id': 'w637ggbnb', 'type': 'tool_call'}], usage_metadata={'input_tokens': 429, 'output_tokens': 31, 'total_tokens': 460})]}\n",
      "\n",
      "\n",
      "here is output from mytools\n",
      "_______\n",
      "{'messages': [ToolMessage(content='the temp is 45 degree and sunny', name='search', id='0b857d79-dad0-43bb-80af-75542759eee6', tool_call_id='w637ggbnb')]}\n",
      "\n",
      "\n",
      "here is output from llmwithtool\n",
      "_______\n",
      "{'messages': [AIMessage(content='', additional_kwargs={'tool_calls': [{'id': 'w637ggbnb', 'function': {'arguments': '{\"query\":\"weather in New Delhi\"}', 'name': 'search'}, 'type': 'function'}]}, response_metadata={'token_usage': {'completion_tokens': 31, 'prompt_tokens': 487, 'total_tokens': 518, 'completion_time': 0.112727273, 'prompt_time': 0.031828266, 'queue_time': 0.058953885000000004, 'total_time': 0.144555539}, 'model_name': 'deepseek-r1-distill-llama-70b', 'system_fingerprint': 'fp_1bbe7845ec', 'service_tier': 'on_demand', 'finish_reason': 'tool_calls', 'logprobs': None}, id='run--b26d19c7-0a0c-4259-a2a2-bb4601b5c0a7-0', tool_calls=[{'name': 'search', 'args': {'query': 'weather in New Delhi'}, 'id': 'w637ggbnb', 'type': 'tool_call'}], usage_metadata={'input_tokens': 487, 'output_tokens': 31, 'total_tokens': 518})]}\n",
      "\n",
      "\n",
      "here is output from mytools\n",
      "_______\n",
      "{'messages': [ToolMessage(content='the temp is 45 degree and sunny', name='search', id='aafc18fd-d3fd-48c6-9e4f-ee5595cfff8e', tool_call_id='w637ggbnb')]}\n",
      "\n",
      "\n",
      "here is output from llmwithtool\n",
      "_______\n",
      "{'messages': [AIMessage(content='', additional_kwargs={'tool_calls': [{'id': 'w637ggbnb', 'function': {'arguments': '{\"query\":\"weather in New Delhi\"}', 'name': 'search'}, 'type': 'function'}]}, response_metadata={'token_usage': {'completion_tokens': 31, 'prompt_tokens': 545, 'total_tokens': 576, 'completion_time': 0.112727273, 'prompt_time': 0.035192437, 'queue_time': 0.054770613, 'total_time': 0.14791971}, 'model_name': 'deepseek-r1-distill-llama-70b', 'system_fingerprint': 'fp_76307ac09b', 'service_tier': 'on_demand', 'finish_reason': 'tool_calls', 'logprobs': None}, id='run--f5c5659b-ed33-4a23-8bb7-3d12432a3d83-0', tool_calls=[{'name': 'search', 'args': {'query': 'weather in New Delhi'}, 'id': 'w637ggbnb', 'type': 'tool_call'}], usage_metadata={'input_tokens': 545, 'output_tokens': 31, 'total_tokens': 576})]}\n",
      "\n",
      "\n",
      "here is output from mytools\n",
      "_______\n",
      "{'messages': [ToolMessage(content='the temp is 45 degree and sunny', name='search', id='bc20437f-2f14-4ffd-957d-0a072386a34d', tool_call_id='w637ggbnb')]}\n",
      "\n",
      "\n",
      "here is output from llmwithtool\n",
      "_______\n",
      "{'messages': [AIMessage(content='', additional_kwargs={'tool_calls': [{'id': 'w637ggbnb', 'function': {'arguments': '{\"query\":\"weather in New Delhi\"}', 'name': 'search'}, 'type': 'function'}]}, response_metadata={'token_usage': {'completion_tokens': 57, 'prompt_tokens': 603, 'total_tokens': 660, 'completion_time': 0.207272727, 'prompt_time': 0.046280239, 'queue_time': 0.054000304, 'total_time': 0.253552966}, 'model_name': 'deepseek-r1-distill-llama-70b', 'system_fingerprint': 'fp_76307ac09b', 'service_tier': 'on_demand', 'finish_reason': 'tool_calls', 'logprobs': None}, id='run--e58d8084-ad59-4231-99f5-29d71d3bd92d-0', tool_calls=[{'name': 'search', 'args': {'query': 'weather in New Delhi'}, 'id': 'w637ggbnb', 'type': 'tool_call'}], usage_metadata={'input_tokens': 603, 'output_tokens': 57, 'total_tokens': 660})]}\n",
      "\n",
      "\n",
      "here is output from mytools\n",
      "_______\n",
      "{'messages': [ToolMessage(content='the temp is 45 degree and sunny', name='search', id='3d6268a1-d858-418e-b2d0-a41cc499a2b3', tool_call_id='w637ggbnb')]}\n",
      "\n",
      "\n",
      "here is output from llmwithtool\n",
      "_______\n",
      "{'messages': [AIMessage(content='', additional_kwargs={'tool_calls': [{'id': 'w637ggbnb', 'function': {'arguments': '{\"query\":\"weather in New Delhi\"}', 'name': 'search'}, 'type': 'function'}]}, response_metadata={'token_usage': {'completion_tokens': 31, 'prompt_tokens': 661, 'total_tokens': 692, 'completion_time': 0.112727273, 'prompt_time': 0.050487695, 'queue_time': 0.053803036, 'total_time': 0.163214968}, 'model_name': 'deepseek-r1-distill-llama-70b', 'system_fingerprint': 'fp_78afca88a5', 'service_tier': 'on_demand', 'finish_reason': 'tool_calls', 'logprobs': None}, id='run--a88b84fd-a1fc-4861-912e-489d30c951f8-0', tool_calls=[{'name': 'search', 'args': {'query': 'weather in New Delhi'}, 'id': 'w637ggbnb', 'type': 'tool_call'}], usage_metadata={'input_tokens': 661, 'output_tokens': 31, 'total_tokens': 692})]}\n",
      "\n",
      "\n",
      "here is output from mytools\n",
      "_______\n",
      "{'messages': [ToolMessage(content='the temp is 45 degree and sunny', name='search', id='33a10bae-91a6-46ad-b942-f1a6aca8654b', tool_call_id='w637ggbnb')]}\n",
      "\n",
      "\n",
      "here is output from llmwithtool\n",
      "_______\n",
      "{'messages': [AIMessage(content='', additional_kwargs={'tool_calls': [{'id': 'w637ggbnb', 'function': {'arguments': '{\"query\":\"weather in New Delhi\"}', 'name': 'search'}, 'type': 'function'}]}, response_metadata={'token_usage': {'completion_tokens': 31, 'prompt_tokens': 719, 'total_tokens': 750, 'completion_time': 0.112727273, 'prompt_time': 0.053975082, 'queue_time': 0.055099759000000005, 'total_time': 0.166702355}, 'model_name': 'deepseek-r1-distill-llama-70b', 'system_fingerprint': 'fp_76307ac09b', 'service_tier': 'on_demand', 'finish_reason': 'tool_calls', 'logprobs': None}, id='run--cc5a57ef-c632-4d15-b6b5-bbae5c163ea5-0', tool_calls=[{'name': 'search', 'args': {'query': 'weather in New Delhi'}, 'id': 'w637ggbnb', 'type': 'tool_call'}], usage_metadata={'input_tokens': 719, 'output_tokens': 31, 'total_tokens': 750})]}\n",
      "\n",
      "\n",
      "here is output from mytools\n",
      "_______\n",
      "{'messages': [ToolMessage(content='the temp is 45 degree and sunny', name='search', id='a02217df-a338-460a-b436-fd8718e59b5b', tool_call_id='w637ggbnb')]}\n",
      "\n",
      "\n",
      "here is output from llmwithtool\n",
      "_______\n",
      "{'messages': [AIMessage(content='', additional_kwargs={'tool_calls': [{'id': 'w637ggbnb', 'function': {'arguments': '{\"query\":\"weather in New Delhi\"}', 'name': 'search'}, 'type': 'function'}]}, response_metadata={'token_usage': {'completion_tokens': 31, 'prompt_tokens': 777, 'total_tokens': 808, 'completion_time': 0.112727273, 'prompt_time': 0.057017146, 'queue_time': 0.053953443999999996, 'total_time': 0.169744419}, 'model_name': 'deepseek-r1-distill-llama-70b', 'system_fingerprint': 'fp_76307ac09b', 'service_tier': 'on_demand', 'finish_reason': 'tool_calls', 'logprobs': None}, id='run--e775277b-6ad2-4d8c-a7d3-0c14334b233c-0', tool_calls=[{'name': 'search', 'args': {'query': 'weather in New Delhi'}, 'id': 'w637ggbnb', 'type': 'tool_call'}], usage_metadata={'input_tokens': 777, 'output_tokens': 31, 'total_tokens': 808})]}\n",
      "\n",
      "\n",
      "here is output from mytools\n",
      "_______\n",
      "{'messages': [ToolMessage(content='the temp is 45 degree and sunny', name='search', id='ead7e0ee-79fb-487e-b499-85beabf864f1', tool_call_id='w637ggbnb')]}\n",
      "\n",
      "\n",
      "here is output from llmwithtool\n",
      "_______\n",
      "{'messages': [AIMessage(content='', additional_kwargs={'tool_calls': [{'id': 'w637ggbnb', 'function': {'arguments': '{\"query\":\"weather in New Delhi\"}', 'name': 'search'}, 'type': 'function'}]}, response_metadata={'token_usage': {'completion_tokens': 48, 'prompt_tokens': 835, 'total_tokens': 883, 'completion_time': 0.174545455, 'prompt_time': 0.061562374, 'queue_time': 0.06061541699999999, 'total_time': 0.236107829}, 'model_name': 'deepseek-r1-distill-llama-70b', 'system_fingerprint': 'fp_76307ac09b', 'service_tier': 'on_demand', 'finish_reason': 'tool_calls', 'logprobs': None}, id='run--d8d3c396-9b82-44f8-bf9a-99f595dea77a-0', tool_calls=[{'name': 'search', 'args': {'query': 'weather in New Delhi'}, 'id': 'w637ggbnb', 'type': 'tool_call'}], usage_metadata={'input_tokens': 835, 'output_tokens': 48, 'total_tokens': 883})]}\n",
      "\n",
      "\n"
     ]
    },
    {
     "ename": "GraphRecursionError",
     "evalue": "Recursion limit of 25 reached without hitting a stop condition. You can increase the limit by setting the `recursion_limit` config key.\nFor troubleshooting, visit: https://python.langchain.com/docs/troubleshooting/errors/GRAPH_RECURSION_LIMIT",
     "output_type": "error",
     "traceback": [
      "\u001b[1;31m---------------------------------------------------------------------------\u001b[0m",
      "\u001b[1;31mGraphRecursionError\u001b[0m                       Traceback (most recent call last)",
      "Cell \u001b[1;32mIn[52], line 1\u001b[0m\n\u001b[1;32m----> 1\u001b[0m \u001b[38;5;28;01mfor\u001b[39;00m output \u001b[38;5;129;01min\u001b[39;00m app3\u001b[38;5;241m.\u001b[39mstream({\u001b[38;5;124m\"\u001b[39m\u001b[38;5;124mmessages\u001b[39m\u001b[38;5;124m\"\u001b[39m:[\u001b[38;5;124m\"\u001b[39m\u001b[38;5;124mwhat is a weather in new delhi?\u001b[39m\u001b[38;5;124m\"\u001b[39m]}):\n\u001b[0;32m      2\u001b[0m     \u001b[38;5;28;01mfor\u001b[39;00m key,value \u001b[38;5;129;01min\u001b[39;00m output\u001b[38;5;241m.\u001b[39mitems():\n\u001b[0;32m      3\u001b[0m         \u001b[38;5;28mprint\u001b[39m(\u001b[38;5;124mf\u001b[39m\u001b[38;5;124m\"\u001b[39m\u001b[38;5;124mhere is output from \u001b[39m\u001b[38;5;132;01m{\u001b[39;00mkey\u001b[38;5;132;01m}\u001b[39;00m\u001b[38;5;124m\"\u001b[39m)\n",
      "File \u001b[1;32mc:\\Users\\chand\\anaconda3\\envs\\langgraph_env\\lib\\site-packages\\langgraph\\pregel\\__init__.py:2559\u001b[0m, in \u001b[0;36mPregel.stream\u001b[1;34m(self, input, config, stream_mode, print_mode, output_keys, interrupt_before, interrupt_after, checkpoint_during, debug, subgraphs)\u001b[0m\n\u001b[0;32m   2550\u001b[0m \u001b[38;5;28;01mif\u001b[39;00m loop\u001b[38;5;241m.\u001b[39mstatus \u001b[38;5;241m==\u001b[39m \u001b[38;5;124m\"\u001b[39m\u001b[38;5;124mout_of_steps\u001b[39m\u001b[38;5;124m\"\u001b[39m:\n\u001b[0;32m   2551\u001b[0m     msg \u001b[38;5;241m=\u001b[39m create_error_message(\n\u001b[0;32m   2552\u001b[0m         message\u001b[38;5;241m=\u001b[39m(\n\u001b[0;32m   2553\u001b[0m             \u001b[38;5;124mf\u001b[39m\u001b[38;5;124m\"\u001b[39m\u001b[38;5;124mRecursion limit of \u001b[39m\u001b[38;5;132;01m{\u001b[39;00mconfig[\u001b[38;5;124m'\u001b[39m\u001b[38;5;124mrecursion_limit\u001b[39m\u001b[38;5;124m'\u001b[39m]\u001b[38;5;132;01m}\u001b[39;00m\u001b[38;5;124m reached \u001b[39m\u001b[38;5;124m\"\u001b[39m\n\u001b[1;32m   (...)\u001b[0m\n\u001b[0;32m   2557\u001b[0m         error_code\u001b[38;5;241m=\u001b[39mErrorCode\u001b[38;5;241m.\u001b[39mGRAPH_RECURSION_LIMIT,\n\u001b[0;32m   2558\u001b[0m     )\n\u001b[1;32m-> 2559\u001b[0m     \u001b[38;5;28;01mraise\u001b[39;00m GraphRecursionError(msg)\n\u001b[0;32m   2560\u001b[0m \u001b[38;5;66;03m# set final channel values as run output\u001b[39;00m\n\u001b[0;32m   2561\u001b[0m run_manager\u001b[38;5;241m.\u001b[39mon_chain_end(loop\u001b[38;5;241m.\u001b[39moutput)\n",
      "\u001b[1;31mGraphRecursionError\u001b[0m: Recursion limit of 25 reached without hitting a stop condition. You can increase the limit by setting the `recursion_limit` config key.\nFor troubleshooting, visit: https://python.langchain.com/docs/troubleshooting/errors/GRAPH_RECURSION_LIMIT"
     ]
    }
   ],
   "source": [
    "for output in app3.stream({\"messages\":[\"what is a weather in new delhi?\"]}):\n",
    "    for key,value in output.items():\n",
    "        print(f\"here is output from {key}\")\n",
    "        print(\"_______\")\n",
    "        print(value)\n",
    "        print(\"\\n\")\n",
    "    "
   ]
  },
  {
   "cell_type": "code",
   "execution_count": 53,
   "id": "599f2520",
   "metadata": {},
   "outputs": [],
   "source": [
    "from langgraph.checkpoint.memory import MemorySaver"
   ]
  },
  {
   "cell_type": "code",
   "execution_count": 54,
   "id": "6f832f5f",
   "metadata": {},
   "outputs": [],
   "source": [
    "memory=MemorySaver()"
   ]
  },
  {
   "cell_type": "code",
   "execution_count": 55,
   "id": "65b9e1a2",
   "metadata": {},
   "outputs": [
    {
     "data": {
      "text/plain": [
       "<langgraph.graph.state.StateGraph at 0x1d341d78c40>"
      ]
     },
     "execution_count": 55,
     "metadata": {},
     "output_type": "execute_result"
    }
   ],
   "source": [
    "workflow3=StateGraph(MessagesState)\n",
    "\n",
    "workflow3.add_node(\"llmwithtool\",call_model)\n",
    "\n",
    "workflow3.add_node(\"mytools\",tool_node)\n",
    "\n",
    "workflow3.add_edge(START,\"llmwithtool\")\n",
    "\n",
    "workflow3.add_conditional_edges(\"llmwithtool\",\n",
    "                                router_function,\n",
    "                                {\"tools\":\"mytools\",\n",
    "                                 END:END})\n",
    "\n",
    "workflow3.add_edge(\"mytools\",\"llmwithtool\")"
   ]
  },
  {
   "cell_type": "code",
   "execution_count": 56,
   "id": "14bc4c07",
   "metadata": {},
   "outputs": [],
   "source": [
    "app4=workflow3.compile(checkpointer=memory)"
   ]
  },
  {
   "cell_type": "code",
   "execution_count": 57,
   "id": "745143d6",
   "metadata": {},
   "outputs": [
    {
     "data": {
      "image/png": "[encoded data removed]",
      "text/plain": [
       "<IPython.core.display.Image object>"
      ]
     },
     "metadata": {},
     "output_type": "display_data"
    }
   ],
   "source": [
    "from IPython.display import Image, display\n",
    "display(Image(app4.get_graph().draw_mermaid_png()))"
   ]
  },
  {
   "cell_type": "code",
   "execution_count": 58,
   "id": "bcd3d66b",
   "metadata": {},
   "outputs": [],
   "source": [
    "config={\"configurable\": {\"thread_id\": \"1\"}}"
   ]
  },
  {
   "cell_type": "code",
   "execution_count": 59,
   "id": "79471c16",
   "metadata": {},
   "outputs": [],
   "source": [
    "events=app4.stream(\n",
    "    {\"messages\":[\"what is a weather in new delhi?\"]},config=config,stream_mode=\"values\"\n",
    "    )"
   ]
  },
  {
   "cell_type": "code",
   "execution_count": 60,
   "id": "7cba34eb",
   "metadata": {},
   "outputs": [
    {
     "name": "stdout",
     "output_type": "stream",
     "text": [
      "================================\u001b[1m Human Message \u001b[0m=================================\n",
      "\n",
      "what is a weather in new delhi?\n",
      "==================================\u001b[1m Ai Message \u001b[0m==================================\n",
      "Tool Calls:\n",
      "  search (v2267zx4p)\n",
      " Call ID: v2267zx4p\n",
      "  Args:\n",
      "    query: weather in New Delhi\n",
      "=================================\u001b[1m Tool Message \u001b[0m=================================\n",
      "Name: search\n",
      "\n",
      "the temp is 45 degree and sunny\n",
      "==================================\u001b[1m Ai Message \u001b[0m==================================\n",
      "\n",
      "The weather in New Delhi is currently 45 degrees and sunny.\n"
     ]
    }
   ],
   "source": [
    "for event in events:\n",
    "    event[\"messages\"][-1].pretty_print()\n",
    "    "
   ]
  },
  {
   "cell_type": "code",
   "execution_count": 61,
   "id": "9b8890f9",
   "metadata": {},
   "outputs": [],
   "source": [
    "events=app4.stream(\n",
    "    {\"messages\":[\"what is a weather in indore?\"]},config=config,stream_mode=\"values\"\n",
    "    )"
   ]
  },
  {
   "cell_type": "code",
   "execution_count": 62,
   "id": "5cf06d39",
   "metadata": {},
   "outputs": [
    {
     "name": "stdout",
     "output_type": "stream",
     "text": [
      "================================\u001b[1m Human Message \u001b[0m=================================\n",
      "\n",
      "what is a weather in indore?\n",
      "==================================\u001b[1m Ai Message \u001b[0m==================================\n",
      "Tool Calls:\n",
      "  search (vvhaxmspx)\n",
      " Call ID: vvhaxmspx\n",
      "  Args:\n",
      "    query: weather in Indore\n",
      "=================================\u001b[1m Tool Message \u001b[0m=================================\n",
      "Name: search\n",
      "\n",
      "the temp is 25 degree and cloudy\n",
      "==================================\u001b[1m Ai Message \u001b[0m==================================\n",
      "\n",
      "The weather in Indore is currently 25 degrees and cloudy.\n"
     ]
    }
   ],
   "source": [
    "for event in events:\n",
    "    event[\"messages\"][-1].pretty_print()"
   ]
  },
  {
   "cell_type": "code",
   "execution_count": 63,
   "id": "83391456",
   "metadata": {},
   "outputs": [],
   "source": [
    "for event in events:\n",
    "    event[\"messages\"][-1].pretty_print()"
   ]
  },
  {
   "cell_type": "code",
   "execution_count": 64,
   "id": "e4d03c61",
   "metadata": {},
   "outputs": [
    {
     "data": {
      "text/plain": [
       "{'configurable': {'thread_id': '1'}}"
      ]
     },
     "execution_count": 64,
     "metadata": {},
     "output_type": "execute_result"
    }
   ],
   "source": [
    "config"
   ]
  },
  {
   "cell_type": "code",
   "execution_count": 65,
   "id": "cac6f009",
   "metadata": {},
   "outputs": [
    {
     "data": {
      "text/plain": [
       "{'v': 4,\n",
       " 'ts': '2025-07-16T05:04:49.416430+00:00',\n",
       " 'id': '1f062026-64b7-694d-8008-f52b6793986d',\n",
       " 'channel_versions': {'__start__': '00000000000000000000000000000007.0.9681268711453396',\n",
       "  'messages': '00000000000000000000000000000010.0.9660178243468359',\n",
       "  'branch:to:llmwithtool': '00000000000000000000000000000010.0.9660178243468359',\n",
       "  'branch:to:mytools': '00000000000000000000000000000009.0.20431538673280203'},\n",
       " 'versions_seen': {'__input__': {},\n",
       "  '__start__': {'__start__': '00000000000000000000000000000006.0.7583905572752566'},\n",
       "  'llmwithtool': {'branch:to:llmwithtool': '00000000000000000000000000000009.0.20431538673280203'},\n",
       "  'mytools': {'branch:to:mytools': '00000000000000000000000000000008.0.644545277151781'}},\n",
       " 'channel_values': {'messages': [HumanMessage(content='what is a weather in new delhi?', additional_kwargs={}, response_metadata={}, id='b9c28d17-5a66-4b0b-85be-75bafeae6cbf'),\n",
       "   AIMessage(content='', additional_kwargs={'reasoning_content': 'Okay, the user is asking about the weather in New Delhi. I need to use the provided tool called \"search\" to find this information. The tool requires a query parameter, so I\\'ll structure the arguments accordingly. I\\'ll set the query to \"weather in New Delhi\" and make sure it\\'s a string. Then, I\\'ll format the tool call correctly within the XML tags as specified.\\n', 'tool_calls': [{'id': 'v2267zx4p', 'function': {'arguments': '{\"query\":\"weather in New Delhi\"}', 'name': 'search'}, 'type': 'function'}]}, response_metadata={'token_usage': {'completion_tokens': 106, 'prompt_tokens': 134, 'total_tokens': 240, 'completion_time': 0.481208308, 'prompt_time': 0.00856274, 'queue_time': 0.05351089, 'total_time': 0.489771048}, 'model_name': 'deepseek-r1-distill-llama-70b', 'system_fingerprint': 'fp_78afca88a5', 'service_tier': 'on_demand', 'finish_reason': 'tool_calls', 'logprobs': None}, id='run--24b115e9-703f-43b3-b897-793d39506888-0', tool_calls=[{'name': 'search', 'args': {'query': 'weather in New Delhi'}, 'id': 'v2267zx4p', 'type': 'tool_call'}], usage_metadata={'input_tokens': 134, 'output_tokens': 106, 'total_tokens': 240}),\n",
       "   ToolMessage(content='the temp is 45 degree and sunny', name='search', id='38b9046f-f94e-4c09-9867-9f48111306ef', tool_call_id='v2267zx4p'),\n",
       "   AIMessage(content='The weather in New Delhi is currently 45 degrees and sunny.', additional_kwargs={'reasoning_content': \"Alright, the user asked about the weather in New Delhi. I used the search tool and found that it's 45 degrees and sunny. Now, I need to respond to the user with that information. I'll make sure to present it clearly and in a friendly manner.\\n\"}, response_metadata={'token_usage': {'completion_tokens': 73, 'prompt_tokens': 193, 'total_tokens': 266, 'completion_time': 0.321949011, 'prompt_time': 0.012948335, 'queue_time': 0.053473805000000006, 'total_time': 0.334897346}, 'model_name': 'deepseek-r1-distill-llama-70b', 'system_fingerprint': 'fp_78afca88a5', 'service_tier': 'on_demand', 'finish_reason': 'stop', 'logprobs': None}, id='run--067d509c-26a7-4fd4-b6cc-bbf580d7fb77-0', usage_metadata={'input_tokens': 193, 'output_tokens': 73, 'total_tokens': 266}),\n",
       "   HumanMessage(content='what is a weather in indore?', additional_kwargs={}, response_metadata={}, id='94f9391e-d62e-48e6-8f7b-8986f6223f85'),\n",
       "   AIMessage(content='', additional_kwargs={'reasoning_content': 'Alright, the user is asking about the weather in Indore. Since I have a tool called \"search\" that\\'s designed for weather information, I should use that. I\\'ll call the search function with \"weather in Indore\" as the query parameter. This should fetch the current weather details for Indore.\\n', 'tool_calls': [{'id': 'vvhaxmspx', 'function': {'arguments': '{\"query\":\"weather in Indore\"}', 'name': 'search'}, 'type': 'function'}]}, response_metadata={'token_usage': {'completion_tokens': 85, 'prompt_tokens': 217, 'total_tokens': 302, 'completion_time': 0.363024166, 'prompt_time': 0.014394895, 'queue_time': 0.054608065000000004, 'total_time': 0.377419061}, 'model_name': 'deepseek-r1-distill-llama-70b', 'system_fingerprint': 'fp_1bbe7845ec', 'service_tier': 'on_demand', 'finish_reason': 'tool_calls', 'logprobs': None}, id='run--7f204eab-31f5-4aa8-8afa-6d66ee8c5c8d-0', tool_calls=[{'name': 'search', 'args': {'query': 'weather in Indore'}, 'id': 'vvhaxmspx', 'type': 'tool_call'}], usage_metadata={'input_tokens': 217, 'output_tokens': 85, 'total_tokens': 302}),\n",
       "   ToolMessage(content='the temp is 25 degree and cloudy', name='search', id='b734a8c1-735d-425d-b091-cae11afa4736', tool_call_id='vvhaxmspx'),\n",
       "   AIMessage(content='The weather in Indore is currently 25 degrees and cloudy.', additional_kwargs={'reasoning_content': 'Alright, the user is asking about the weather in Indore. I remember from the previous conversation that they were interested in New Delhi\\'s weather as well. They used the same phrasing, \"what is a weather in...\", so they\\'re likely looking for similar information.\\n\\nI should use the same tool, the search function, to get the current weather data for Indore. I\\'ll structure the tool call with the function name \"search\" and the query \"weather in Indore\".\\n\\nAfter calling the tool, I received that the temperature is 25 degrees and it\\'s cloudy. I need to present this information clearly, just like I did for New Delhi. \\n\\nI should make sure the response is concise and matches the format the user expects. They probably want a straightforward answer without any extra details, so I\\'ll keep it simple.\\n'}, response_metadata={'token_usage': {'completion_tokens': 185, 'prompt_tokens': 275, 'total_tokens': 460, 'completion_time': 0.860935618, 'prompt_time': 0.017703066, 'queue_time': 0.053382637999999996, 'total_time': 0.878638684}, 'model_name': 'deepseek-r1-distill-llama-70b', 'system_fingerprint': 'fp_76307ac09b', 'service_tier': 'on_demand', 'finish_reason': 'stop', 'logprobs': None}, id='run--b7cfd3eb-c32e-42a7-866a-64888a3f8160-0', usage_metadata={'input_tokens': 275, 'output_tokens': 185, 'total_tokens': 460})]}}"
      ]
     },
     "execution_count": 65,
     "metadata": {},
     "output_type": "execute_result"
    }
   ],
   "source": [
    "memory.get(config)"
   ]
  },
  {
   "cell_type": "code",
   "execution_count": 66,
   "id": "d8d0e69a",
   "metadata": {},
   "outputs": [],
   "source": [
    "events=app4.stream(\n",
    "    {\"messages\":[\"in which city the temp was 25 degree?\"]},config=config,stream_mode=\"values\"\n",
    "    )"
   ]
  },
  {
   "cell_type": "code",
   "execution_count": 67,
   "id": "c1733380",
   "metadata": {},
   "outputs": [
    {
     "name": "stdout",
     "output_type": "stream",
     "text": [
      "================================\u001b[1m Human Message \u001b[0m=================================\n",
      "\n",
      "in which city the temp was 25 degree?\n",
      "==================================\u001b[1m Ai Message \u001b[0m==================================\n",
      "\n",
      "The city where the temperature was 25 degrees is **Indore**.\n"
     ]
    }
   ],
   "source": [
    "for event in events:\n",
    "    event[\"messages\"][-1].pretty_print()"
   ]
  },
  {
   "cell_type": "code",
   "execution_count": 68,
   "id": "1d9ab838",
   "metadata": {},
   "outputs": [
    {
     "data": {
      "text/plain": [
       "{'v': 4,\n",
       " 'ts': '2025-07-16T05:05:28.833335+00:00',\n",
       " 'id': '1f062027-dca0-6428-800b-81c18114740a',\n",
       " 'channel_versions': {'__start__': '00000000000000000000000000000012.0.0011659141634500214',\n",
       "  'messages': '00000000000000000000000000000013.0.4959538198687853',\n",
       "  'branch:to:llmwithtool': '00000000000000000000000000000013.0.4959538198687853',\n",
       "  'branch:to:mytools': '00000000000000000000000000000009.0.20431538673280203'},\n",
       " 'versions_seen': {'__input__': {},\n",
       "  '__start__': {'__start__': '00000000000000000000000000000011.0.48313675756940877'},\n",
       "  'llmwithtool': {'branch:to:llmwithtool': '00000000000000000000000000000012.0.0011659141634500214'},\n",
       "  'mytools': {'branch:to:mytools': '00000000000000000000000000000008.0.644545277151781'}},\n",
       " 'channel_values': {'messages': [HumanMessage(content='what is a weather in new delhi?', additional_kwargs={}, response_metadata={}, id='b9c28d17-5a66-4b0b-85be-75bafeae6cbf'),\n",
       "   AIMessage(content='', additional_kwargs={'reasoning_content': 'Okay, the user is asking about the weather in New Delhi. I need to use the provided tool called \"search\" to find this information. The tool requires a query parameter, so I\\'ll structure the arguments accordingly. I\\'ll set the query to \"weather in New Delhi\" and make sure it\\'s a string. Then, I\\'ll format the tool call correctly within the XML tags as specified.\\n', 'tool_calls': [{'id': 'v2267zx4p', 'function': {'arguments': '{\"query\":\"weather in New Delhi\"}', 'name': 'search'}, 'type': 'function'}]}, response_metadata={'token_usage': {'completion_tokens': 106, 'prompt_tokens': 134, 'total_tokens': 240, 'completion_time': 0.481208308, 'prompt_time': 0.00856274, 'queue_time': 0.05351089, 'total_time': 0.489771048}, 'model_name': 'deepseek-r1-distill-llama-70b', 'system_fingerprint': 'fp_78afca88a5', 'service_tier': 'on_demand', 'finish_reason': 'tool_calls', 'logprobs': None}, id='run--24b115e9-703f-43b3-b897-793d39506888-0', tool_calls=[{'name': 'search', 'args': {'query': 'weather in New Delhi'}, 'id': 'v2267zx4p', 'type': 'tool_call'}], usage_metadata={'input_tokens': 134, 'output_tokens': 106, 'total_tokens': 240}),\n",
       "   ToolMessage(content='the temp is 45 degree and sunny', name='search', id='38b9046f-f94e-4c09-9867-9f48111306ef', tool_call_id='v2267zx4p'),\n",
       "   AIMessage(content='The weather in New Delhi is currently 45 degrees and sunny.', additional_kwargs={'reasoning_content': \"Alright, the user asked about the weather in New Delhi. I used the search tool and found that it's 45 degrees and sunny. Now, I need to respond to the user with that information. I'll make sure to present it clearly and in a friendly manner.\\n\"}, response_metadata={'token_usage': {'completion_tokens': 73, 'prompt_tokens': 193, 'total_tokens': 266, 'completion_time': 0.321949011, 'prompt_time': 0.012948335, 'queue_time': 0.053473805000000006, 'total_time': 0.334897346}, 'model_name': 'deepseek-r1-distill-llama-70b', 'system_fingerprint': 'fp_78afca88a5', 'service_tier': 'on_demand', 'finish_reason': 'stop', 'logprobs': None}, id='run--067d509c-26a7-4fd4-b6cc-bbf580d7fb77-0', usage_metadata={'input_tokens': 193, 'output_tokens': 73, 'total_tokens': 266}),\n",
       "   HumanMessage(content='what is a weather in indore?', additional_kwargs={}, response_metadata={}, id='94f9391e-d62e-48e6-8f7b-8986f6223f85'),\n",
       "   AIMessage(content='', additional_kwargs={'reasoning_content': 'Alright, the user is asking about the weather in Indore. Since I have a tool called \"search\" that\\'s designed for weather information, I should use that. I\\'ll call the search function with \"weather in Indore\" as the query parameter. This should fetch the current weather details for Indore.\\n', 'tool_calls': [{'id': 'vvhaxmspx', 'function': {'arguments': '{\"query\":\"weather in Indore\"}', 'name': 'search'}, 'type': 'function'}]}, response_metadata={'token_usage': {'completion_tokens': 85, 'prompt_tokens': 217, 'total_tokens': 302, 'completion_time': 0.363024166, 'prompt_time': 0.014394895, 'queue_time': 0.054608065000000004, 'total_time': 0.377419061}, 'model_name': 'deepseek-r1-distill-llama-70b', 'system_fingerprint': 'fp_1bbe7845ec', 'service_tier': 'on_demand', 'finish_reason': 'tool_calls', 'logprobs': None}, id='run--7f204eab-31f5-4aa8-8afa-6d66ee8c5c8d-0', tool_calls=[{'name': 'search', 'args': {'query': 'weather in Indore'}, 'id': 'vvhaxmspx', 'type': 'tool_call'}], usage_metadata={'input_tokens': 217, 'output_tokens': 85, 'total_tokens': 302}),\n",
       "   ToolMessage(content='the temp is 25 degree and cloudy', name='search', id='b734a8c1-735d-425d-b091-cae11afa4736', tool_call_id='vvhaxmspx'),\n",
       "   AIMessage(content='The weather in Indore is currently 25 degrees and cloudy.', additional_kwargs={'reasoning_content': 'Alright, the user is asking about the weather in Indore. I remember from the previous conversation that they were interested in New Delhi\\'s weather as well. They used the same phrasing, \"what is a weather in...\", so they\\'re likely looking for similar information.\\n\\nI should use the same tool, the search function, to get the current weather data for Indore. I\\'ll structure the tool call with the function name \"search\" and the query \"weather in Indore\".\\n\\nAfter calling the tool, I received that the temperature is 25 degrees and it\\'s cloudy. I need to present this information clearly, just like I did for New Delhi. \\n\\nI should make sure the response is concise and matches the format the user expects. They probably want a straightforward answer without any extra details, so I\\'ll keep it simple.\\n'}, response_metadata={'token_usage': {'completion_tokens': 185, 'prompt_tokens': 275, 'total_tokens': 460, 'completion_time': 0.860935618, 'prompt_time': 0.017703066, 'queue_time': 0.053382637999999996, 'total_time': 0.878638684}, 'model_name': 'deepseek-r1-distill-llama-70b', 'system_fingerprint': 'fp_76307ac09b', 'service_tier': 'on_demand', 'finish_reason': 'stop', 'logprobs': None}, id='run--b7cfd3eb-c32e-42a7-866a-64888a3f8160-0', usage_metadata={'input_tokens': 275, 'output_tokens': 185, 'total_tokens': 460}),\n",
       "   HumanMessage(content='in which city the temp was 25 degree?', additional_kwargs={}, response_metadata={}, id='b40dabf4-86c3-4282-b5d9-cb1e01d4f23f'),\n",
       "   AIMessage(content='The city where the temperature was 25 degrees is **Indore**.', additional_kwargs={'reasoning_content': 'Alright, let me figure this out. The user is asking, \"in which city the temp was 25 degree?\" \\n\\nLooking back at the conversation history, I see that the user previously asked about the weather in Indore, and the tool responded with 25 degrees and cloudy. So, the user is referring to that specific instance.\\n\\nI need to connect the 25-degree temperature to the city of Indore. It seems straightforward since the user is directly linking the temperature to the city. They might be trying to confirm which city had that specific weather condition.\\n\\nI should make sure my response clearly states that Indore was the city with 25 degrees. No need for extra information since the user is asking for a direct answer based on the previous data.\\n'}, response_metadata={'token_usage': {'completion_tokens': 172, 'prompt_tokens': 301, 'total_tokens': 473, 'completion_time': 0.811994006, 'prompt_time': 0.019229997, 'queue_time': 0.053061292999999995, 'total_time': 0.831224003}, 'model_name': 'deepseek-r1-distill-llama-70b', 'system_fingerprint': 'fp_76307ac09b', 'service_tier': 'on_demand', 'finish_reason': 'stop', 'logprobs': None}, id='run--145e31d3-66a7-4dd8-8515-a29275ba3f3f-0', usage_metadata={'input_tokens': 301, 'output_tokens': 172, 'total_tokens': 473})]}}"
      ]
     },
     "execution_count": 68,
     "metadata": {},
     "output_type": "execute_result"
    }
   ],
   "source": [
    "memory.get(config)"
   ]
  }
 ],
 "metadata": {
  "kernelspec": {
   "display_name": "langgraph_env",
   "language": "python",
   "name": "python3"
  },
  "language_info": {
   "codemirror_mode": {
    "name": "ipython",
    "version": 3
   },
   "file_extension": ".py",
   "mimetype": "text/x-python",
   "name": "python",
   "nbconvert_exporter": "python",
   "pygments_lexer": "ipython3",
   "version": "3.10.18"
  }
 },
 "nbformat": 4,
 "nbformat_minor": 5
}
