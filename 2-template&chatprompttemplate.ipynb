{
 "cells": [
  {
   "cell_type": "code",
   "execution_count": 2,
   "id": "fc813db0",
   "metadata": {},
   "outputs": [
    {
     "data": {
      "text/plain": [
       "True"
      ]
     },
     "execution_count": 2,
     "metadata": {},
     "output_type": "execute_result"
    }
   ],
   "source": [
    "import os\n",
    "from dotenv import load_dotenv\n",
    "load_dotenv()"
   ]
  },
  {
   "cell_type": "code",
   "execution_count": 9,
   "id": "a814ba09",
   "metadata": {},
   "outputs": [
    {
     "data": {
      "text/plain": [
       "AIMessage(content='As of now, the AP Metro Rail project is still in the planning and development stage. The Andhra Pradesh government has announced plans for various metro rail networks in cities like Visakhapatnam, Vijayawada, and Amaravati. The project is expected to help ease traffic congestion and provide a more efficient mode of transportation for residents.\\n\\nThe government is currently working on securing funding, finalizing route maps, and conducting feasibility studies for the project. Once these steps are complete, the construction and implementation of the metro rail networks will begin.\\n\\nOverall, the AP Metro Rail project is progressing slowly but steadily, and it is expected to be a significant infrastructure development for the state of Andhra Pradesh once completed.', additional_kwargs={'refusal': None}, response_metadata={'token_usage': {'completion_tokens': 142, 'prompt_tokens': 17, 'total_tokens': 159, 'completion_tokens_details': {'accepted_prediction_tokens': 0, 'audio_tokens': 0, 'reasoning_tokens': 0, 'rejected_prediction_tokens': 0}, 'prompt_tokens_details': {'audio_tokens': 0, 'cached_tokens': 0}}, 'model_name': 'gpt-3.5-turbo-0125', 'system_fingerprint': None, 'id': 'chatcmpl-BtAfgv1mfBWtErvNGLn8shPFOqKTt', 'service_tier': 'default', 'finish_reason': 'stop', 'logprobs': None}, id='run--9ef0abb6-1d74-41aa-b433-9e7d18137bf1-0', usage_metadata={'input_tokens': 17, 'output_tokens': 142, 'total_tokens': 159, 'input_token_details': {'audio': 0, 'cache_read': 0}, 'output_token_details': {'audio': 0, 'reasoning': 0}})"
      ]
     },
     "execution_count": 9,
     "metadata": {},
     "output_type": "execute_result"
    }
   ],
   "source": [
    "from langchain_openai import ChatOpenAI\n",
    "llm=ChatOpenAI()\n",
    "llm.invoke(\"what is the current situation of ap metro rail project\")"
   ]
  },
  {
   "cell_type": "code",
   "execution_count": 14,
   "id": "b688b728",
   "metadata": {},
   "outputs": [
    {
     "data": {
      "text/plain": [
       "\"The Andhra Pradesh Metro Rail Project, also known as the Visakhapatnam Metro Rail Project, is a proposed metro rail system for the city of Visakhapatnam, Andhra Pradesh, India. Here is the current situation of the project:\\n\\n**Project Status:**\\n\\nThe project is currently in the planning and development stage. The Andhra Pradesh Government has approved the Detailed Project Report (DPR) for the Visakhapatnam Metro Rail Project in 2020.\\n\\n**Project Details:**\\n\\n* The project will have a total length of 79.91 km, with three corridors:\\n\\t+ Corridor-1: 34.44 km (Gnanapuram to Kommadi)\\n\\t+ Corridor-2: 23.46 km (Gajuwaka to Kommadi)\\n\\t+ Corridor-3: 22.01 km (Rushikonda to Anakapalli)\\n* The project will have 54 stations, including 10 elevated stations and 44 underground stations.\\n* The estimated cost of the project is ₹22,877 crores (approximately USD 3.1 billion).\\n* The project is expected to be completed in 5 years from the start of construction.\\n\\n**Current Progress:**\\n\\n* The Andhra Pradesh Government has appointed Delhi Metro Rail Corporation (DMRC) as the General Consultant for the project.\\n* The DMRC has completed the geotechnical investigation and soil testing for the project.\\n* The tendering process for the civil works, electromechanical works, and rolling stock is currently underway.\\n* The Andhra Pradesh Government has also initiated the process of land acquisition for the project.\\n\\n**Challenges:**\\n\\n* The project has faced delays due to the COVID-19 pandemic and funding issues.\\n* The Andhra Pradesh Government has been struggling to secure funding for the project, with the central government reportedly not providing the expected support.\\n* The project has also faced opposition from local residents and environmental groups, who have raised concerns about the impact of the project on the city's ecosystem and heritage sites.\\n\\n**Next Steps:**\\n\\n* The Andhra Pradesh Government is expected to finalize the tenders for the civil works, electromechanical works, and rolling stock in the coming months.\\n* The project is expected to be launched in phases, with the first phase covering a distance of 30 km.\\n* The Andhra Pradesh Government is also planning to explore private sector participation and public-private partnership (PPP) models to fund the project.\\n\\nOverall, while the project has faced delays and challenges, the Andhra Pradesh Government is committed to completing the Visakhapatnam Metro Rail Project, which is expected to transform the city's transportation landscape and drive economic growth in the region.\""
      ]
     },
     "execution_count": 14,
     "metadata": {},
     "output_type": "execute_result"
    }
   ],
   "source": [
    "from langchain_groq import ChatGroq\n",
    "llm=ChatGroq(model=\"llama3-70b-8192\")\n",
    "llm.invoke(\"what is the current situation of ap metro rail project\").content"
   ]
  },
  {
   "cell_type": "code",
   "execution_count": 22,
   "id": "8dcd2a67",
   "metadata": {},
   "outputs": [
    {
     "name": "stdout",
     "output_type": "stream",
     "text": [
      "input_variables=['input'] input_types={} partial_variables={} messages=[SystemMessagePromptTemplate(prompt=PromptTemplate(input_variables=[], input_types={}, partial_variables={}, template='You are an expert doctor. Give appropriate answers for the questions.'), additional_kwargs={}), HumanMessagePromptTemplate(prompt=PromptTemplate(input_variables=['input'], input_types={}, partial_variables={}, template='{input}'), additional_kwargs={})]\n"
     ]
    }
   ],
   "source": [
    "from langchain_core.prompts import ChatPromptTemplate\n",
    "\n",
    "prompt = ChatPromptTemplate.from_messages([\n",
    "    (\"system\", \"You are an expert doctor. Give appropriate answers for the questions.\"),\n",
    "    (\"user\", \"{input}\")\n",
    "])\n",
    "\n",
    "print(prompt)\n"
   ]
  },
  {
   "cell_type": "code",
   "execution_count": 23,
   "id": "91b4fed9",
   "metadata": {},
   "outputs": [],
   "source": [
    "chain=prompt|llm"
   ]
  },
  {
   "cell_type": "code",
   "execution_count": 24,
   "id": "e7019ed7",
   "metadata": {},
   "outputs": [
    {
     "data": {
      "text/plain": [
       "AIMessage(content=\"As a doctor, I must advise that it's essential to diagnose the underlying cause of your knee pain before recommending any medication. Knee pain can be caused by various factors, such as ligament sprains, meniscal tears, tendinitis, bursitis, or osteoarthritis, among others.\\n\\nThat being said, assuming your knee pain is related to playing badminton, here are some possible causes and treatment options:\\n\\n**Possible Causes:**\\n\\n1. **Ligament sprain**: Overstretching or twisting of the ligaments surrounding the knee joint.\\n2. **Patellofemoral pain syndrome**: Pain in the front of the knee, usually around the kneecap, due to repetitive strain or overuse.\\n3. **Tendinitis**: Inflammation of the tendons, which connect muscles to bones.\\n\\n**Treatment Options:**\\n\\n1. **RICE therapy**: Rest, Ice, Compression, and Elevation to reduce pain and inflammation.\\n\\t* Rest: Avoid activities that exacerbate the pain.\\n\\t* Ice: Apply ice packs to the affected area for 15-20 minutes, 3-4 times a day.\\n\\t* Compression: Use an elastic bandage or knee sleeve to compress the area.\\n\\t* Elevation: Elevate your knee above the level of your heart to reduce swelling.\\n2. **Pain relievers**: Over-the-counter medications to reduce pain and inflammation.\\n\\t* **Acetaminophen** (Tylenol): 325-1000 mg, every 4-6 hours as needed.\\n\\t* **Nonsteroidal anti-inflammatory drugs (NSAIDs)**: Ibuprofen (Advil, Motrin) or Naproxen (Aleve) 200-400 mg, every 4-6 hours as needed.\\n3. **Topical creams or ointments**: To reduce pain and inflammation locally.\\n\\t* **Capsaicin cream** (0.025-0.075%): Apply 2-3 times a day.\\n\\t* **Topical NSAIDs** (e.g., diclofenac gel or cream): Apply 2-3 times a day.\\n\\n**Important:**\\n\\n* Always consult with a doctor or pharmacist before taking any medication, especially if you have a history of stomach problems, kidney disease, or allergies.\\n* If your symptoms persist or worsen, you should consult a doctor to rule out any underlying conditions that may require further treatment.\\n\\nIn addition to these treatment options, consider the following:\\n\\n* **Stretching and strengthening exercises**: Gentle exercises to improve knee flexibility and strength can help alleviate pain and prevent future injuries.\\n* **Proper warm-up and cool-down**: Always warm up before playing badminton and cool down afterwards to reduce the risk of injury.\\n* **Knee support**: Consider wearing a knee sleeve or brace to provide additional support and stability.\\n\\nRemember, if your symptoms persist or worsen, it's essential to consult a doctor for a proper evaluation and treatment plan.\", additional_kwargs={}, response_metadata={'token_usage': {'completion_tokens': 612, 'prompt_tokens': 44, 'total_tokens': 656, 'completion_time': 2.579420248, 'prompt_time': 0.001059661, 'queue_time': 0.06957862299999999, 'total_time': 2.580479909}, 'model_name': 'llama3-70b-8192', 'system_fingerprint': 'fp_dd4ae1c591', 'service_tier': 'on_demand', 'finish_reason': 'stop', 'logprobs': None}, id='run--99cf9d49-ecc3-4aff-ab86-01a0decc4917-0', usage_metadata={'input_tokens': 44, 'output_tokens': 612, 'total_tokens': 656})"
      ]
     },
     "execution_count": 24,
     "metadata": {},
     "output_type": "execute_result"
    }
   ],
   "source": [
    "chain.invoke({\"input\":\"i am facing severe knee pain due to playing badminton suggest me some medicine\"})"
   ]
  },
  {
   "cell_type": "code",
   "execution_count": 26,
   "id": "ba6fa5ad",
   "metadata": {},
   "outputs": [
    {
     "data": {
      "text/plain": [
       "StrOutputParser()"
      ]
     },
     "execution_count": 26,
     "metadata": {},
     "output_type": "execute_result"
    }
   ],
   "source": [
    "from langchain_core.output_parsers import StrOutputParser\n",
    "output_parser=StrOutputParser()\n",
    "output_parser"
   ]
  },
  {
   "cell_type": "code",
   "execution_count": 27,
   "id": "2069e994",
   "metadata": {},
   "outputs": [],
   "source": [
    "chain=prompt|llm|output_parser"
   ]
  },
  {
   "cell_type": "code",
   "execution_count": 28,
   "id": "a7429ed8",
   "metadata": {},
   "outputs": [
    {
     "data": {
      "text/plain": [
       "\"As an expert doctor, I must advise you that it's essential to consult a healthcare professional for a proper diagnosis and treatment plan. That being said, I can provide some general guidance.\\n\\nSevere knee pain due to playing badminton can be caused by various factors such as ligament sprains, muscle strains, tendonitis, or even osteoarthritis. Before recommending any medication, I would like to know more about your symptoms.\\n\\nCan you please tell me:\\n\\n1. How long have you been experiencing knee pain?\\n2. Is the pain localized to one knee or both?\\n3. Is the pain sharp, dull, or aching?\\n4. Are there any specific activities that exacerbate or relieve the pain?\\n5. Have you noticed any swelling, redness, or warmth around the knee?\\n\\nAssuming you've already taken some basic precautions like applying ice, compressing the area, elevating your knee, and taking regular breaks to rest, here are some over-the-counter (OTC) medications that may help alleviate knee pain:\\n\\n1. **Pain relievers**:\\n\\t* Acetaminophen (Tylenol): Effective for relieving pain, but not inflammation.\\n\\t* NSAIDs (Non-Steroidal Anti-Inflammatory Drugs) like Ibuprofen (Advil, Motrin) or Naproxen (Aleve): Help with pain and inflammation.\\n2. **Topical creams or gels**:\\n\\t* Capsaicin cream (e.g., Capzasin): Contains a natural ingredient that can help relieve pain by blocking the production of a chemical called substance P, which transmits pain signals to the brain.\\n\\t* Arthritis creams or gels containing ingredients like menthol, methyl salicylate, or trolamine salicylate may also provide relief.\\n\\nHowever, please keep in mind that these medications are only meant to provide temporary relief. It's essential to consult a doctor to determine the underlying cause of your knee pain and receive a proper diagnosis.\\n\\nAdditionally, consider the following:\\n\\n* Stretching and strengthening exercises can help alleviate knee pain and prevent future injuries.\\n* Wearing proper footwear and using knee supports or braces may also be beneficial.\\n* If your symptoms persist or worsen, you may need to consider consulting an orthopedic specialist or a sports medicine physician for further evaluation and treatment.\\n\\nRemember, I'm an expert doctor, but I'm not your personal doctor. Please consult a healthcare professional for a proper evaluation and personalized advice.\""
      ]
     },
     "execution_count": 28,
     "metadata": {},
     "output_type": "execute_result"
    }
   ],
   "source": [
    "chain.invoke({\"input\":\"i am facing severe knee pain due to playing badminton suggest me some medicine\"})"
   ]
  },
  {
   "cell_type": "code",
   "execution_count": 30,
   "id": "7888c4ca",
   "metadata": {},
   "outputs": [
    {
     "name": "stdout",
     "output_type": "stream",
     "text": [
      "input_variables=['query'] input_types={} partial_variables={} template='You are an expert AI engineer. Answer the question:\\n{query}'\n"
     ]
    }
   ],
   "source": [
    "from langchain_core.prompts import PromptTemplate\n",
    "\n",
    "prompt = PromptTemplate(\n",
    "    template=\"You are an expert AI engineer. Answer the question:\\n{query}\",\n",
    "    input_variables=[\"query\"]\n",
    ")\n",
    "\n",
    "print(prompt)\n"
   ]
  },
  {
   "cell_type": "code",
   "execution_count": 31,
   "id": "c65317b7",
   "metadata": {},
   "outputs": [],
   "source": [
    "chain=prompt|llm|output_parser"
   ]
  },
  {
   "cell_type": "code",
   "execution_count": 32,
   "id": "aaea05a2",
   "metadata": {},
   "outputs": [
    {
     "data": {
      "text/plain": [
       "\"I'm happy to help! As an AI engineer, I must clarify that I'm not a medical professional, and it's essential to consult a doctor for personalized advice on treating knee pain. That being said, I can provide some general information on common over-the-counter (OTC) medications and natural remedies that may help alleviate knee pain caused by playing badminton.\\n\\n**Before we dive in, please note:**\\n\\n1. If your knee pain is severe, sudden, or accompanied by swelling, redness, or difficulty moving your knee, seek immediate medical attention.\\n2. Always consult a doctor or pharmacist before taking any medication, especially if you have a pre-existing medical condition, take other medications, or have allergies.\\n\\nWith that said, here are some common OTC medications and natural remedies that may help with knee pain:\\n\\n**Over-the-Counter (OTC) Medications:**\\n\\n1. **Pain relievers:**\\n\\t* Acetaminophen (Tylenol): Effective for pain relief, but not anti-inflammatory.\\n\\t* Ibuprofen (Advil, Motrin): Reduces pain, inflammation, and swelling.\\n\\t* Naproxen (Aleve): Long-acting pain reliever and anti-inflammatory.\\n2. **Topical creams or gels:**\\n\\t* Capsaicin cream (e.g., Capzasin): Contains a natural pain reliever from chili peppers.\\n\\t* Arnica gel or cream: May help reduce pain and inflammation.\\n\\n**Natural Remedies:**\\n\\n1. **Rest, Ice, Compression, and Elevation (RICE):** This is a classic combination to reduce pain and inflammation.\\n2. **Stretching and exercise:** Gentle stretching and exercises can help improve knee flexibility and strength.\\n3. **Turmeric/Curcumin:** This natural anti-inflammatory compound has been shown to reduce pain and inflammation.\\n4. **Ginger:** Has anti-inflammatory properties that may help alleviate knee pain.\\n5. **Omega-3 fatty acids:** Found in fish oil supplements, these may help reduce inflammation.\\n\\n**Additional Tips:**\\n\\n1. **Take regular breaks:** During badminton games, take breaks to stretch and move around to reduce repetitive strain on your knees.\\n2. **Wear proper gear:** Ensure your shoes, knee guards, and other equipment fit correctly and provide adequate support.\\n3. **Strengthen your core and leg muscles:** This can help improve your overall stability and reduce the impact on your knees.\\n4. **Consider physical therapy:** A professional can help you develop a customized exercise program to improve your knee strength and flexibility.\\n\\nRemember, it's essential to consult a doctor or pharmacist before taking any medication or supplement, especially if you have a pre-existing medical condition or take other medications. They can provide personalized advice and help you determine the best course of treatment for your knee pain.\\n\\nFeel better soon, and happy badminton playing!\""
      ]
     },
     "execution_count": 32,
     "metadata": {},
     "output_type": "execute_result"
    }
   ],
   "source": [
    "chain.invoke({\"query\":\"i am facing severe knee pain due to playing badminton suggest me some medicine\"})"
   ]
  },
  {
   "cell_type": "code",
   "execution_count": 33,
   "id": "12937646",
   "metadata": {},
   "outputs": [
    {
     "data": {
      "text/plain": [
       "'Return a JSON object.'"
      ]
     },
     "execution_count": 33,
     "metadata": {},
     "output_type": "execute_result"
    }
   ],
   "source": [
    "from langchain_core.output_parsers import JsonOutputParser\n",
    "output_parser= JsonOutputParser()\n",
    "output_parser.get_format_instructions()"
   ]
  },
  {
   "cell_type": "code",
   "execution_count": 38,
   "id": "a506962c",
   "metadata": {},
   "outputs": [],
   "source": [
    "from langchain_core.prompts import PromptTemplate\n",
    "\n",
    "prompt = PromptTemplate(\n",
    "    template=\"You are an expert AI engineer. Answer the question:\\n{format_instructions} \\n {query}\",\n",
    "    input_variables=[\"query\"],\n",
    "    partial_variables={\"format_instructions\":output_parser.get_format_instructions}\n",
    ")\n",
    "\n",
    "\n"
   ]
  },
  {
   "cell_type": "code",
   "execution_count": 39,
   "id": "dda356f5",
   "metadata": {},
   "outputs": [
    {
     "data": {
      "text/plain": [
       "{'medications': [{'name': 'Ibuprofen',\n",
       "   'brand': 'Advil, Motrin',\n",
       "   'description': 'Reduces pain, inflammation, and fever'},\n",
       "  {'name': 'Acetaminophen',\n",
       "   'brand': 'Tylenol',\n",
       "   'description': 'Relieves pain and reduces fever'},\n",
       "  {'name': 'Naproxen',\n",
       "   'brand': 'Aleve',\n",
       "   'description': 'Reduces pain, inflammation, and fever'}],\n",
       " 'homeRemedies': [{'name': 'RICE',\n",
       "   'description': 'Rest, Ice, Compression, and Elevation to reduce pain and inflammation'},\n",
       "  {'name': 'Stretching',\n",
       "   'description': ' Gentle stretching exercises to improve flexibility and reduce stiffness'},\n",
       "  {'name': 'Compression Wrap',\n",
       "   'description': 'Wearing a compression wrap or bandage to reduce swelling'}],\n",
       " 'additionalTips': [{'tip': 'Take regular breaks to rest and stretch during badminton games'},\n",
       "  {'tip': 'Wear proper knee support and cushioning during play'},\n",
       "  {'tip': 'Maintain a healthy weight to reduce pressure on your knees'}]}"
      ]
     },
     "execution_count": 39,
     "metadata": {},
     "output_type": "execute_result"
    }
   ],
   "source": [
    "chain=prompt|llm|output_parser\n",
    "chain.invoke({\"query\":\"i am facing severe knee pain due to playing badminton suggest me some medicine\"})"
   ]
  },
  {
   "cell_type": "code",
   "execution_count": 40,
   "id": "a159b551",
   "metadata": {},
   "outputs": [
    {
     "data": {
      "text/plain": [
       "ChatPromptTemplate(input_variables=['input'], input_types={}, partial_variables={}, messages=[SystemMessagePromptTemplate(prompt=PromptTemplate(input_variables=[], input_types={}, partial_variables={}, template='You are an expert AI Engineer.<response><answer>Your answer here</answer></response>.Provide me answer based on the question'), additional_kwargs={}), HumanMessagePromptTemplate(prompt=PromptTemplate(input_variables=['input'], input_types={}, partial_variables={}, template='{input}'), additional_kwargs={})])"
      ]
     },
     "execution_count": 40,
     "metadata": {},
     "output_type": "execute_result"
    }
   ],
   "source": [
    "### OutputParser\n",
    "from langchain_core.output_parsers import XMLOutputParser\n",
    "output_parser=XMLOutputParser()\n",
    "from langchain_core.prompts import ChatPromptTemplate\n",
    "\n",
    "prompt=ChatPromptTemplate.from_messages(\n",
    "    [\n",
    "        (\"system\",\"You are an expert AI Engineer.<response><answer>Your answer here</answer></response>.Provide me answer based on the question\"),\n",
    "        (\"user\",\"{input}\")\n",
    "    ]\n",
    ")\n",
    "prompt"
   ]
  },
  {
   "cell_type": "code",
   "execution_count": 41,
   "id": "b6318acb",
   "metadata": {},
   "outputs": [
    {
     "data": {
      "text/plain": [
       "PromptTemplate(input_variables=['query'], input_types={}, partial_variables={'format_instruction': 'The output should be formatted as a XML file.\\n1. Output should conform to the tags below.\\n2. If tags are not given, make them on your own.\\n3. Remember to always open and close all the tags.\\n\\nAs an example, for the tags [\"foo\", \"bar\", \"baz\"]:\\n1. String \"<foo>\\n   <bar>\\n      <baz></baz>\\n   </bar>\\n</foo>\" is a well-formatted instance of the schema.\\n2. String \"<foo>\\n   <bar>\\n   </foo>\" is a badly-formatted instance.\\n3. String \"<foo>\\n   <tag>\\n   </tag>\\n</foo>\" is a badly-formatted instance.\\n\\nHere are the output tags:\\n```\\nNone\\n```'}, template='Answer the user query \\n {format_instruction}\\n {query}\\n ')"
      ]
     },
     "execution_count": 41,
     "metadata": {},
     "output_type": "execute_result"
    }
   ],
   "source": [
    "### OutputParser\n",
    "from langchain_core.output_parsers import XMLOutputParser\n",
    "from langchain_core.prompts import PromptTemplate\n",
    "\n",
    "output_parser=XMLOutputParser()\n",
    "\n",
    "prompt=PromptTemplate(\n",
    "    template=\"Answer the user query \\n {format_instruction}\\n {query}\\n \",\n",
    "    input_variables=[\"query\"],\n",
    "    partial_variables={\"format_instruction\":output_parser.get_format_instructions()},\n",
    ")\n",
    "prompt"
   ]
  },
  {
   "cell_type": "code",
   "execution_count": 43,
   "id": "2981438a",
   "metadata": {},
   "outputs": [
    {
     "name": "stdout",
     "output_type": "stream",
     "text": [
      "content=\"Here is the XML output:\\n\\n```\\n<information>\\n  <query>\\n    <request>Can you tell me about Langsmith?</request>\\n  </query>\\n  <response>\\n    <answer>I'm not familiar with Langsmith. Could you please provide more context or information about what Langsmith is or refers to?</answer>\\n  </response>\\n</information>\\n```\\n\\nLet me know if this meets your requirements!\" additional_kwargs={} response_metadata={'token_usage': {'completion_tokens': 86, 'prompt_tokens': 176, 'total_tokens': 262, 'completion_time': 0.374187987, 'prompt_time': 0.005198859, 'queue_time': 0.05345779, 'total_time': 0.379386846}, 'model_name': 'llama3-70b-8192', 'system_fingerprint': 'fp_dd4ae1c591', 'service_tier': 'on_demand', 'finish_reason': 'stop', 'logprobs': None} id='run--89f3369a-bc14-477b-a058-371dc592e89e-0' usage_metadata={'input_tokens': 176, 'output_tokens': 86, 'total_tokens': 262}\n"
     ]
    }
   ],
   "source": [
    "chain=prompt|llm\n",
    "response=chain.invoke({\"query\":\"Can you tell me about Langsmith?\"})\n",
    "print(response)"
   ]
  },
  {
   "cell_type": "code",
   "execution_count": 45,
   "id": "56cfa6ab",
   "metadata": {},
   "outputs": [
    {
     "name": "stdout",
     "output_type": "stream",
     "text": [
      "content=\"<response><answer>LangChain is an AI model that combines large language models with chain-of-thought prompting to generate more accurate and step-by-step solutions to complex problems. It's a type of artificial intelligence designed to improve the reasoning and problem-solving abilities of language models, making them more human-like and effective in tackling multi-step tasks. By breaking down complex problems into smaller, more manageable steps, LangChain enables language models to provide more transparent, interpretable, and correct answers. This technology has applications in various domains, including education, research, and decision-making.</answer></response>\" additional_kwargs={} response_metadata={'token_usage': {'completion_tokens': 119, 'prompt_tokens': 44, 'total_tokens': 163, 'completion_time': 0.510798198, 'prompt_time': 0.000999553, 'queue_time': 0.052504767, 'total_time': 0.511797751}, 'model_name': 'llama3-70b-8192', 'system_fingerprint': 'fp_dd4ae1c591', 'service_tier': 'on_demand', 'finish_reason': 'stop', 'logprobs': None} id='run--a36896a8-6bd1-4ab4-bfc9-cb41952a664c-0' usage_metadata={'input_tokens': 44, 'output_tokens': 119, 'total_tokens': 163}\n"
     ]
    }
   ],
   "source": [
    "##output parser\n",
    "#from langchain_core.output_parsers import XMLOutputParser\n",
    "from langchain.output_parsers.xml import XMLOutputParser\n",
    "\n",
    "# XML Output Parser\n",
    "output_parser = XMLOutputParser()\n",
    "\n",
    "# Prompt that instructs the model to return XML\n",
    "prompt = ChatPromptTemplate.from_messages([\n",
    "    (\"system\", \"You are a helpful assistant. Respond in this XML format: <response><answer>Your answer here</answer></response>\"),\n",
    "    (\"human\", \"{input}\")\n",
    "])\n",
    "\n",
    "# Build the chain\n",
    "chain = prompt | llm\n",
    "\n",
    "# Run the chain\n",
    "#response = chain.invoke({\"input\": \"What is LangChain?\"})\n",
    "\n",
    "raw_output =chain.invoke({\"input\": \"What is LangChain?\"})\n",
    "\n",
    "# Print result\n",
    "print(raw_output)\n"
   ]
  },
  {
   "cell_type": "code",
   "execution_count": 46,
   "id": "2d4b0dfa",
   "metadata": {},
   "outputs": [
    {
     "data": {
      "text/plain": [
       "{'setup': \"Why couldn't the bicycle stand up by itself?\",\n",
       " 'punchline': 'Because it was two tired!'}"
      ]
     },
     "execution_count": 46,
     "metadata": {},
     "output_type": "execute_result"
    }
   ],
   "source": [
    "## With Pydantic\n",
    "from langchain_core.output_parsers import JsonOutputParser\n",
    "from langchain_core.prompts import PromptTemplate\n",
    "from langchain_openai import ChatOpenAI\n",
    "from pydantic import BaseModel, Field\n",
    "\n",
    "model = ChatOpenAI(temperature=0.7)\n",
    "\n",
    "\n",
    "# Define your desired data structure.\n",
    "class Joke(BaseModel):\n",
    "    setup: str = Field(description=\"question to set up a joke\")\n",
    "    punchline: str = Field(description=\"answer to resolve the joke\")\n",
    "\n",
    "\n",
    "# And a query intented to prompt a language model to populate the data structure.\n",
    "joke_query = \"Tell me a joke.\"\n",
    "\n",
    "# Set up a parser + inject instructions into the prompt template.\n",
    "parser = JsonOutputParser(pydantic_object=Joke)\n",
    "\n",
    "prompt = PromptTemplate(\n",
    "    template=\"Answer the user query.\\n{format_instructions}\\n{query}\\n\",\n",
    "    input_variables=[\"query\"],\n",
    "    partial_variables={\"format_instructions\": parser.get_format_instructions()},\n",
    ")\n",
    "\n",
    "chain = prompt | model | parser\n",
    "\n",
    "chain.invoke({\"query\": joke_query})"
   ]
  },
  {
   "cell_type": "code",
   "execution_count": 47,
   "id": "c5fff46b",
   "metadata": {},
   "outputs": [
    {
     "data": {
      "text/plain": [
       "{'joke': \"Why don't scientists trust atoms? Because they make up everything!\"}"
      ]
     },
     "execution_count": 47,
     "metadata": {},
     "output_type": "execute_result"
    }
   ],
   "source": [
    "### Without Pydantic\n",
    "joke_query = \"Tell me a joke .\"\n",
    "\n",
    "parser = JsonOutputParser()\n",
    "\n",
    "prompt = PromptTemplate(\n",
    "    template=\"Answer the user query.\\n{format_instructions}\\n{query}\\n\",\n",
    "    input_variables=[\"query\"],\n",
    "    partial_variables={\"format_instructions\": parser.get_format_instructions()},\n",
    ")\n",
    "\n",
    "chain = prompt | model | parser\n",
    "\n",
    "chain.invoke({\"query\": joke_query})"
   ]
  },
  {
   "cell_type": "code",
   "execution_count": 48,
   "id": "45c36372",
   "metadata": {},
   "outputs": [
    {
     "name": "stdout",
     "output_type": "stream",
     "text": [
      "<movie>Big</movie>\n",
      "<movie>A League of Their Own</movie>\n",
      "<movie>Forrest Gump</movie>\n",
      "<movie>Saving Private Ryan</movie>\n",
      "<movie>The Green Mile</movie>\n",
      "<movie>Cast Away</movie>\n",
      "<movie>The Da Vinci Code</movie>\n",
      "<movie>Toy Story (franchise)</movie>\n",
      "<movie>Sully</movie>\n",
      "<movie>News of the World</movie>\n"
     ]
    }
   ],
   "source": [
    "\n",
    "from langchain_core.output_parsers import XMLOutputParser\n",
    "from langchain_core.prompts import PromptTemplate\n",
    "\n",
    "\n",
    "actor_query = \"Generate the shortened filmography for Tom Hanks.\"\n",
    "\n",
    "output = model.invoke(\n",
    "    f\"\"\"{actor_query}\n",
    "Please enclose the movies in <movie></movie> tags\"\"\"\n",
    ")\n",
    "\n",
    "print(output.content)"
   ]
  },
  {
   "cell_type": "code",
   "execution_count": 49,
   "id": "0ca0faa1",
   "metadata": {},
   "outputs": [
    {
     "data": {
      "text/plain": [
       "Joke(setup='Why did the scarecrow win an award?', punchline='Because he was outstanding in his field!')"
      ]
     },
     "execution_count": 49,
     "metadata": {},
     "output_type": "execute_result"
    }
   ],
   "source": [
    "from langchain.output_parsers import YamlOutputParser\n",
    "from langchain_core.prompts import PromptTemplate\n",
    "from langchain_openai import ChatOpenAI\n",
    "from pydantic import BaseModel, Field\n",
    "\n",
    "\n",
    "# Define your desired data structure.\n",
    "class Joke(BaseModel):\n",
    "    setup: str = Field(description=\"question to set up a joke\")\n",
    "    punchline: str = Field(description=\"answer to resolve the joke\")\n",
    "\n",
    "\n",
    "model = ChatOpenAI(temperature=0.5)\n",
    "\n",
    "# And a query intented to prompt a language model to populate the data structure.\n",
    "joke_query = \"Tell me a joke.\"\n",
    "\n",
    "# Set up a parser + inject instructions into the prompt template.\n",
    "parser = YamlOutputParser(pydantic_object=Joke)\n",
    "\n",
    "prompt = PromptTemplate(\n",
    "    template=\"Answer the user query.\\n{format_instructions}\\n{query}\\n\",\n",
    "    input_variables=[\"query\"],\n",
    "    partial_variables={\"format_instructions\": parser.get_format_instructions()},\n",
    ")\n",
    "\n",
    "chain = prompt | model | parser\n",
    "\n",
    "chain.invoke({\"query\": joke_query})"
   ]
  },
  {
   "cell_type": "code",
   "execution_count": 51,
   "id": "8e623796",
   "metadata": {},
   "outputs": [
    {
     "name": "stdout",
     "output_type": "stream",
     "text": [
      "\n",
      "Raw Response:\n",
      " name: PlayStation 5\n",
      "details: The PlayStation 5 is a next-generation gaming console developed by Sony Interactive Entertainment, featuring improved graphics, faster loading times, and immersive gameplay.\n",
      "price: 399\n",
      "\n",
      "Parsed Result:\n",
      " name='PlayStation 5' details='The PlayStation 5 is a next-generation gaming console developed by Sony Interactive Entertainment, featuring improved graphics, faster loading times, and immersive gameplay.' price=399\n"
     ]
    }
   ],
   "source": [
    "from pydantic import BaseModel, Field\n",
    "from langchain_core.prompts import ChatPromptTemplate\n",
    "from langchain_groq import ChatGroq  # Or use from langchain_openai import ChatOpenAI\n",
    "import os\n",
    "from dotenv import load_dotenv\n",
    "\n",
    "load_dotenv()\n",
    "\n",
    "# Setup LLM (Groq or OpenAI)\n",
    "llm = ChatGroq(model=\"llama3-8b-8192\")  # replace with ChatOpenAI(model=\"gpt-3.5-turbo\") if needed\n",
    "\n",
    "# Define Pydantic schema\n",
    "class ProductInfo(BaseModel):\n",
    "    name: str = Field(..., description=\"Name of the product\")\n",
    "    details: str = Field(..., description=\"Short description of the product\")\n",
    "    price: int = Field(..., description=\"Tentative price in USD\")\n",
    "\n",
    "# Create prompt template\n",
    "prompt = ChatPromptTemplate.from_template(\n",
    "    \"\"\"\n",
    "    You are a helpful assistant. When given a product name, provide the following:\n",
    "    - Product name\n",
    "    - A short product description\n",
    "    - A tentative price in USD (as an integer only)\n",
    "\n",
    "    Product: {product_name}\n",
    "    \n",
    "    Format the answer strictly as:\n",
    "    name: <product name>\n",
    "    details: <short description>\n",
    "    price: <integer price>\n",
    "    \"\"\"\n",
    ")\n",
    "\n",
    "# Ask user\n",
    "user_input = \"PlayStation 5\"\n",
    "formatted_prompt = prompt.format_messages(product_name=user_input)\n",
    "\n",
    "# Get LLM response\n",
    "response = llm.invoke(formatted_prompt)\n",
    "print(\"\\nRaw Response:\\n\", response.content)\n",
    "\n",
    "# Parse with Pydantic\n",
    "def parse_response(text: str) -> ProductInfo:\n",
    "    lines = text.strip().split('\\n')\n",
    "    data = {}\n",
    "    for line in lines:\n",
    "        if ':' in line:\n",
    "            key, val = line.split(':', 1)\n",
    "            data[key.strip()] = val.strip()\n",
    "    return ProductInfo(**data)\n",
    "\n",
    "product_info = parse_response(response.content)\n",
    "\n",
    "\n",
    "print(\"\\nParsed Result:\\n\", product_info)\n"
   ]
  },
  {
   "cell_type": "code",
   "execution_count": null,
   "id": "df1f3a37",
   "metadata": {},
   "outputs": [],
   "source": []
  }
 ],
 "metadata": {
  "kernelspec": {
   "display_name": "july14env",
   "language": "python",
   "name": "python3"
  },
  "language_info": {
   "codemirror_mode": {
    "name": "ipython",
    "version": 3
   },
   "file_extension": ".py",
   "mimetype": "text/x-python",
   "name": "python",
   "nbconvert_exporter": "python",
   "pygments_lexer": "ipython3",
   "version": "3.11.11"
  }
 },
 "nbformat": 4,
 "nbformat_minor": 5
}
